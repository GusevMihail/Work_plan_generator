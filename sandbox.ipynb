{
 "cells": [
  {
   "cell_type": "markdown",
   "source": [
    "# Init & parsing\n"
   ],
   "metadata": {
    "collapsed": false
   }
  },
  {
   "cell_type": "code",
   "execution_count": 1,
   "metadata": {
    "collapsed": true,
    "pycharm": {
     "is_executing": false
    }
   },
   "outputs": [],
   "source": [
    "from collections import Counter\n",
    "from application import *\n",
    "from pre_processing import Job, Systems, Objects \n",
    "import statistics\n",
    "import numpy as np\n",
    "import matplotlib.pyplot as plt\n",
    "from journal import Journal, JournalASU, jobs_to_df\n",
    "%matplotlib inline\n",
    "\n",
    "%load_ext autoreload\n",
    "%autoreload 2"
   ]
  },
  {
   "cell_type": "code",
   "execution_count": 7,
   "outputs": [
    {
     "name": "stdout",
     "text": [
      "folder: .\\input data\\SAKE\n",
      "558\n"
     ],
     "output_type": "stream"
    }
   ],
   "source": [
    "jobs = []\n",
    "jobs.extend(process_files(r'.\\input data\\SAKE', all_visible_sheets, works_parser.ParserSake))\n",
    "# jobs.extend(process_files(r'.\\input data\\1', all_visible_sheets, works_parser.ParserSake)) # tests\n",
    "# jobs.extend(process_files(r'.\\input data\\АСУ', find_sheets_asu, works_parser.ParserAsu))\n",
    "# jobs.extend(process_files(r'.\\input data\\ВОЛС', all_visible_sheets, works_parser.ParserVols))\n",
    "# jobs.extend(process_files(r'.\\input data\\Телеканал', find_sheets_vols, works_parser.ParserTk))\n",
    "# jobs.extend(process_files(r'.\\input data\\АИИСКУЭ', find_sheets_vols, works_parser.ParserAskueSake))\n",
    "# jobs.extend(process_files(r'.\\input data\\АИИСКУЭ', find_sheets_vols, works_parser.ParserAskue))\n",
    "# jobs.extend(process_files(r'.\\input data\\Тех.учет', find_sheets_vols, works_parser.ParserTechReg))\n",
    "print(len(jobs))"
   ],
   "metadata": {
    "collapsed": false,
    "pycharm": {
     "name": "#%%\n",
     "is_executing": false
    }
   }
  },
  {
   "cell_type": "code",
   "execution_count": null,
   "outputs": [],
   "source": [
    "make_xlsx_from_jobs(jobs)"
   ],
   "metadata": {
    "collapsed": false,
    "pycharm": {
     "name": "#%%\n",
     "is_executing": true
    }
   }
  },
  {
   "cell_type": "code",
   "execution_count": 8,
   "outputs": [],
   "source": [
    "stats = Counter((j.system, j.object)for j in jobs)    \n",
    "# print(stats)"
   ],
   "metadata": {
    "collapsed": false,
    "pycharm": {
     "name": "#%%\n",
     "is_executing": false
    }
   }
  },
  {
   "cell_type": "code",
   "execution_count": 9,
   "outputs": [
    {
     "data": {
      "text/plain": "<Figure size 432x288 with 2 Axes>",
      "image/png": "[encoded data removed]"
     },
     "metadata": {
      "needs_background": "light"
     },
     "output_type": "display_data"
    }
   ],
   "source": [
    "statistics.visualize_statistics(stats)"
   ],
   "metadata": {
    "collapsed": false,
    "pycharm": {
     "name": "#%%\n",
     "is_executing": false
    }
   }
  },
  {
   "cell_type": "code",
   "execution_count": 5,
   "outputs": [
    {
     "name": "stdout",
     "text": [
      "Systems.ASU_TP   , Objects.V1      - 7    \n",
      "Systems.ASU_TP   , Objects.V2      - 7    \n",
      "Systems.ASU_TP   , Objects.S1      - 24   \n",
      "Systems.ASU_TP   , Objects.ZU      - 7    \n",
      "Systems.ASU_TP   , Objects.V3      - 7    \n",
      "Systems.ASU_TP   , Objects.S2      - 13   \n",
      "Systems.ASU_TP   , Objects.V4      - 7    \n",
      "Systems.ASU_TP   , Objects.V5      - 7    \n",
      "Systems.ASU_TP   , Objects.V6      - 7    \n",
      "Systems.ASU_I    , Objects.S1      - 72   \n",
      "Systems.ASU_I    , Objects.ZU      - 37   \n",
      "Systems.ASU_I    , Objects.S2      - 42   \n",
      "Systems.LVS      , Objects.V1      - 1    \n",
      "Systems.LVS      , Objects.V2      - 1    \n",
      "Systems.LVS      , Objects.S1      - 12   \n",
      "Systems.LVS      , Objects.ZU      - 1    \n",
      "Systems.LVS      , Objects.V3      - 1    \n",
      "Systems.LVS      , Objects.S2      - 5    \n",
      "Systems.LVS      , Objects.V4      - 1    \n",
      "Systems.LVS      , Objects.V5      - 1    \n",
      "Systems.LVS      , Objects.V6      - 1    \n",
      "Systems.ASU_AM   , Objects.S2      - 11   \n"
     ],
     "output_type": "stream"
    }
   ],
   "source": [
    "for (xlabel, ylabel), count in stats.items():\n",
    "    print(f'{str(xlabel).ljust(17)}, {str(ylabel).ljust(15)} - {str(count).ljust(5)}')"
   ],
   "metadata": {
    "collapsed": false,
    "pycharm": {
     "name": "#%%\n",
     "is_executing": false
    }
   }
  },
  {
   "cell_type": "markdown",
   "source": [
    "# Tests"
   ],
   "metadata": {
    "collapsed": false
   }
  },
  {
   "cell_type": "markdown",
   "source": [
    "ASU test\n"
   ],
   "metadata": {
    "collapsed": false
   }
  },
  {
   "cell_type": "code",
   "execution_count": 10,
   "outputs": [
    {
     "name": "stdout",
     "text": [
      "all ASU/LVS tests is complete\n"
     ],
     "output_type": "stream"
    }
   ],
   "source": [
    "assert stats[(Systems.ASU_TP, Objects.S1)] > 0\n",
    "assert stats[(Systems.ASU_TP, Objects.S2)] > 0\n",
    "assert stats[(Systems.ASU_TP, Objects.V1)] > 0\n",
    "assert stats[(Systems.ASU_TP, Objects.V2)] > 0\n",
    "assert stats[(Systems.ASU_TP, Objects.V3)] > 0\n",
    "assert stats[(Systems.ASU_TP, Objects.V4)] > 0\n",
    "assert stats[(Systems.ASU_TP, Objects.V5)] > 0\n",
    "assert stats[(Systems.ASU_TP, Objects.V6)] > 0\n",
    "# assert stats[(Systems.ASU_TP, Objects.ZU)] > 0\n",
    "\n",
    "assert stats[(Systems.ASU_I, Objects.S1)] > 0\n",
    "assert stats[(Systems.ASU_I, Objects.S2)] > 0\n",
    "# assert stats[(Systems.ASU_I, Objects.ZU)] > 0\n",
    "\n",
    "assert stats[(Systems.ASU_AM, Objects.S2)] > 0\n",
    "\n",
    "assert stats[(Systems.LVS, Objects.S1)] > 0\n",
    "assert stats[(Systems.LVS, Objects.S2)] > 0\n",
    "assert stats[(Systems.LVS, Objects.V1)] > 0\n",
    "assert stats[(Systems.LVS, Objects.V2)] > 0\n",
    "assert stats[(Systems.LVS, Objects.V3)] > 0\n",
    "assert stats[(Systems.LVS, Objects.V4)] > 0\n",
    "assert stats[(Systems.LVS, Objects.V5)] > 0\n",
    "assert stats[(Systems.LVS, Objects.V6)] > 0\n",
    "# assert stats[(Systems.LVS, Objects.ZU)] > 0\n",
    "\n",
    "print('all ASU/LVS tests is complete')"
   ],
   "metadata": {
    "collapsed": false,
    "pycharm": {
     "name": "#%%\n",
     "is_executing": false
    }
   }
  },
  {
   "cell_type": "markdown",
   "source": [
    "VOLS test"
   ],
   "metadata": {
    "collapsed": false
   }
  },
  {
   "cell_type": "code",
   "execution_count": 11,
   "outputs": [
    {
     "name": "stdout",
     "text": [
      "all VOLS tests is complete\n"
     ],
     "output_type": "stream"
    }
   ],
   "source": [
    "assert stats[(Systems.VOLS, Objects.ZU)] > 0\n",
    "assert stats[(Systems.VOLS, Objects.PS360)] > 0\n",
    "assert stats[(Systems.VOLS, Objects.S2)] > 0\n",
    "assert stats[(Systems.VOLS, Objects.S1)] > 0\n",
    "\n",
    "print('all VOLS tests is complete')"
   ],
   "metadata": {
    "collapsed": false,
    "pycharm": {
     "name": "#%%\n",
     "is_executing": false
    }
   }
  },
  {
   "cell_type": "markdown",
   "source": [
    "TK test"
   ],
   "metadata": {
    "collapsed": false
   }
  },
  {
   "cell_type": "code",
   "execution_count": 12,
   "outputs": [
    {
     "name": "stdout",
     "text": [
      "all TK tests is complete\n"
     ],
     "output_type": "stream"
    }
   ],
   "source": [
    "assert stats[(Systems.TK, Objects.ZU)] > 0\n",
    "assert stats[(Systems.TK, Objects.PS360)] > 0\n",
    "assert stats[(Systems.TK, Objects.S2)] > 0\n",
    "assert stats[(Systems.TK, Objects.S1)] > 0\n",
    "\n",
    "print('all TK tests is complete')"
   ],
   "metadata": {
    "collapsed": false,
    "pycharm": {
     "name": "#%%\n",
     "is_executing": false
    }
   }
  },
  {
   "cell_type": "markdown",
   "source": [
    "ASKUE test"
   ],
   "metadata": {
    "collapsed": false
   }
  },
  {
   "cell_type": "code",
   "execution_count": 13,
   "outputs": [
    {
     "name": "stdout",
     "text": [
      "all ASKUE tests is complete\n"
     ],
     "output_type": "stream"
    }
   ],
   "source": [
    "assert stats[(Systems.ASKUE, Objects.ZU)] > 0\n",
    "assert stats[(Systems.ASKUE, Objects.PS360)] > 0\n",
    "# assert stats[(Systems.ASKUE, Objects.PS223)] > 0\n",
    "assert stats[(Systems.ASKUE, Objects.S2)] > 0\n",
    "assert stats[(Systems.ASKUE, Objects.S1)] > 0\n",
    "\n",
    "print('all ASKUE tests is complete')"
   ],
   "metadata": {
    "collapsed": false,
    "pycharm": {
     "name": "#%%\n",
     "is_executing": false
    }
   }
  },
  {
   "cell_type": "markdown",
   "source": [
    "TECH_REG test"
   ],
   "metadata": {
    "collapsed": false
   }
  },
  {
   "cell_type": "code",
   "execution_count": 14,
   "outputs": [
    {
     "name": "stdout",
     "text": [
      "all TECH_REG tests is complete\n"
     ],
     "output_type": "stream"
    }
   ],
   "source": [
    "assert stats[(Systems.TECH_REG, Objects.PS360)] > 0\n",
    "assert stats[(Systems.TECH_REG, Objects.S2)] > 0\n",
    "assert stats[(Systems.TECH_REG, Objects.S1)] > 0\n",
    "\n",
    "print('all TECH_REG tests is complete')"
   ],
   "metadata": {
    "collapsed": false,
    "pycharm": {
     "name": "#%%\n",
     "is_executing": false
    }
   }
  },
  {
   "cell_type": "markdown",
   "source": [
    "# Journals generator"
   ],
   "metadata": {
    "collapsed": false
   }
  },
  {
   "cell_type": "code",
   "execution_count": 15,
   "outputs": [],
   "source": [
    "from journal import Journal, JournalASU, JournalASKUE, jobs_to_df, batch_journal_generator\n",
    "from config_journals import batch_ASU_journals, batch_ASKUE_journals\n"
   ],
   "metadata": {
    "collapsed": false,
    "pycharm": {
     "name": "#%%\n",
     "is_executing": false
    }
   }
  },
  {
   "cell_type": "code",
   "execution_count": 16,
   "outputs": [],
   "source": [
    "df_jobs = jobs_to_df(jobs)"
   ],
   "metadata": {
    "collapsed": false,
    "pycharm": {
     "name": "#%%\n",
     "is_executing": false
    }
   }
  },
  {
   "cell_type": "code",
   "execution_count": 17,
   "outputs": [
    {
     "data": {
      "text/plain": "{'АСУ ТП С1 Север': <journal.JournalASU at 0xb68030>,\n 'АСУ ТП С1 Юг': <journal.JournalASU at 0xfd92f0>,\n 'АСУ ТП С2 Север': <journal.JournalASU at 0xfcd4f0>,\n 'АСУ ТП С2 Юг': <journal.JournalASU at 0xf6deb0>,\n 'АСУ ТП В1': <journal.JournalASU at 0xb9b090>,\n 'АСУ ТП В2': <journal.JournalASU at 0xfd94d0>,\n 'АСУ ТП В3': <journal.JournalASU at 0xfa9f10>,\n 'АСУ ТП В4': <journal.JournalASU at 0xfa96f0>,\n 'АСУ ТП В5': <journal.JournalASU at 0xfa9db0>,\n 'АСУ ТП В6': <journal.JournalASU at 0xf6dcf0>,\n 'АСУ ТП ЗУ': <journal.JournalASU at 0xf6d910>,\n 'АСУ АМ С2': <journal.JournalASU at 0xf4b170>,\n 'АСУ И С1 Север': <journal.JournalASU at 0xf5ec30>,\n 'АСУ И С1 Юг': <journal.JournalASU at 0xf5bb50>,\n 'АСУ И С2 Север': <journal.JournalASU at 0xf30090>,\n 'АСУ И С2 Юг': <journal.JournalASU at 0xf9c2d0>,\n 'АСУ И ЗУ': <journal.JournalASU at 0xf807b0>,\n 'АИИСКУЕ 2': <journal.JournalASU at 0xd635af0>,\n 'Тех Учет 2': <journal.JournalASU at 0xf5ba30>,\n 'ВОЛС': <journal.JournalASU at 0xfcd770>,\n 'ТК М2': <journal.JournalASU at 0xd643990>}"
     },
     "metadata": {},
     "output_type": "execute_result",
     "execution_count": 17
    }
   ],
   "source": [
    "batch_journal_generator(df_jobs, JournalASU, batch_ASU_journals)\n"
   ],
   "metadata": {
    "collapsed": false,
    "pycharm": {
     "name": "#%%\n",
     "is_executing": false
    }
   }
  },
  {
   "cell_type": "code",
   "execution_count": 18,
   "outputs": [
    {
     "data": {
      "text/plain": "{'АИИСКУЕ': <journal.JournalASKUE at 0xd643330>,\n 'Тех Учет': <journal.JournalASKUE at 0xfd9790>,\n 'ЛВС': <journal.JournalASKUE at 0xd47b650>}"
     },
     "metadata": {},
     "output_type": "execute_result",
     "execution_count": 18
    }
   ],
   "source": [
    "batch_journal_generator(df_jobs, JournalASKUE, batch_ASKUE_journals)"
   ],
   "metadata": {
    "collapsed": false,
    "pycharm": {
     "name": "#%%\n",
     "is_executing": false
    }
   }
  },
  {
   "cell_type": "markdown",
   "source": [
    "## email sending"
   ],
   "metadata": {
    "collapsed": false
   }
  },
  {
   "cell_type": "code",
   "execution_count": 19,
   "outputs": [],
   "source": [
    "import config_email, email_processing\n",
    "import os\n",
    "from application import get_xlsx_files"
   ],
   "metadata": {
    "collapsed": false,
    "pycharm": {
     "name": "#%%\n",
     "is_executing": false
    }
   }
  },
  {
   "cell_type": "code",
   "execution_count": 20,
   "outputs": [
    {
     "name": "stdout",
     "text": [
      "EKushmilev@bcc.ru ('АСУ И С1',) ['20 04 АСУ И С1 Север.xlsx', '20 04 АСУ И С1 Юг.xlsx']\n",
      "NMulin@bcc.ru ('АСУ ТП С1',) ['20 04 АСУ ТП С1 Север.xlsx', '20 04 АСУ ТП С1 Юг.xlsx']\n",
      "VMakarov@bcc.ru ('С2', 'АМ', 'ЗУ') ['20 04 АСУ АМ С2.xlsx', '20 04 АСУ И ЗУ.xlsx', '20 04 АСУ И С2 Север.xlsx', '20 04 АСУ И С2 Юг.xlsx', '20 04 АСУ ТП ЗУ.xlsx', '20 04 АСУ ТП С2 Север.xlsx', '20 04 АСУ ТП С2 Юг.xlsx']\n",
      "MKokoev@bcc.ru ('В1', 'В2', 'В3', 'В4', 'В5', 'В6') ['20 04 АСУ ТП В1.xlsx', '20 04 АСУ ТП В2.xlsx', '20 04 АСУ ТП В3.xlsx', '20 04 АСУ ТП В4.xlsx', '20 04 АСУ ТП В5.xlsx', '20 04 АСУ ТП В6.xlsx']\n",
      "APodolskij@bcc.ru ('В1', 'В2', 'В3', 'В4', 'В5', 'В6') ['20 04 АСУ ТП В1.xlsx', '20 04 АСУ ТП В2.xlsx', '20 04 АСУ ТП В3.xlsx', '20 04 АСУ ТП В4.xlsx', '20 04 АСУ ТП В5.xlsx', '20 04 АСУ ТП В6.xlsx']\n",
      "VSanzhara@bcc.ru ('В1', 'В2', 'В3', 'В4', 'В5', 'В6') ['20 04 АСУ ТП В1.xlsx', '20 04 АСУ ТП В2.xlsx', '20 04 АСУ ТП В3.xlsx', '20 04 АСУ ТП В4.xlsx', '20 04 АСУ ТП В5.xlsx', '20 04 АСУ ТП В6.xlsx']\n",
      "AIlin@bcc.ru ('ЛВС', 'ВОЛС', 'АИИСКУЕ') ['20 04 АИИСКУЕ.xlsx', '20 04 ВОЛС.xlsx', '20 04 ЛВС.xlsx']\n",
      "AYastrebov@bcc.ru ('Тех',) ['20 04 Тех Учет.xlsx']\n",
      "AOgorodnikov@bcc.ru ('ТК',) ['20 04 ТК М2.xlsx']\n"
     ],
     "output_type": "stream"
    }
   ],
   "source": [
    "folder = r'./output data/journals/'\n",
    "all_journals = tuple(get_xlsx_files(folder))\n",
    "for addr, journals_aliases in config_email.batch_sending_journals.items():\n",
    "    files_to_send = []\n",
    "    for file_name in all_journals:\n",
    "        for j in journals_aliases:\n",
    "            if j in file_name:\n",
    "                files_to_send.append(file_name)\n",
    "                break\n",
    "    print(addr, journals_aliases, files_to_send)"
   ],
   "metadata": {
    "collapsed": false,
    "pycharm": {
     "name": "#%%\n",
     "is_executing": false
    }
   }
  },
  {
   "cell_type": "code",
   "execution_count": 21,
   "outputs": [
    {
     "name": "stdout",
     "text": [
      "email subject: журналы работ Апрель \n",
      "EKushmilev@bcc.ru    ['./output data/journals/20 04 АСУ И С1 Север.xlsx', './output data/journals/20 04 АСУ И С1 Юг.xlsx']\n",
      "NMulin@bcc.ru        ['./output data/journals/20 04 АСУ ТП С1 Север.xlsx', './output data/journals/20 04 АСУ ТП С1 Юг.xlsx']\n",
      "VMakarov@bcc.ru      ['./output data/journals/20 04 АСУ АМ С2.xlsx', './output data/journals/20 04 АСУ И ЗУ.xlsx', './output data/journals/20 04 АСУ И С2 Север.xlsx', './output data/journals/20 04 АСУ И С2 Юг.xlsx', './output data/journals/20 04 АСУ ТП ЗУ.xlsx', './output data/journals/20 04 АСУ ТП С2 Север.xlsx', './output data/journals/20 04 АСУ ТП С2 Юг.xlsx']\n",
      "MKokoev@bcc.ru       ['./output data/journals/20 04 АСУ ТП В1.xlsx', './output data/journals/20 04 АСУ ТП В2.xlsx', './output data/journals/20 04 АСУ ТП В3.xlsx', './output data/journals/20 04 АСУ ТП В4.xlsx', './output data/journals/20 04 АСУ ТП В5.xlsx', './output data/journals/20 04 АСУ ТП В6.xlsx']\n",
      "APodolskij@bcc.ru    ['./output data/journals/20 04 АСУ ТП В1.xlsx', './output data/journals/20 04 АСУ ТП В2.xlsx', './output data/journals/20 04 АСУ ТП В3.xlsx', './output data/journals/20 04 АСУ ТП В4.xlsx', './output data/journals/20 04 АСУ ТП В5.xlsx', './output data/journals/20 04 АСУ ТП В6.xlsx']\n",
      "VSanzhara@bcc.ru     ['./output data/journals/20 04 АСУ ТП В1.xlsx', './output data/journals/20 04 АСУ ТП В2.xlsx', './output data/journals/20 04 АСУ ТП В3.xlsx', './output data/journals/20 04 АСУ ТП В4.xlsx', './output data/journals/20 04 АСУ ТП В5.xlsx', './output data/journals/20 04 АСУ ТП В6.xlsx']\n",
      "AIlin@bcc.ru         ['./output data/journals/20 04 АИИСКУЕ.xlsx', './output data/journals/20 04 ВОЛС.xlsx', './output data/journals/20 04 ЛВС.xlsx']\n",
      "AYastrebov@bcc.ru    ['./output data/journals/20 04 Тех Учет.xlsx']\n",
      "AOgorodnikov@bcc.ru  ['./output data/journals/20 04 ТК М2.xlsx']\n"
     ],
     "output_type": "stream"
    }
   ],
   "source": [
    "email_processing.send_journals(config_email.batch_sending_journals, mail_subj='журналы работ', \n",
    "                               add_month_to_subj= True, test_mod=False)"
   ],
   "metadata": {
    "collapsed": false,
    "pycharm": {
     "name": "#%%\n",
     "is_executing": false
    }
   }
  },
  {
   "cell_type": "markdown",
   "source": [
    "# Sandbox"
   ],
   "metadata": {
    "collapsed": false
   }
  },
  {
   "cell_type": "code",
   "execution_count": null,
   "outputs": [],
   "source": [],
   "metadata": {
    "collapsed": false,
    "pycharm": {
     "name": "#%%\n",
     "is_executing": false
    }
   }
  }
 ],
 "metadata": {
  "language_info": {
   "codemirror_mode": {
    "name": "ipython",
    "version": 2
   },
   "file_extension": ".py",
   "mimetype": "text/x-python",
   "name": "python",
   "nbconvert_exporter": "python",
   "pygments_lexer": "ipython2",
   "version": "2.7.6"
  },
  "kernelspec": {
   "name": "python3",
   "language": "python",
   "display_name": "Python 3"
  },
  "pycharm": {
   "stem_cell": {
    "cell_type": "raw",
    "source": [],
    "metadata": {
     "collapsed": false
    }
   }
  }
 },
 "nbformat": 4,
 "nbformat_minor": 0
}