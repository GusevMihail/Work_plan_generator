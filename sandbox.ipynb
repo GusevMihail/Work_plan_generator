{
 "cells": [
  {
   "cell_type": "markdown",
   "source": [
    "# Init & parsing\n"
   ],
   "metadata": {
    "collapsed": false
   }
  },
  {
   "cell_type": "code",
   "execution_count": 2,
   "metadata": {
    "collapsed": true,
    "pycharm": {
     "is_executing": false
    }
   },
   "outputs": [],
   "source": [
    "from collections import Counter\n",
    "from application import *\n",
    "from pre_processing import Job, Systems, Objects \n",
    "import statistics\n",
    "import numpy as np\n",
    "import matplotlib.pyplot as plt\n",
    "from journal import Journal, JournalASU, jobs_to_df\n",
    "%matplotlib inline\n",
    "\n",
    "%load_ext autoreload\n",
    "%autoreload 2"
   ]
  },
  {
   "cell_type": "code",
   "execution_count": 24,
   "outputs": [],
   "source": [
    "jobs = []\n",
    "jobs.extend(process_files(r'.\\input data\\1', all_visible_sheets, works_parser.ParserSake))\n",
    "jobs.extend(process_files(r'.\\input data\\2', all_visible_sheets, works_parser.ParserSake)) # ASU\n",
    "# jobs.extend(process_files(r'.\\input data\\АСУ', find_sheets_asu, works_parser.ParserAsu))\n",
    "# jobs.extend(process_files(r'.\\input data\\ВОЛС', all_visible_sheets, works_parser.ParserVols))\n",
    "# jobs.extend(process_files(r'.\\input data\\Телеканал', find_sheets_vols, works_parser.ParserTk))\n",
    "# jobs.extend(process_files(r'.\\input data\\АИИСКУЭ', find_sheets_vols, works_parser.ParserAskueSake))\n",
    "# jobs.extend(process_files(r'.\\input data\\АИИСКУЭ', find_sheets_vols, works_parser.ParserAskue))\n",
    "# jobs.extend(process_files(r'.\\input data\\Тех.учет', find_sheets_vols, works_parser.ParserTechReg))\n",
    "print(len(jobs))"
   ],
   "metadata": {
    "collapsed": false,
    "pycharm": {
     "name": "#%%\n",
     "is_executing": false
    }
   }
  },
  {
   "cell_type": "code",
   "execution_count": 25,
   "outputs": [],
   "source": [
    "stats = Counter((j.system, j.object)for j in jobs)    \n",
    "# print(stats)"
   ],
   "metadata": {
    "collapsed": false,
    "pycharm": {
     "name": "#%%\n",
     "is_executing": false
    }
   }
  },
  {
   "cell_type": "code",
   "execution_count": 26,
   "outputs": [],
   "source": [
    "statistics.visualize_statistics(stats)"
   ],
   "metadata": {
    "collapsed": false,
    "pycharm": {
     "name": "#%%\n",
     "is_executing": false
    }
   }
  },
  {
   "cell_type": "code",
   "execution_count": 27,
   "outputs": [],
   "source": [
    "for (xlabel, ylabel), count in stats.items():\n",
    "    print(f'{str(xlabel).ljust(17)}, {str(ylabel).ljust(15)} - {str(count).ljust(5)}')"
   ],
   "metadata": {
    "collapsed": false,
    "pycharm": {
     "name": "#%%\n",
     "is_executing": false
    }
   }
  },
  {
   "cell_type": "markdown",
   "source": [
    "# Tests"
   ],
   "metadata": {
    "collapsed": false
   }
  },
  {
   "cell_type": "markdown",
   "source": [
    "ASU test"
   ],
   "metadata": {
    "collapsed": false
   }
  },
  {
   "cell_type": "code",
   "execution_count": 7,
   "outputs": [],
   "source": [
    "assert stats[(Systems.ASU_TP, Objects.S1)] > 0\n",
    "assert stats[(Systems.ASU_TP, Objects.S2)] > 0\n",
    "assert stats[(Systems.ASU_TP, Objects.V1)] > 0\n",
    "assert stats[(Systems.ASU_TP, Objects.V2)] > 0\n",
    "assert stats[(Systems.ASU_TP, Objects.V3)] > 0\n",
    "assert stats[(Systems.ASU_TP, Objects.V4)] > 0\n",
    "assert stats[(Systems.ASU_TP, Objects.V5)] > 0\n",
    "assert stats[(Systems.ASU_TP, Objects.V6)] > 0\n",
    "assert stats[(Systems.ASU_TP, Objects.ZU)] > 0\n",
    "\n",
    "assert stats[(Systems.ASU_I, Objects.S1)] > 0\n",
    "assert stats[(Systems.ASU_I, Objects.S2)] > 0\n",
    "assert stats[(Systems.ASU_I, Objects.ZU)] > 0\n",
    "\n",
    "assert stats[(Systems.ASU_AM, Objects.S2)] > 0\n",
    "\n",
    "assert stats[(Systems.LVS, Objects.S1)] > 0\n",
    "assert stats[(Systems.LVS, Objects.S2)] > 0\n",
    "assert stats[(Systems.LVS, Objects.V1)] > 0\n",
    "assert stats[(Systems.LVS, Objects.V2)] > 0\n",
    "assert stats[(Systems.LVS, Objects.V3)] > 0\n",
    "assert stats[(Systems.LVS, Objects.V4)] > 0\n",
    "assert stats[(Systems.LVS, Objects.V5)] > 0\n",
    "assert stats[(Systems.LVS, Objects.V6)] > 0\n",
    "assert stats[(Systems.LVS, Objects.ZU)] > 0\n",
    "\n",
    "print('all ASU/LVS tests is complete')"
   ],
   "metadata": {
    "collapsed": false,
    "pycharm": {
     "name": "#%%\n",
     "is_executing": false
    }
   }
  },
  {
   "cell_type": "markdown",
   "source": [
    "VOLS test"
   ],
   "metadata": {
    "collapsed": false
   }
  },
  {
   "cell_type": "code",
   "execution_count": 9,
   "outputs": [],
   "source": [
    "assert stats[(Systems.VOLS, Objects.ZU)] > 0\n",
    "assert stats[(Systems.VOLS, Objects.PS360)] > 0\n",
    "assert stats[(Systems.VOLS, Objects.S2)] > 0\n",
    "assert stats[(Systems.VOLS, Objects.S1)] > 0\n",
    "\n",
    "print('all VOLS tests is complete')"
   ],
   "metadata": {
    "collapsed": false,
    "pycharm": {
     "name": "#%%\n",
     "is_executing": false
    }
   }
  },
  {
   "cell_type": "markdown",
   "source": [
    "TK test"
   ],
   "metadata": {
    "collapsed": false
   }
  },
  {
   "cell_type": "code",
   "execution_count": 10,
   "outputs": [],
   "source": [
    "assert stats[(Systems.TK, Objects.ZU)] > 0\n",
    "assert stats[(Systems.TK, Objects.PS360)] > 0\n",
    "assert stats[(Systems.TK, Objects.S2)] > 0\n",
    "assert stats[(Systems.TK, Objects.S1)] > 0\n",
    "\n",
    "print('all TK tests is complete')"
   ],
   "metadata": {
    "collapsed": false,
    "pycharm": {
     "name": "#%%\n",
     "is_executing": false
    }
   }
  },
  {
   "cell_type": "markdown",
   "source": [
    "ASKUE test"
   ],
   "metadata": {
    "collapsed": false
   }
  },
  {
   "cell_type": "code",
   "execution_count": 11,
   "outputs": [],
   "source": [
    "assert stats[(Systems.ASKUE, Objects.ZU)] > 0\n",
    "assert stats[(Systems.ASKUE, Objects.PS360)] > 0\n",
    "# assert stats[(Systems.ASKUE, Objects.PS223)] > 0\n",
    "assert stats[(Systems.ASKUE, Objects.S2)] > 0\n",
    "assert stats[(Systems.ASKUE, Objects.S1)] > 0\n",
    "\n",
    "print('all ASKUE tests is complete')"
   ],
   "metadata": {
    "collapsed": false,
    "pycharm": {
     "name": "#%%\n",
     "is_executing": false
    }
   }
  },
  {
   "cell_type": "markdown",
   "source": [
    "TECH_REG test"
   ],
   "metadata": {
    "collapsed": false
   }
  },
  {
   "cell_type": "code",
   "execution_count": 12,
   "outputs": [],
   "source": [
    "assert stats[(Systems.TECH_REG, Objects.PS360)] > 0\n",
    "assert stats[(Systems.TECH_REG, Objects.S2)] > 0\n",
    "assert stats[(Systems.TECH_REG, Objects.S1)] > 0\n",
    "\n",
    "print('all TECH_REG tests is complete')"
   ],
   "metadata": {
    "collapsed": false,
    "pycharm": {
     "name": "#%%\n",
     "is_executing": false
    }
   }
  },
  {
   "cell_type": "markdown",
   "source": [
    "# Sandbox"
   ],
   "metadata": {
    "collapsed": false
   }
  },
  {
   "cell_type": "code",
   "execution_count": 28,
   "outputs": [],
   "source": [
    "import pandas as pd\n",
    "from pre_processing import Systems, Objects"
   ],
   "metadata": {
    "collapsed": false,
    "pycharm": {
     "name": "#%%\n",
     "is_executing": false
    }
   }
  },
  {
   "cell_type": "code",
   "execution_count": 29,
   "outputs": [],
   "source": [
    "df_jobs = jobs_to_df(jobs)"
   ],
   "metadata": {
    "collapsed": false,
    "pycharm": {
     "name": "#%%\n",
     "is_executing": false
    }
   }
  },
  {
   "cell_type": "code",
   "execution_count": 31,
   "outputs": [],
   "source": [
    "df_jobs.head()"
   ],
   "metadata": {
    "collapsed": false,
    "pycharm": {
     "name": "#%%\n",
     "is_executing": false
    }
   }
  },
  {
   "cell_type": "code",
   "execution_count": 79,
   "outputs": [],
   "source": [
    "from journal import Journal, JournalASU, JournalASKUE, jobs_to_df, batch_journal_generator\n",
    "from config_journals import batch_ASU_journals, batch_ASKUE_journals"
   ],
   "metadata": {
    "collapsed": false,
    "pycharm": {
     "name": "#%%\n",
     "is_executing": false
    }
   }
  },
  {
   "cell_type": "code",
   "execution_count": 58,
   "outputs": [],
   "source": [
    "j1 = JournalASKUE(df_jobs)\n",
    "j1.make_journal(Systems.TECH_REG)\n",
    "j1.journal\n",
    "# j1.save_journal('test')"
   ],
   "metadata": {
    "collapsed": false,
    "pycharm": {
     "name": "#%%\n",
     "is_executing": false
    }
   }
  },
  {
   "cell_type": "code",
   "execution_count": 54,
   "outputs": [],
   "source": [
    "batch_journal_generator(df_jobs, JournalASU, batch_ASU_journals)\n"
   ],
   "metadata": {
    "collapsed": false,
    "pycharm": {
     "name": "#%%\n",
     "is_executing": false
    }
   }
  },
  {
   "cell_type": "code",
   "execution_count": 80,
   "outputs": [],
   "source": [
    "batch_journal_generator(df_jobs, JournalASKUE, batch_ASKUE_journals)"
   ],
   "metadata": {
    "collapsed": false,
    "pycharm": {
     "name": "#%%\n",
     "is_executing": false
    }
   }
  },
  {
   "cell_type": "code",
   "execution_count": 129,
   "outputs": [],
   "source": [
    "columns = ('date', 'system', 'object', 'place', 'work_type', 'tech_map', 'equip_name', 'performer', )\n",
    "result = pd.DataFrame(columns=columns,\n",
    "                      data = ((j.date, j.system, j.object, j.place, j.work_type, \n",
    "                               j.tech_map, j.equip_name, j.performer) \n",
    "                              for j in jobs))"
   ],
   "metadata": {
    "collapsed": false,
    "pycharm": {
     "name": "#%%\n",
     "is_executing": false
    }
   }
  },
  {
   "cell_type": "code",
   "execution_count": 125,
   "outputs": [],
   "source": [
    "result = df_jobs"
   ],
   "metadata": {
    "collapsed": false,
    "pycharm": {
     "name": "#%%\n",
     "is_executing": false
    }
   }
  },
  {
   "cell_type": "code",
   "execution_count": 121,
   "outputs": [],
   "source": [
    "result[result.isna().any(axis=1)]\n"
   ],
   "metadata": {
    "collapsed": false,
    "pycharm": {
     "name": "#%%\n",
     "is_executing": false
    }
   }
  },
  {
   "cell_type": "code",
   "execution_count": 132,
   "outputs": [],
   "source": [
    "result[result.system == Systems.VOLS]\\\n",
    "    [result.object == Objects.S1]\\\n",
    "    .drop(['system', 'object'], axis=1)\\\n",
    "    .reindex(columns=['date', 'place', 'work_type', 'tech_map', 'performer'])\\\n",
    "    .sort_values(by=['date', 'place', 'work_type'])\n",
    "    # .to_excel(r'asu_i_zu_test.xlsx')\n",
    "    \n",
    "# result.performer.apply(lambda w:w.last_name)"
   ],
   "metadata": {
    "collapsed": false,
    "pycharm": {
     "name": "#%%\n",
     "is_executing": false
    }
   }
  },
  {
   "cell_type": "code",
   "execution_count": null,
   "outputs": [],
   "source": [
    "# VOLS journal\n",
    "result[result.system == Systems.VOLS]\\\n",
    "    .drop(['system', 'object', 'performer'], axis=1)\\\n",
    "    .reindex(columns=['date', 'place', 'work_type', 'tech_map'])\\\n",
    "    .sort_values(by=['date', 'place', 'work_type'])\\\n",
    "    .to_excel(r'vols_test.xlsx')"
   ],
   "metadata": {
    "collapsed": false,
    "pycharm": {
     "name": "#%%\n"
    }
   }
  },
  {
   "cell_type": "markdown",
   "source": [
    "## email testing"
   ],
   "metadata": {
    "collapsed": false
   }
  },
  {
   "cell_type": "code",
   "execution_count": 82,
   "outputs": [],
   "source": [
    "import smtplib"
   ],
   "metadata": {
    "collapsed": false,
    "pycharm": {
     "name": "#%%\n",
     "is_executing": false
    }
   }
  },
  {
   "cell_type": "code",
   "execution_count": 83,
   "outputs": [],
   "source": [
    "smtp_obj = smtplib.SMTP('smtp.gmail.com', 587)"
   ],
   "metadata": {
    "collapsed": false,
    "pycharm": {
     "name": "#%%\n",
     "is_executing": false
    }
   }
  },
  {
   "cell_type": "code",
   "execution_count": 84,
   "outputs": [
    {
     "data": {
      "text/plain": "(220, b'2.0.0 Ready to start TLS')"
     },
     "metadata": {},
     "output_type": "execute_result",
     "execution_count": 84
    }
   ],
   "source": [
    "smtp_obj.starttls()"
   ],
   "metadata": {
    "collapsed": false,
    "pycharm": {
     "name": "#%%\n",
     "is_executing": false
    }
   }
  },
  {
   "cell_type": "code",
   "execution_count": 86,
   "outputs": [
    {
     "data": {
      "text/plain": "(235, b'2.7.0 Accepted')"
     },
     "metadata": {},
     "output_type": "execute_result",
     "execution_count": 86
    }
   ],
   "source": [
    "smtp_obj.login('kzs.asu.504@gmail.com', 'kzsasu123456')"
   ],
   "metadata": {
    "collapsed": false,
    "pycharm": {
     "name": "#%%\n",
     "is_executing": false
    }
   }
  },
  {
   "cell_type": "code",
   "execution_count": null,
   "outputs": [],
   "source": [
    "smtp_obj.sendmail('kzs.asu.504@gmail.com', 'gusev.mihail.34@gmail.com', )"
   ],
   "metadata": {
    "collapsed": false,
    "pycharm": {
     "name": "#%%\n"
    }
   }
  }
 ],
 "metadata": {
  "language_info": {
   "codemirror_mode": {
    "name": "ipython",
    "version": 2
   },
   "file_extension": ".py",
   "mimetype": "text/x-python",
   "name": "python",
   "nbconvert_exporter": "python",
   "pygments_lexer": "ipython2",
   "version": "2.7.6"
  },
  "kernelspec": {
   "name": "python3",
   "language": "python",
   "display_name": "Python 3"
  },
  "pycharm": {
   "stem_cell": {
    "cell_type": "raw",
    "source": [],
    "metadata": {
     "collapsed": false
    }
   }
  }
 },
 "nbformat": 4,
 "nbformat_minor": 0
}