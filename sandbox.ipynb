{
 "cells": [
  {
   "cell_type": "markdown",
   "source": [
    "# Init & parsing"
   ],
   "metadata": {
    "collapsed": false
   }
  },
  {
   "cell_type": "markdown",
   "metadata": {
    "collapsed": true,
    "pycharm": {
     "name": "#%% md\n"
    }
   },
   "source": [
    "импорт"
   ]
  },
  {
   "cell_type": "code",
   "execution_count": 1,
   "outputs": [
    {
     "name": "stdout",
     "text": [
      "import complete\n"
     ],
     "output_type": "stream"
    }
   ],
   "source": [
    "from collections import Counter\n",
    "\n",
    "import numpy as np\n",
    "import matplotlib.pyplot as plt\n",
    "\n",
    "from application import *\n",
    "from journal import Journal, JournalASU, jobs_to_df\n",
    "from pre_processing import Job, Systems, Objects \n",
    "import statistics\n",
    "%matplotlib inline\n",
    "\n",
    "\n",
    "%load_ext autoreload\n",
    "%autoreload 2\n",
    "\n",
    "print('import complete')"
   ],
   "metadata": {
    "collapsed": false,
    "pycharm": {
     "name": "#%%\n",
     "is_executing": false
    }
   }
  },
  {
   "cell_type": "markdown",
   "source": [
    "парсинг файлов"
   ],
   "metadata": {
    "collapsed": false,
    "pycharm": {
     "name": "#%% md\n"
    }
   }
  },
  {
   "cell_type": "code",
   "execution_count": 2,
   "outputs": [
    {
     "name": "stdout",
     "text": [
      "folder: .\\input data\\SAKE\n",
      " - 7.1.36.xlsx\n",
      " - 7.1.37-2.xlsx\n",
      " - 7.1.38.xlsx\n",
      " - 9.2.36.xlsx\n",
      " - 9.2.37-1.xlsx\n",
      " - 9.2.37-2.xlsx\n",
      " - 9.2.38.xlsx\n",
      " - 9.3.36.xlsx\n",
      " - 9.3.37-1.xlsx\n",
      " - 9.3.37-2.xlsx\n",
      " - 9.3.38.xlsx\n",
      " - 9.4.36.xlsx\n",
      " - 9.4.37-1.xlsx\n",
      " - 9.4.37-2.xlsx\n",
      " - 9.4.38.xlsx\n",
      " - АСУ ЛВС05.2020.xlsx\n",
      " - АСУ мост_05.2021.xlsx\n",
      " - АСУИС_05.2021.xlsx\n",
      " - АСУТП_05.2021.xlsx\n",
      "654\n",
      "Wall time: 19.4 s\n"
     ],
     "output_type": "stream"
    }
   ],
   "source": [
    "%%time\n",
    "jobs = []\n",
    "jobs.extend(process_files(r'.\\input data\\SAKE', all_visible_sheets, works_parser.ParserSake))\n",
    "\n",
    "print(len(jobs))"
   ],
   "metadata": {
    "collapsed": false,
    "pycharm": {
     "name": "#%%\n",
     "is_executing": false
    }
   }
  },
  {
   "cell_type": "markdown",
   "source": [
    "генерация статистики"
   ],
   "metadata": {
    "collapsed": false,
    "pycharm": {
     "name": "#%% md\n"
    }
   }
  },
  {
   "cell_type": "code",
   "execution_count": 3,
   "outputs": [
    {
     "data": {
      "text/plain": "<Figure size 432x288 with 2 Axes>",
      "image/png": "[encoded data removed]"
     },
     "metadata": {
      "needs_background": "light"
     },
     "output_type": "display_data"
    },
    {
     "name": "stdout",
     "text": [
      "Systems.ASKUE    , Objects.ZU      - 21   \n",
      "Systems.TK       , Objects.ZU      - 15   \n",
      "Systems.VOLS     , Objects.ZU      - 1    \n",
      "Systems.ASKUE    , Objects.PS360   - 6    \n",
      "Systems.TECH_REG , Objects.PS360   - 22   \n",
      "Systems.TK       , Objects.PS360   - 36   \n",
      "Systems.VOLS     , Objects.PS360   - 3    \n",
      "Systems.ASKUE    , Objects.S2      - 6    \n",
      "Systems.TECH_REG , Objects.S2      - 34   \n",
      "Systems.TK       , Objects.S2      - 36   \n",
      "Systems.VOLS     , Objects.S2      - 2    \n",
      "Systems.ASKUE    , Objects.S1      - 16   \n",
      "Systems.TECH_REG , Objects.S1      - 60   \n",
      "Systems.TK       , Objects.S1      - 36   \n",
      "Systems.VOLS     , Objects.S1      - 2    \n",
      "Systems.LVS      , Objects.V1      - 4    \n",
      "Systems.LVS      , Objects.V2      - 5    \n",
      "Systems.LVS      , Objects.S1      - 39   \n",
      "Systems.LVS      , Objects.ZU      - 6    \n",
      "Systems.LVS      , Objects.V3      - 5    \n",
      "Systems.LVS      , Objects.S2      - 12   \n",
      "Systems.LVS      , Objects.V4      - 4    \n",
      "Systems.LVS      , Objects.V5      - 5    \n",
      "Systems.LVS      , Objects.V6      - 1    \n",
      "Systems.ASU_AM   , Objects.S2      - 9    \n",
      "Systems.ASU_I    , Objects.S1      - 76   \n",
      "Systems.ASU_I    , Objects.ZU      - 41   \n",
      "Systems.ASU_I    , Objects.S2      - 46   \n",
      "Systems.ASU_TP   , Objects.V1      - 8    \n",
      "Systems.ASU_TP   , Objects.V2      - 8    \n",
      "Systems.ASU_TP   , Objects.S1      - 32   \n",
      "Systems.ASU_TP   , Objects.ZU      - 8    \n",
      "Systems.ASU_TP   , Objects.V3      - 9    \n",
      "Systems.ASU_TP   , Objects.S2      - 13   \n",
      "Systems.ASU_TP   , Objects.V4      - 9    \n",
      "Systems.ASU_TP   , Objects.V5      - 9    \n",
      "Systems.ASU_TP   , Objects.V6      - 9    \n"
     ],
     "output_type": "stream"
    }
   ],
   "source": [
    "stats = Counter((j.system, j.object)for j in jobs)    \n",
    "# print(stats)\n",
    "\n",
    "statistics.visualize_statistics(stats)\n",
    "\n",
    "for (xlabel, ylabel), count in stats.items():\n",
    "    print(f'{str(xlabel).ljust(17)}, {str(ylabel).ljust(15)} - {str(count).ljust(5)}')"
   ],
   "metadata": {
    "collapsed": false,
    "pycharm": {
     "name": "#%%\n",
     "is_executing": false
    }
   }
  },
  {
   "cell_type": "markdown",
   "source": [
    "# Tests"
   ],
   "metadata": {
    "collapsed": false
   }
  },
  {
   "cell_type": "markdown",
   "source": [
    "date test"
   ],
   "metadata": {
    "collapsed": false,
    "pycharm": {
     "name": "#%% md\n"
    }
   }
  },
  {
   "cell_type": "code",
   "execution_count": 4,
   "outputs": [
    {
     "name": "stdout",
     "text": [
      "test complete.  {(2021, 5)}\n"
     ],
     "output_type": "stream"
    }
   ],
   "source": [
    "dates = set((j.date.year, j.date.month) for j in jobs)\n",
    "assert len(dates) == 1\n",
    "print('test complete. ', dates)"
   ],
   "metadata": {
    "collapsed": false,
    "pycharm": {
     "name": "#%%\n",
     "is_executing": false
    }
   }
  },
  {
   "cell_type": "markdown",
   "source": [
    "ASU test"
   ],
   "metadata": {
    "collapsed": false
   }
  },
  {
   "cell_type": "code",
   "execution_count": 7,
   "outputs": [
    {
     "name": "stdout",
     "text": [
      "all ASU/LVS tests is complete\n"
     ],
     "output_type": "stream"
    }
   ],
   "source": [
    "assert stats[(Systems.ASU_TP, Objects.S1)] > 0\n",
    "assert stats[(Systems.ASU_TP, Objects.S2)] > 0\n",
    "assert stats[(Systems.ASU_TP, Objects.V1)] > 0\n",
    "assert stats[(Systems.ASU_TP, Objects.V2)] > 0\n",
    "assert stats[(Systems.ASU_TP, Objects.V3)] > 0\n",
    "assert stats[(Systems.ASU_TP, Objects.V4)] > 0\n",
    "assert stats[(Systems.ASU_TP, Objects.V5)] > 0\n",
    "assert stats[(Systems.ASU_TP, Objects.V6)] > 0\n",
    "# assert stats[(Systems.ASU_TP, Objects.ZU)] > 0\n",
    "\n",
    "assert stats[(Systems.ASU_I, Objects.S1)] > 0\n",
    "assert stats[(Systems.ASU_I, Objects.S2)] > 0\n",
    "# assert stats[(Systems.ASU_I, Objects.ZU)] > 0\n",
    "\n",
    "assert stats[(Systems.ASU_AM, Objects.S2)] > 0\n",
    "\n",
    "assert stats[(Systems.LVS, Objects.S1)] > 0\n",
    "assert stats[(Systems.LVS, Objects.S2)] > 0\n",
    "assert stats[(Systems.LVS, Objects.V1)] > 0\n",
    "assert stats[(Systems.LVS, Objects.V2)] > 0\n",
    "assert stats[(Systems.LVS, Objects.V3)] > 0\n",
    "assert stats[(Systems.LVS, Objects.V4)] > 0\n",
    "assert stats[(Systems.LVS, Objects.V5)] > 0\n",
    "assert stats[(Systems.LVS, Objects.V6)] > 0\n",
    "# assert stats[(Systems.LVS, Objects.ZU)] > 0\n",
    "\n",
    "print('all ASU/LVS tests is complete')"
   ],
   "metadata": {
    "collapsed": false,
    "pycharm": {
     "name": "#%%\n",
     "is_executing": false
    }
   }
  },
  {
   "cell_type": "markdown",
   "source": [
    "VOLS test"
   ],
   "metadata": {
    "collapsed": false
   }
  },
  {
   "cell_type": "code",
   "execution_count": 8,
   "outputs": [
    {
     "name": "stdout",
     "text": [
      "all VOLS tests is complete\n"
     ],
     "output_type": "stream"
    }
   ],
   "source": [
    "assert stats[(Systems.VOLS, Objects.ZU)] > 0\n",
    "assert stats[(Systems.VOLS, Objects.PS360)] > 0\n",
    "assert stats[(Systems.VOLS, Objects.S2)] > 0\n",
    "assert stats[(Systems.VOLS, Objects.S1)] > 0\n",
    "\n",
    "print('all VOLS tests is complete')"
   ],
   "metadata": {
    "collapsed": false,
    "pycharm": {
     "name": "#%%\n",
     "is_executing": false
    }
   }
  },
  {
   "cell_type": "markdown",
   "source": [
    "TK test"
   ],
   "metadata": {
    "collapsed": false
   }
  },
  {
   "cell_type": "code",
   "execution_count": 9,
   "outputs": [
    {
     "name": "stdout",
     "text": [
      "all TK tests is complete\n"
     ],
     "output_type": "stream"
    }
   ],
   "source": [
    "assert stats[(Systems.TK, Objects.ZU)] > 0\n",
    "assert stats[(Systems.TK, Objects.PS360)] > 0\n",
    "assert stats[(Systems.TK, Objects.S2)] > 0\n",
    "assert stats[(Systems.TK, Objects.S1)] > 0\n",
    "\n",
    "print('all TK tests is complete')"
   ],
   "metadata": {
    "collapsed": false,
    "pycharm": {
     "name": "#%%\n",
     "is_executing": false
    }
   }
  },
  {
   "cell_type": "markdown",
   "source": [
    "ASKUE test"
   ],
   "metadata": {
    "collapsed": false
   }
  },
  {
   "cell_type": "code",
   "execution_count": 10,
   "outputs": [
    {
     "name": "stdout",
     "text": [
      "all ASKUE tests is complete\n"
     ],
     "output_type": "stream"
    }
   ],
   "source": [
    "assert stats[(Systems.ASKUE, Objects.ZU)] > 0\n",
    "assert stats[(Systems.ASKUE, Objects.PS360)] > 0\n",
    "# assert stats[(Systems.ASKUE, Objects.PS223)] > 0\n",
    "assert stats[(Systems.ASKUE, Objects.S2)] > 0\n",
    "assert stats[(Systems.ASKUE, Objects.S1)] > 0\n",
    "\n",
    "print('all ASKUE tests is complete')"
   ],
   "metadata": {
    "collapsed": false,
    "pycharm": {
     "name": "#%%\n",
     "is_executing": false
    }
   }
  },
  {
   "cell_type": "markdown",
   "source": [
    "TECH_REG test"
   ],
   "metadata": {
    "collapsed": false
   }
  },
  {
   "cell_type": "code",
   "execution_count": 11,
   "outputs": [
    {
     "name": "stdout",
     "text": [
      "all TECH_REG tests is complete\n"
     ],
     "output_type": "stream"
    }
   ],
   "source": [
    "assert stats[(Systems.TECH_REG, Objects.PS360)] > 0\n",
    "assert stats[(Systems.TECH_REG, Objects.S2)] > 0\n",
    "assert stats[(Systems.TECH_REG, Objects.S1)] > 0\n",
    "print('all TECH_REG tests is complete')"
   ],
   "metadata": {
    "collapsed": false,
    "pycharm": {
     "name": "#%%\n",
     "is_executing": false
    }
   }
  },
  {
   "cell_type": "markdown",
   "source": [
    "# Plans generator"
   ],
   "metadata": {
    "collapsed": false
   }
  },
  {
   "cell_type": "code",
   "execution_count": 12,
   "outputs": [
    {
     "name": "stdout",
     "text": [
      "Генерация планов работ\n",
      " - .\\output data\\plans\\2021 05 01.xlsx\n",
      " - .\\output data\\plans\\2021 05 02.xlsx\n",
      " - .\\output data\\plans\\2021 05 03.xlsx\n",
      " - .\\output data\\plans\\2021 05 04.xlsx\n",
      " - .\\output data\\plans\\2021 05 05.xlsx\n",
      " - .\\output data\\plans\\2021 05 06.xlsx\n",
      " - .\\output data\\plans\\2021 05 07.xlsx\n",
      " - .\\output data\\plans\\2021 05 08.xlsx\n",
      " - .\\output data\\plans\\2021 05 09.xlsx\n",
      " - .\\output data\\plans\\2021 05 10.xlsx\n",
      " - .\\output data\\plans\\2021 05 11.xlsx\n",
      " - .\\output data\\plans\\2021 05 12.xlsx\n",
      " - .\\output data\\plans\\2021 05 13.xlsx\n",
      " - .\\output data\\plans\\2021 05 14.xlsx\n",
      " - .\\output data\\plans\\2021 05 15.xlsx\n",
      " - .\\output data\\plans\\2021 05 16.xlsx\n",
      " - .\\output data\\plans\\2021 05 17.xlsx\n",
      " - .\\output data\\plans\\2021 05 18.xlsx\n",
      " - .\\output data\\plans\\2021 05 19.xlsx\n",
      " - .\\output data\\plans\\2021 05 20.xlsx\n",
      " - .\\output data\\plans\\2021 05 21.xlsx\n",
      " - .\\output data\\plans\\2021 05 22.xlsx\n",
      " - .\\output data\\plans\\2021 05 23.xlsx\n",
      " - .\\output data\\plans\\2021 05 24.xlsx\n",
      " - .\\output data\\plans\\2021 05 25.xlsx\n",
      " - .\\output data\\plans\\2021 05 26.xlsx\n",
      " - .\\output data\\plans\\2021 05 27.xlsx\n",
      " - .\\output data\\plans\\2021 05 28.xlsx\n",
      " - .\\output data\\plans\\2021 05 29.xlsx\n",
      " - .\\output data\\plans\\2021 05 30.xlsx\n",
      " - .\\output data\\plans\\2021 05 31.xlsx\n",
      "Генерация успешно завершена\n"
     ],
     "output_type": "stream"
    }
   ],
   "source": [
    "make_xlsx_from_jobs(jobs)"
   ],
   "metadata": {
    "collapsed": false,
    "pycharm": {
     "name": "#%%\n",
     "is_executing": false
    }
   }
  },
  {
   "cell_type": "markdown",
   "source": [
    "# Journals generator"
   ],
   "metadata": {
    "collapsed": false
   }
  },
  {
   "cell_type": "code",
   "execution_count": 13,
   "outputs": [
    {
     "name": "stdout",
     "text": [
      "import complete\n"
     ],
     "output_type": "stream"
    }
   ],
   "source": [
    "from journal import Journal, JournalASU, JournalASKUE, jobs_to_df, batch_journal_generator\n",
    "from config_journals import batch_ASU_journals, batch_ASKUE_journals\n",
    "print('import complete')"
   ],
   "metadata": {
    "collapsed": false,
    "pycharm": {
     "name": "#%%\n",
     "is_executing": false
    }
   }
  },
  {
   "cell_type": "markdown",
   "source": [
    "генерация датафрейма"
   ],
   "metadata": {
    "collapsed": false,
    "pycharm": {
     "name": "#%% md\n"
    }
   }
  },
  {
   "cell_type": "code",
   "execution_count": 14,
   "outputs": [
    {
     "name": "stdout",
     "text": [
      "ok\n"
     ],
     "output_type": "stream"
    }
   ],
   "source": [
    "df_jobs = jobs_to_df(jobs)\n",
    "print('ok')"
   ],
   "metadata": {
    "collapsed": false,
    "pycharm": {
     "name": "#%%\n",
     "is_executing": false
    }
   }
  },
  {
   "cell_type": "markdown",
   "source": [
    "генерация журналов АСУ"
   ],
   "metadata": {
    "collapsed": false,
    "pycharm": {
     "name": "#%% md\n"
    }
   }
  },
  {
   "cell_type": "code",
   "execution_count": 15,
   "outputs": [
    {
     "data": {
      "text/plain": "{'АСУ ТП С1 Север': <journal.JournalASU at 0xd94a070>,\n 'АСУ ТП С1 Юг': <journal.JournalASU at 0xde5efd0>,\n 'АСУ ТП С2 Север': <journal.JournalASU at 0xd7c98f0>,\n 'АСУ ТП С2 Юг': <journal.JournalASU at 0xd94ab30>,\n 'АСУ ТП В1': <journal.JournalASU at 0xd9b4030>,\n 'АСУ ТП В2': <journal.JournalASU at 0x5bd7cb0>,\n 'АСУ ТП В3': <journal.JournalASU at 0x5bd7ad0>,\n 'АСУ ТП В4': <journal.JournalASU at 0xa6f6a50>,\n 'АСУ ТП В5': <journal.JournalASU at 0xd94ae70>,\n 'АСУ ТП В6': <journal.JournalASU at 0xdf118d0>,\n 'АСУ ТП ЗУ': <journal.JournalASU at 0xa6e1d30>,\n 'АСУ АМ С2': <journal.JournalASU at 0xde5bfb0>,\n 'АСУ И С1 Север': <journal.JournalASU at 0x5bfb550>,\n 'АСУ И С1 Юг': <journal.JournalASU at 0xdf11870>,\n 'АСУ И С2 Север': <journal.JournalASU at 0xdff5610>,\n 'АСУ И С2 Юг': <journal.JournalASU at 0xdeb3290>,\n 'АСУ И ЗУ': <journal.JournalASU at 0xe09ef90>,\n 'ВОЛС': <journal.JournalASU at 0xe09e210>,\n 'ТК М2': <journal.JournalASU at 0xdf03af0>}"
     },
     "metadata": {},
     "output_type": "execute_result",
     "execution_count": 15
    }
   ],
   "source": [
    "batch_journal_generator(df_jobs, JournalASU, batch_ASU_journals)"
   ],
   "metadata": {
    "collapsed": false,
    "pycharm": {
     "name": "#%%\n",
     "is_executing": false
    }
   }
  },
  {
   "cell_type": "markdown",
   "source": [
    "генерация журналов АИИСКУЕ"
   ],
   "metadata": {
    "collapsed": false
   }
  },
  {
   "cell_type": "code",
   "execution_count": 16,
   "outputs": [
    {
     "data": {
      "text/plain": "{'АИИСКУЕ': <journal.JournalASKUE at 0xdd2a310>,\n 'Тех Учет': <journal.JournalASKUE at 0xd9b0db0>,\n 'ЛВС': <journal.JournalASKUE at 0xdf116d0>}"
     },
     "metadata": {},
     "output_type": "execute_result",
     "execution_count": 16
    }
   ],
   "source": [
    "batch_journal_generator(df_jobs, JournalASKUE, batch_ASKUE_journals)"
   ],
   "metadata": {
    "collapsed": false,
    "pycharm": {
     "name": "#%%\n",
     "is_executing": false
    }
   }
  },
  {
   "cell_type": "markdown",
   "source": [
    "## calendars"
   ],
   "metadata": {
    "collapsed": false,
    "pycharm": {
     "name": "#%% md\n"
    }
   }
  },
  {
   "cell_type": "code",
   "execution_count": 51,
   "outputs": [
    {
     "name": "stdout",
     "text": [
      "В1-В6\n",
      "C1\n",
      "C2\n",
      "Энергетика\n",
      "Оптика\n"
     ],
     "output_type": "stream"
    },
    {
     "name": "stderr",
     "text": [
      "c:\\users\\mihail\\pycharmprojects\\work plan generator\\venv\\lib\\site-packages\\pandas\\core\\generic.py:5208: SettingWithCopyWarning: \n",
      "A value is trying to be set on a copy of a slice from a DataFrame.\n",
      "Try using .loc[row_indexer,col_indexer] = value instead\n",
      "\n",
      "See the caveats in the documentation: http://pandas.pydata.org/pandas-docs/stable/user_guide/indexing.html#returning-a-view-versus-a-copy\n",
      "  self[name] = value\n"
     ],
     "output_type": "stream"
    }
   ],
   "source": [
    "from work_calendar import batch_make_calendars\n",
    "\n",
    "batch_make_calendars(df_jobs)"
   ],
   "metadata": {
    "collapsed": false,
    "pycharm": {
     "name": "#%%\n",
     "is_executing": false
    }
   }
  },
  {
   "cell_type": "markdown",
   "source": [
    "## email sending"
   ],
   "metadata": {
    "collapsed": false
   }
  },
  {
   "cell_type": "code",
   "execution_count": 17,
   "outputs": [],
   "source": [
    "import config_email, email_processing\n",
    "import os\n",
    "from application import get_xlsx_files\n"
   ],
   "metadata": {
    "collapsed": false,
    "pycharm": {
     "name": "#%%\n",
     "is_executing": false
    }
   }
  },
  {
   "cell_type": "code",
   "execution_count": 19,
   "outputs": [
    {
     "name": "stdout",
     "text": [
      "email subject: журналы работ Май \n",
      "NMulin@bcc.ru        ['./output data/journals/2021 05 АСУ И С1 Север.xlsx', './output data/journals/2021 05 АСУ И С1 Юг.xlsx', './output data/journals/2021 05 АСУ ТП С1 Север.xlsx', './output data/journals/2021 05 АСУ ТП С1 Юг.xlsx']\n",
      "VMakarov@bcc.ru      ['./output data/journals/2021 05 АСУ АМ С2.xlsx', './output data/journals/2021 05 АСУ И ЗУ.xlsx', './output data/journals/2021 05 АСУ И С2 Север.xlsx', './output data/journals/2021 05 АСУ И С2 Юг.xlsx', './output data/journals/2021 05 АСУ ТП ЗУ.xlsx', './output data/journals/2021 05 АСУ ТП С2 Север.xlsx', './output data/journals/2021 05 АСУ ТП С2 Юг.xlsx']\n",
      "MKokoev@bcc.ru       ['./output data/journals/2021 05 АСУ ТП В1.xlsx', './output data/journals/2021 05 АСУ ТП В2.xlsx', './output data/journals/2021 05 АСУ ТП В3.xlsx', './output data/journals/2021 05 АСУ ТП В4.xlsx', './output data/journals/2021 05 АСУ ТП В5.xlsx', './output data/journals/2021 05 АСУ ТП В6.xlsx']\n",
      "APodolskij@bcc.ru    ['./output data/journals/2021 05 АСУ ТП В1.xlsx', './output data/journals/2021 05 АСУ ТП В2.xlsx', './output data/journals/2021 05 АСУ ТП В3.xlsx', './output data/journals/2021 05 АСУ ТП В4.xlsx', './output data/journals/2021 05 АСУ ТП В5.xlsx', './output data/journals/2021 05 АСУ ТП В6.xlsx']\n",
      "AIlin@bcc.ru         ['./output data/journals/2021 05 АИИСКУЕ.xlsx', './output data/journals/2021 05 ВОЛС.xlsx', './output data/journals/2021 05 ЛВС.xlsx']\n",
      "AYastrebov@bcc.ru    ['./output data/journals/2021 05 Тех Учет.xlsx']\n",
      "AOgorodnikov@bcc.ru  ['./output data/journals/2021 05 ТК М2.xlsx']\n"
     ],
     "output_type": "stream"
    }
   ],
   "source": [
    "email_processing.send_journals(config_email.batch_sending_journals, \n",
    "                               attachment_folder=r'./output data/journals/', \n",
    "                               mail_subj='журналы работ', \n",
    "                               add_month_to_subj= True, test_mod=False)"
   ],
   "metadata": {
    "collapsed": false,
    "pycharm": {
     "name": "#%%\n",
     "is_executing": false
    }
   }
  },
  {
   "cell_type": "code",
   "execution_count": null,
   "outputs": [],
   "source": [
    "email_processing.send_journals(config_email.batch_sending_plans, \n",
    "                               attachment_folder=r'./output data/plans/', \n",
    "                               mail_subj='планы работ', \n",
    "                               add_month_to_subj= True, test_mod=False)"
   ],
   "metadata": {
    "collapsed": false,
    "pycharm": {
     "name": "#%%\n"
    }
   }
  },
  {
   "cell_type": "code",
   "execution_count": 65,
   "outputs": [
    {
     "name": "stdout",
     "text": [
      "email subject: календарь работ Май \n",
      "MKokoev@bcc.ru       ['./output data/calendars/2021 05 Календарь работ В1-В6.xlsx']\n",
      "APodolskij@bcc.ru    ['./output data/calendars/2021 05 Календарь работ В1-В6.xlsx']\n"
     ],
     "output_type": "stream"
    }
   ],
   "source": [
    "email_processing.send_journals(config_email.batch_sending_calendars, \n",
    "                               attachment_folder=r'./output data/calendars/', \n",
    "                               mail_subj='календарь работ', \n",
    "                               add_month_to_subj= True, test_mod=False)\n"
   ],
   "metadata": {
    "collapsed": false,
    "pycharm": {
     "name": "#%%\n",
     "is_executing": false
    }
   }
  },
  {
   "cell_type": "markdown",
   "source": [
    "# Sandbox"
   ],
   "metadata": {
    "collapsed": false,
    "pycharm": {
     "name": "#%% md\n"
    }
   }
  },
  {
   "cell_type": "code",
   "execution_count": 57,
   "outputs": [
    {
     "data": {
      "text/plain": "True"
     },
     "metadata": {},
     "output_type": "execute_result",
     "execution_count": 57
    }
   ],
   "source": [],
   "metadata": {
    "collapsed": false,
    "pycharm": {
     "name": "#%%\n",
     "is_executing": false
    }
   }
  },
  {
   "cell_type": "code",
   "execution_count": 10,
   "outputs": [
    {
     "data": {
      "text/plain": "           date          system      object                         place  \\\n0    2021-04-01   Systems.ASKUE  Objects.ZU         Здание управления КЗС   \n1    2021-04-02   Systems.ASKUE  Objects.ZU         Здание управления КЗС   \n2    2021-04-05   Systems.ASKUE  Objects.ZU         Здание управления КЗС   \n3    2021-04-06   Systems.ASKUE  Objects.ZU         Здание управления КЗС   \n4    2021-04-07   Systems.ASKUE  Objects.ZU         Здание управления КЗС   \n..          ...             ...         ...                           ...   \n533  2021-04-12  Systems.ASU_TP  Objects.V6  Водопропускное сооружение В6   \n534  2021-04-19  Systems.ASU_TP  Objects.V6  Водопропускное сооружение В6   \n535  2021-04-30  Systems.ASU_TP  Objects.V6  Водопропускное сооружение В6   \n536  2021-04-22  Systems.ASU_TP  Objects.V6  Водопропускное сооружение В6   \n537  2021-04-23  Systems.ASU_TP  Objects.V6  Водопропускное сооружение В6   \n\n    work_type                            tech_map              equip_name  \\\n0         ЕТО            Технологическая карта №9  дистанционный контроль   \n1         ЕТО            Технологическая карта №9  дистанционный контроль   \n2         ЕТО            Технологическая карта №9  дистанционный контроль   \n3         ЕТО            Технологическая карта №9  дистанционный контроль   \n4         ЕТО            Технологическая карта №9  дистанционный контроль   \n..        ...                                 ...                     ...   \n533       ТО1  Технологическая карта 02/В6/2/2016                  ПТК В6   \n534       ТО1  Технологическая карта 02/В6/2/2016                  ПТК В6   \n535       ТО1  Технологическая карта 02/В6/2/2016                  ПТК В6   \n536       ТО2  Технологическая карта 03/В6/2/2016                  ПТК В6   \n537       ТО2  Технологическая карта 03/В6/2/2016                  ПТК В6   \n\n                                       performer  \n0     Ястребов Алексей Владимирович +79313581975  \n1     Ястребов Алексей Владимирович +79313581975  \n2         Ильин Андрей Владимирович +79219303652  \n3         Ильин Андрей Владимирович +79219303652  \n4         Ильин Андрей Владимирович +79219303652  \n..                                           ...  \n533  Подольский Андрей Вениаминович +79312531066  \n534  Подольский Андрей Вениаминович +79312531066  \n535        Кокоев Михаил Николаевич +79216441993  \n536        Кокоев Михаил Николаевич +79216441993  \n537        Кокоев Михаил Николаевич +79216441993  \n\n[538 rows x 8 columns]",
      "text/html": "<div>\n<style scoped>\n    .dataframe tbody tr th:only-of-type {\n        vertical-align: middle;\n    }\n\n    .dataframe tbody tr th {\n        vertical-align: top;\n    }\n\n    .dataframe thead th {\n        text-align: right;\n    }\n</style>\n<table border=\"1\" class=\"dataframe\">\n  <thead>\n    <tr style=\"text-align: right;\">\n      <th></th>\n      <th>date</th>\n      <th>system</th>\n      <th>object</th>\n      <th>place</th>\n      <th>work_type</th>\n      <th>tech_map</th>\n      <th>equip_name</th>\n      <th>performer</th>\n    </tr>\n  </thead>\n  <tbody>\n    <tr>\n      <td>0</td>\n      <td>2021-04-01</td>\n      <td>Systems.ASKUE</td>\n      <td>Objects.ZU</td>\n      <td>Здание управления КЗС</td>\n      <td>ЕТО</td>\n      <td>Технологическая карта №9</td>\n      <td>дистанционный контроль</td>\n      <td>Ястребов Алексей Владимирович +79313581975</td>\n    </tr>\n    <tr>\n      <td>1</td>\n      <td>2021-04-02</td>\n      <td>Systems.ASKUE</td>\n      <td>Objects.ZU</td>\n      <td>Здание управления КЗС</td>\n      <td>ЕТО</td>\n      <td>Технологическая карта №9</td>\n      <td>дистанционный контроль</td>\n      <td>Ястребов Алексей Владимирович +79313581975</td>\n    </tr>\n    <tr>\n      <td>2</td>\n      <td>2021-04-05</td>\n      <td>Systems.ASKUE</td>\n      <td>Objects.ZU</td>\n      <td>Здание управления КЗС</td>\n      <td>ЕТО</td>\n      <td>Технологическая карта №9</td>\n      <td>дистанционный контроль</td>\n      <td>Ильин Андрей Владимирович +79219303652</td>\n    </tr>\n    <tr>\n      <td>3</td>\n      <td>2021-04-06</td>\n      <td>Systems.ASKUE</td>\n      <td>Objects.ZU</td>\n      <td>Здание управления КЗС</td>\n      <td>ЕТО</td>\n      <td>Технологическая карта №9</td>\n      <td>дистанционный контроль</td>\n      <td>Ильин Андрей Владимирович +79219303652</td>\n    </tr>\n    <tr>\n      <td>4</td>\n      <td>2021-04-07</td>\n      <td>Systems.ASKUE</td>\n      <td>Objects.ZU</td>\n      <td>Здание управления КЗС</td>\n      <td>ЕТО</td>\n      <td>Технологическая карта №9</td>\n      <td>дистанционный контроль</td>\n      <td>Ильин Андрей Владимирович +79219303652</td>\n    </tr>\n    <tr>\n      <td>...</td>\n      <td>...</td>\n      <td>...</td>\n      <td>...</td>\n      <td>...</td>\n      <td>...</td>\n      <td>...</td>\n      <td>...</td>\n      <td>...</td>\n    </tr>\n    <tr>\n      <td>533</td>\n      <td>2021-04-12</td>\n      <td>Systems.ASU_TP</td>\n      <td>Objects.V6</td>\n      <td>Водопропускное сооружение В6</td>\n      <td>ТО1</td>\n      <td>Технологическая карта 02/В6/2/2016</td>\n      <td>ПТК В6</td>\n      <td>Подольский Андрей Вениаминович +79312531066</td>\n    </tr>\n    <tr>\n      <td>534</td>\n      <td>2021-04-19</td>\n      <td>Systems.ASU_TP</td>\n      <td>Objects.V6</td>\n      <td>Водопропускное сооружение В6</td>\n      <td>ТО1</td>\n      <td>Технологическая карта 02/В6/2/2016</td>\n      <td>ПТК В6</td>\n      <td>Подольский Андрей Вениаминович +79312531066</td>\n    </tr>\n    <tr>\n      <td>535</td>\n      <td>2021-04-30</td>\n      <td>Systems.ASU_TP</td>\n      <td>Objects.V6</td>\n      <td>Водопропускное сооружение В6</td>\n      <td>ТО1</td>\n      <td>Технологическая карта 02/В6/2/2016</td>\n      <td>ПТК В6</td>\n      <td>Кокоев Михаил Николаевич +79216441993</td>\n    </tr>\n    <tr>\n      <td>536</td>\n      <td>2021-04-22</td>\n      <td>Systems.ASU_TP</td>\n      <td>Objects.V6</td>\n      <td>Водопропускное сооружение В6</td>\n      <td>ТО2</td>\n      <td>Технологическая карта 03/В6/2/2016</td>\n      <td>ПТК В6</td>\n      <td>Кокоев Михаил Николаевич +79216441993</td>\n    </tr>\n    <tr>\n      <td>537</td>\n      <td>2021-04-23</td>\n      <td>Systems.ASU_TP</td>\n      <td>Objects.V6</td>\n      <td>Водопропускное сооружение В6</td>\n      <td>ТО2</td>\n      <td>Технологическая карта 03/В6/2/2016</td>\n      <td>ПТК В6</td>\n      <td>Кокоев Михаил Николаевич +79216441993</td>\n    </tr>\n  </tbody>\n</table>\n<p>538 rows × 8 columns</p>\n</div>"
     },
     "execution_count": 10,
     "metadata": {},
     "output_type": "execute_result"
    }
   ],
   "source": [
    "from work_calendar import calendar_pivot_table, make_calendar\n",
    "calendar_pivot_table(df_jobs, description)\n",
    "\n",
    "\n"
   ],
   "metadata": {
    "collapsed": false,
    "pycharm": {
     "name": "#%%\n"
    }
   }
  },
  {
   "cell_type": "code",
   "execution_count": 48,
   "outputs": [],
   "source": [
    "dfs = df_jobs.groupby(df_jobs.system, sort=False)"
   ],
   "metadata": {
    "collapsed": false,
    "pycharm": {
     "name": "#%%\n"
    }
   }
  },
  {
   "cell_type": "code",
   "execution_count": 51,
   "outputs": [
    {
     "data": {
      "text/plain": "           date         system         object                  place  \\\n0    2021-04-01  Systems.ASKUE     Objects.ZU  Здание управления КЗС   \n1    2021-04-02  Systems.ASKUE     Objects.ZU  Здание управления КЗС   \n2    2021-04-05  Systems.ASKUE     Objects.ZU  Здание управления КЗС   \n3    2021-04-06  Systems.ASKUE     Objects.ZU  Здание управления КЗС   \n4    2021-04-07  Systems.ASKUE     Objects.ZU  Здание управления КЗС   \n5    2021-04-08  Systems.ASKUE     Objects.ZU  Здание управления КЗС   \n6    2021-04-09  Systems.ASKUE     Objects.ZU  Здание управления КЗС   \n7    2021-04-12  Systems.ASKUE     Objects.ZU  Здание управления КЗС   \n8    2021-04-13  Systems.ASKUE     Objects.ZU  Здание управления КЗС   \n9    2021-04-14  Systems.ASKUE     Objects.ZU  Здание управления КЗС   \n10   2021-04-15  Systems.ASKUE     Objects.ZU  Здание управления КЗС   \n11   2021-04-16  Systems.ASKUE     Objects.ZU  Здание управления КЗС   \n12   2021-04-19  Systems.ASKUE     Objects.ZU  Здание управления КЗС   \n13   2021-04-20  Systems.ASKUE     Objects.ZU  Здание управления КЗС   \n14   2021-04-21  Systems.ASKUE     Objects.ZU  Здание управления КЗС   \n15   2021-04-22  Systems.ASKUE     Objects.ZU  Здание управления КЗС   \n16   2021-04-23  Systems.ASKUE     Objects.ZU  Здание управления КЗС   \n17   2021-04-26  Systems.ASKUE     Objects.ZU  Здание управления КЗС   \n18   2021-04-27  Systems.ASKUE     Objects.ZU  Здание управления КЗС   \n19   2021-04-28  Systems.ASKUE     Objects.ZU  Здание управления КЗС   \n20   2021-04-29  Systems.ASKUE     Objects.ZU  Здание управления КЗС   \n21   2021-04-30  Systems.ASKUE     Objects.ZU  Здание управления КЗС   \n22   2021-04-26  Systems.ASKUE     Objects.ZU  Здание управления КЗС   \n23   2021-04-12  Systems.ASKUE     Objects.ZU  Здание управления КЗС   \n24   2021-04-12  Systems.ASKUE     Objects.ZU  Здание управления КЗС   \n25   2021-04-26  Systems.ASKUE     Objects.ZU  Здание управления КЗС   \n42   2021-04-20  Systems.ASKUE  Objects.PS360     ПС 110/35/6кВ №360   \n43   2021-04-20  Systems.ASKUE  Objects.PS360     ПС 110/35/6кВ №360   \n44   2021-04-20  Systems.ASKUE  Objects.PS360     ПС 110/35/6кВ №360   \n45   2021-04-20  Systems.ASKUE  Objects.PS360     ПС 110/35/6кВ №360   \n46   2021-04-20  Systems.ASKUE  Objects.PS360     ПС 110/35/6кВ №360   \n47   2021-04-20  Systems.ASKUE  Objects.PS360     ПС 110/35/6кВ №360   \n103  2021-04-05  Systems.ASKUE     Objects.S2         С2 ПС 110/10кВ   \n104  2021-04-05  Systems.ASKUE     Objects.S2         С2 ПС 110/10кВ   \n105  2021-04-05  Systems.ASKUE     Objects.S2         С2 ПС 110/10кВ   \n106  2021-04-05  Systems.ASKUE     Objects.S2         С2 ПС 110/10кВ   \n107  2021-04-05  Systems.ASKUE     Objects.S2         С2 ПС 110/10кВ   \n108  2021-04-05  Systems.ASKUE     Objects.S2         С2 ПС 110/10кВ   \n176  2021-04-13  Systems.ASKUE     Objects.S1         С1 ПС 110/10кВ   \n177  2021-04-13  Systems.ASKUE     Objects.S1         С1 ПС 110/10кВ   \n178  2021-04-13  Systems.ASKUE     Objects.S1         С1 ПС 110/10кВ   \n179  2021-04-13  Systems.ASKUE     Objects.S1         С1 ПС 110/10кВ   \n180  2021-04-13  Systems.ASKUE     Objects.S1         С1 ПС 110/10кВ   \n181  2021-04-29  Systems.ASKUE     Objects.S1         С1 ПС 110/10кВ   \n182  2021-04-29  Systems.ASKUE     Objects.S1         С1 ПС 110/10кВ   \n183  2021-04-29  Systems.ASKUE     Objects.S1         С1 ПС 110/10кВ   \n184  2021-04-29  Systems.ASKUE     Objects.S1         С1 ПС 110/10кВ   \n185  2021-04-29  Systems.ASKUE     Objects.S1         С1 ПС 110/10кВ   \n186  2021-04-29  Systems.ASKUE     Objects.S1         С1 ПС 110/10кВ   \n187  2021-04-20  Systems.ASKUE     Objects.S1         С1 ПС 110/10кВ   \n188  2021-04-20  Systems.ASKUE     Objects.S1         С1 ПС 110/10кВ   \n189  2021-04-20  Systems.ASKUE     Objects.S1         С1 ПС 110/10кВ   \n190  2021-04-20  Systems.ASKUE     Objects.S1         С1 ПС 110/10кВ   \n191  2021-04-20  Systems.ASKUE     Objects.S1         С1 ПС 110/10кВ   \n\n    work_type                   tech_map  \\\n0         ЕТО   Технологическая карта №9   \n1         ЕТО   Технологическая карта №9   \n2         ЕТО   Технологическая карта №9   \n3         ЕТО   Технологическая карта №9   \n4         ЕТО   Технологическая карта №9   \n5         ЕТО   Технологическая карта №9   \n6         ЕТО   Технологическая карта №9   \n7         ЕТО   Технологическая карта №9   \n8         ЕТО   Технологическая карта №9   \n9         ЕТО   Технологическая карта №9   \n10        ЕТО   Технологическая карта №9   \n11        ЕТО   Технологическая карта №9   \n12        ЕТО   Технологическая карта №9   \n13        ЕТО   Технологическая карта №9   \n14        ЕТО   Технологическая карта №9   \n15        ЕТО   Технологическая карта №9   \n16        ЕТО   Технологическая карта №9   \n17        ЕТО   Технологическая карта №9   \n18        ЕТО   Технологическая карта №9   \n19        ЕТО   Технологическая карта №9   \n20        ЕТО   Технологическая карта №9   \n21        ЕТО   Технологическая карта №9   \n22        ТО2   Технологическая карта №7   \n23        ТО2   Технологическая карта №8   \n24        ТО2  Технологическая карта №6б   \n25        ТО2  Технологическая карта №6б   \n42        ТО2    Технологическая карта№3   \n43        ТО2    Технологическая карта№4   \n44        ТО2    Технологическая карта№5   \n45        ТО2   Технологическая карта№6а   \n46        ТО2    Технологическая карта№2   \n47        ТО2    Технологическая карта№1   \n103       ТО2    Технологическая карта№3   \n104       ТО2    Технологическая карта№4   \n105       ТО2    Технологическая карта№5   \n106       ТО2   Технологическая карта№6а   \n107       ТО2    Технологическая карта№2   \n108       ТО2    Технологическая карта№1   \n176       ТО2    Технологическая карта№3   \n177       ТО2    Технологическая карта№5   \n178       ТО2   Технологическая карта№6а   \n179       ТО2    Технологическая карта№2   \n180       ТО2    Технологическая карта№1   \n181       ТО2    Технологическая карта№3   \n182       ТО2    Технологическая карта№4   \n183       ТО2    Технологическая карта№5   \n184       ТО2   Технологическая карта№6а   \n185       ТО2    Технологическая карта№2   \n186       ТО2    Технологическая карта№1   \n187       ТО2    Технологическая карта№3   \n188       ТО2    Технологическая карта№5   \n189       ТО2   Технологическая карта№6а   \n190       ТО2    Технологическая карта№2   \n191       ТО2    Технологическая карта№1   \n\n                                            equip_name  \\\n0                               дистанционный контроль   \n1                               дистанционный контроль   \n2                               дистанционный контроль   \n3                               дистанционный контроль   \n4                               дистанционный контроль   \n5                               дистанционный контроль   \n6                               дистанционный контроль   \n7                               дистанционный контроль   \n8                               дистанционный контроль   \n9                               дистанционный контроль   \n10                              дистанционный контроль   \n11                              дистанционный контроль   \n12                              дистанционный контроль   \n13                              дистанционный контроль   \n14                              дистанционный контроль   \n15                              дистанционный контроль   \n16                              дистанционный контроль   \n17                              дистанционный контроль   \n18                              дистанционный контроль   \n19                              дистанционный контроль   \n20                              дистанционный контроль   \n21                              дистанционный контроль   \n22   АРМ на базе ПК HP Compaq 8200 с операционной с...   \n23   СБД на базе HP ProLiant DL320 G5p с операционн...   \n24                           ИБП APC Smart UPS 1500 ВА   \n25                           ИБП APC Smart UPS 1500 ВА   \n42           коробка разветвительная типа КРП-3 (ПР-3)   \n43                        Контроллер сетевой СИКОН С70   \n44                       Контроллер сетевой СИКОН ТС65   \n45                     ИБП APC Smart UPS 750 (1500) ВА   \n46          коробка испытательная переходная типа ЛИМГ   \n47   счетчик электрической энергии многофункциональ...   \n103          коробка разветвительная типа КРП-3 (ПР-3)   \n104                       Контроллер сетевой СИКОН С70   \n105                      Контроллер сетевой СИКОН ТС65   \n106                    ИБП APC Smart UPS 750 (1500) ВА   \n107         коробка испытательная переходная типа ЛИМГ   \n108  счетчик электрической энергии многофункциональ...   \n176          коробка разветвительная типа КРП-3 (ПР-3)   \n177                      Контроллер сетевой СИКОН ТС65   \n178                    ИБП APC Smart UPS 750 (1500) ВА   \n179         коробка испытательная переходная типа ЛИМГ   \n180  счетчик электрической энергии многофункциональ...   \n181          коробка разветвительная типа КРП-3 (ПР-3)   \n182                       Контроллер сетевой СИКОН С70   \n183                      Контроллер сетевой СИКОН ТС65   \n184                    ИБП APC Smart UPS 750 (1500) ВА   \n185         коробка испытательная переходная типа ЛИМГ   \n186  счетчик электрической энергии многофункциональ...   \n187          коробка разветвительная типа КРП-3 (ПР-3)   \n188                      Контроллер сетевой СИКОН ТС65   \n189                    ИБП APC Smart UPS 750 (1500) ВА   \n190         коробка испытательная переходная типа ЛИМГ   \n191  счетчик электрической энергии многофункциональ...   \n\n                                      performer  \n0    Ястребов Алексей Владимирович +79313581975  \n1    Ястребов Алексей Владимирович +79313581975  \n2        Ильин Андрей Владимирович +79219303652  \n3        Ильин Андрей Владимирович +79219303652  \n4        Ильин Андрей Владимирович +79219303652  \n5    Ястребов Алексей Владимирович +79313581975  \n6    Ястребов Алексей Владимирович +79313581975  \n7    Ястребов Алексей Владимирович +79313581975  \n8        Ильин Андрей Владимирович +79219303652  \n9        Ильин Андрей Владимирович +79219303652  \n10       Ильин Андрей Владимирович +79219303652  \n11   Ястребов Алексей Владимирович +79313581975  \n12   Ястребов Алексей Владимирович +79313581975  \n13   Ястребов Алексей Владимирович +79313581975  \n14       Ильин Андрей Владимирович +79219303652  \n15       Ильин Андрей Владимирович +79219303652  \n16       Ильин Андрей Владимирович +79219303652  \n17       Гусев Михаил Владимирович +79675904368  \n18        Кокоев Михаил Николаевич +79216441993  \n19     Каприца Анатолий Евгеньевич +79046315018  \n20       Ильин Андрей Владимирович +79219303652  \n21       Ильин Андрей Владимирович +79219303652  \n22       Гусев Михаил Владимирович +79675904368  \n23   Ястребов Алексей Владимирович +79313581975  \n24   Ястребов Алексей Владимирович +79313581975  \n25       Гусев Михаил Владимирович +79675904368  \n42   Ястребов Алексей Владимирович +79313581975  \n43   Ястребов Алексей Владимирович +79313581975  \n44   Ястребов Алексей Владимирович +79313581975  \n45   Ястребов Алексей Владимирович +79313581975  \n46   Ястребов Алексей Владимирович +79313581975  \n47   Ястребов Алексей Владимирович +79313581975  \n103      Ильин Андрей Владимирович +79219303652  \n104      Ильин Андрей Владимирович +79219303652  \n105      Ильин Андрей Владимирович +79219303652  \n106      Ильин Андрей Владимирович +79219303652  \n107      Ильин Андрей Владимирович +79219303652  \n108      Ильин Андрей Владимирович +79219303652  \n176      Ильин Андрей Владимирович +79219303652  \n177      Ильин Андрей Владимирович +79219303652  \n178      Ильин Андрей Владимирович +79219303652  \n179      Ильин Андрей Владимирович +79219303652  \n180      Ильин Андрей Владимирович +79219303652  \n181      Ильин Андрей Владимирович +79219303652  \n182      Ильин Андрей Владимирович +79219303652  \n183      Ильин Андрей Владимирович +79219303652  \n184      Ильин Андрей Владимирович +79219303652  \n185      Ильин Андрей Владимирович +79219303652  \n186      Ильин Андрей Владимирович +79219303652  \n187  Ястребов Алексей Владимирович +79313581975  \n188  Ястребов Алексей Владимирович +79313581975  \n189  Ястребов Алексей Владимирович +79313581975  \n190  Ястребов Алексей Владимирович +79313581975  \n191  Ястребов Алексей Владимирович +79313581975  ",
      "text/html": "<div>\n<style scoped>\n    .dataframe tbody tr th:only-of-type {\n        vertical-align: middle;\n    }\n\n    .dataframe tbody tr th {\n        vertical-align: top;\n    }\n\n    .dataframe thead th {\n        text-align: right;\n    }\n</style>\n<table border=\"1\" class=\"dataframe\">\n  <thead>\n    <tr style=\"text-align: right;\">\n      <th></th>\n      <th>date</th>\n      <th>system</th>\n      <th>object</th>\n      <th>place</th>\n      <th>work_type</th>\n      <th>tech_map</th>\n      <th>equip_name</th>\n      <th>performer</th>\n    </tr>\n  </thead>\n  <tbody>\n    <tr>\n      <td>0</td>\n      <td>2021-04-01</td>\n      <td>Systems.ASKUE</td>\n      <td>Objects.ZU</td>\n      <td>Здание управления КЗС</td>\n      <td>ЕТО</td>\n      <td>Технологическая карта №9</td>\n      <td>дистанционный контроль</td>\n      <td>Ястребов Алексей Владимирович +79313581975</td>\n    </tr>\n    <tr>\n      <td>1</td>\n      <td>2021-04-02</td>\n      <td>Systems.ASKUE</td>\n      <td>Objects.ZU</td>\n      <td>Здание управления КЗС</td>\n      <td>ЕТО</td>\n      <td>Технологическая карта №9</td>\n      <td>дистанционный контроль</td>\n      <td>Ястребов Алексей Владимирович +79313581975</td>\n    </tr>\n    <tr>\n      <td>2</td>\n      <td>2021-04-05</td>\n      <td>Systems.ASKUE</td>\n      <td>Objects.ZU</td>\n      <td>Здание управления КЗС</td>\n      <td>ЕТО</td>\n      <td>Технологическая карта №9</td>\n      <td>дистанционный контроль</td>\n      <td>Ильин Андрей Владимирович +79219303652</td>\n    </tr>\n    <tr>\n      <td>3</td>\n      <td>2021-04-06</td>\n      <td>Systems.ASKUE</td>\n      <td>Objects.ZU</td>\n      <td>Здание управления КЗС</td>\n      <td>ЕТО</td>\n      <td>Технологическая карта №9</td>\n      <td>дистанционный контроль</td>\n      <td>Ильин Андрей Владимирович +79219303652</td>\n    </tr>\n    <tr>\n      <td>4</td>\n      <td>2021-04-07</td>\n      <td>Systems.ASKUE</td>\n      <td>Objects.ZU</td>\n      <td>Здание управления КЗС</td>\n      <td>ЕТО</td>\n      <td>Технологическая карта №9</td>\n      <td>дистанционный контроль</td>\n      <td>Ильин Андрей Владимирович +79219303652</td>\n    </tr>\n    <tr>\n      <td>5</td>\n      <td>2021-04-08</td>\n      <td>Systems.ASKUE</td>\n      <td>Objects.ZU</td>\n      <td>Здание управления КЗС</td>\n      <td>ЕТО</td>\n      <td>Технологическая карта №9</td>\n      <td>дистанционный контроль</td>\n      <td>Ястребов Алексей Владимирович +79313581975</td>\n    </tr>\n    <tr>\n      <td>6</td>\n      <td>2021-04-09</td>\n      <td>Systems.ASKUE</td>\n      <td>Objects.ZU</td>\n      <td>Здание управления КЗС</td>\n      <td>ЕТО</td>\n      <td>Технологическая карта №9</td>\n      <td>дистанционный контроль</td>\n      <td>Ястребов Алексей Владимирович +79313581975</td>\n    </tr>\n    <tr>\n      <td>7</td>\n      <td>2021-04-12</td>\n      <td>Systems.ASKUE</td>\n      <td>Objects.ZU</td>\n      <td>Здание управления КЗС</td>\n      <td>ЕТО</td>\n      <td>Технологическая карта №9</td>\n      <td>дистанционный контроль</td>\n      <td>Ястребов Алексей Владимирович +79313581975</td>\n    </tr>\n    <tr>\n      <td>8</td>\n      <td>2021-04-13</td>\n      <td>Systems.ASKUE</td>\n      <td>Objects.ZU</td>\n      <td>Здание управления КЗС</td>\n      <td>ЕТО</td>\n      <td>Технологическая карта №9</td>\n      <td>дистанционный контроль</td>\n      <td>Ильин Андрей Владимирович +79219303652</td>\n    </tr>\n    <tr>\n      <td>9</td>\n      <td>2021-04-14</td>\n      <td>Systems.ASKUE</td>\n      <td>Objects.ZU</td>\n      <td>Здание управления КЗС</td>\n      <td>ЕТО</td>\n      <td>Технологическая карта №9</td>\n      <td>дистанционный контроль</td>\n      <td>Ильин Андрей Владимирович +79219303652</td>\n    </tr>\n    <tr>\n      <td>10</td>\n      <td>2021-04-15</td>\n      <td>Systems.ASKUE</td>\n      <td>Objects.ZU</td>\n      <td>Здание управления КЗС</td>\n      <td>ЕТО</td>\n      <td>Технологическая карта №9</td>\n      <td>дистанционный контроль</td>\n      <td>Ильин Андрей Владимирович +79219303652</td>\n    </tr>\n    <tr>\n      <td>11</td>\n      <td>2021-04-16</td>\n      <td>Systems.ASKUE</td>\n      <td>Objects.ZU</td>\n      <td>Здание управления КЗС</td>\n      <td>ЕТО</td>\n      <td>Технологическая карта №9</td>\n      <td>дистанционный контроль</td>\n      <td>Ястребов Алексей Владимирович +79313581975</td>\n    </tr>\n    <tr>\n      <td>12</td>\n      <td>2021-04-19</td>\n      <td>Systems.ASKUE</td>\n      <td>Objects.ZU</td>\n      <td>Здание управления КЗС</td>\n      <td>ЕТО</td>\n      <td>Технологическая карта №9</td>\n      <td>дистанционный контроль</td>\n      <td>Ястребов Алексей Владимирович +79313581975</td>\n    </tr>\n    <tr>\n      <td>13</td>\n      <td>2021-04-20</td>\n      <td>Systems.ASKUE</td>\n      <td>Objects.ZU</td>\n      <td>Здание управления КЗС</td>\n      <td>ЕТО</td>\n      <td>Технологическая карта №9</td>\n      <td>дистанционный контроль</td>\n      <td>Ястребов Алексей Владимирович +79313581975</td>\n    </tr>\n    <tr>\n      <td>14</td>\n      <td>2021-04-21</td>\n      <td>Systems.ASKUE</td>\n      <td>Objects.ZU</td>\n      <td>Здание управления КЗС</td>\n      <td>ЕТО</td>\n      <td>Технологическая карта №9</td>\n      <td>дистанционный контроль</td>\n      <td>Ильин Андрей Владимирович +79219303652</td>\n    </tr>\n    <tr>\n      <td>15</td>\n      <td>2021-04-22</td>\n      <td>Systems.ASKUE</td>\n      <td>Objects.ZU</td>\n      <td>Здание управления КЗС</td>\n      <td>ЕТО</td>\n      <td>Технологическая карта №9</td>\n      <td>дистанционный контроль</td>\n      <td>Ильин Андрей Владимирович +79219303652</td>\n    </tr>\n    <tr>\n      <td>16</td>\n      <td>2021-04-23</td>\n      <td>Systems.ASKUE</td>\n      <td>Objects.ZU</td>\n      <td>Здание управления КЗС</td>\n      <td>ЕТО</td>\n      <td>Технологическая карта №9</td>\n      <td>дистанционный контроль</td>\n      <td>Ильин Андрей Владимирович +79219303652</td>\n    </tr>\n    <tr>\n      <td>17</td>\n      <td>2021-04-26</td>\n      <td>Systems.ASKUE</td>\n      <td>Objects.ZU</td>\n      <td>Здание управления КЗС</td>\n      <td>ЕТО</td>\n      <td>Технологическая карта №9</td>\n      <td>дистанционный контроль</td>\n      <td>Гусев Михаил Владимирович +79675904368</td>\n    </tr>\n    <tr>\n      <td>18</td>\n      <td>2021-04-27</td>\n      <td>Systems.ASKUE</td>\n      <td>Objects.ZU</td>\n      <td>Здание управления КЗС</td>\n      <td>ЕТО</td>\n      <td>Технологическая карта №9</td>\n      <td>дистанционный контроль</td>\n      <td>Кокоев Михаил Николаевич +79216441993</td>\n    </tr>\n    <tr>\n      <td>19</td>\n      <td>2021-04-28</td>\n      <td>Systems.ASKUE</td>\n      <td>Objects.ZU</td>\n      <td>Здание управления КЗС</td>\n      <td>ЕТО</td>\n      <td>Технологическая карта №9</td>\n      <td>дистанционный контроль</td>\n      <td>Каприца Анатолий Евгеньевич +79046315018</td>\n    </tr>\n    <tr>\n      <td>20</td>\n      <td>2021-04-29</td>\n      <td>Systems.ASKUE</td>\n      <td>Objects.ZU</td>\n      <td>Здание управления КЗС</td>\n      <td>ЕТО</td>\n      <td>Технологическая карта №9</td>\n      <td>дистанционный контроль</td>\n      <td>Ильин Андрей Владимирович +79219303652</td>\n    </tr>\n    <tr>\n      <td>21</td>\n      <td>2021-04-30</td>\n      <td>Systems.ASKUE</td>\n      <td>Objects.ZU</td>\n      <td>Здание управления КЗС</td>\n      <td>ЕТО</td>\n      <td>Технологическая карта №9</td>\n      <td>дистанционный контроль</td>\n      <td>Ильин Андрей Владимирович +79219303652</td>\n    </tr>\n    <tr>\n      <td>22</td>\n      <td>2021-04-26</td>\n      <td>Systems.ASKUE</td>\n      <td>Objects.ZU</td>\n      <td>Здание управления КЗС</td>\n      <td>ТО2</td>\n      <td>Технологическая карта №7</td>\n      <td>АРМ на базе ПК HP Compaq 8200 с операционной с...</td>\n      <td>Гусев Михаил Владимирович +79675904368</td>\n    </tr>\n    <tr>\n      <td>23</td>\n      <td>2021-04-12</td>\n      <td>Systems.ASKUE</td>\n      <td>Objects.ZU</td>\n      <td>Здание управления КЗС</td>\n      <td>ТО2</td>\n      <td>Технологическая карта №8</td>\n      <td>СБД на базе HP ProLiant DL320 G5p с операционн...</td>\n      <td>Ястребов Алексей Владимирович +79313581975</td>\n    </tr>\n    <tr>\n      <td>24</td>\n      <td>2021-04-12</td>\n      <td>Systems.ASKUE</td>\n      <td>Objects.ZU</td>\n      <td>Здание управления КЗС</td>\n      <td>ТО2</td>\n      <td>Технологическая карта №6б</td>\n      <td>ИБП APC Smart UPS 1500 ВА</td>\n      <td>Ястребов Алексей Владимирович +79313581975</td>\n    </tr>\n    <tr>\n      <td>25</td>\n      <td>2021-04-26</td>\n      <td>Systems.ASKUE</td>\n      <td>Objects.ZU</td>\n      <td>Здание управления КЗС</td>\n      <td>ТО2</td>\n      <td>Технологическая карта №6б</td>\n      <td>ИБП APC Smart UPS 1500 ВА</td>\n      <td>Гусев Михаил Владимирович +79675904368</td>\n    </tr>\n    <tr>\n      <td>42</td>\n      <td>2021-04-20</td>\n      <td>Systems.ASKUE</td>\n      <td>Objects.PS360</td>\n      <td>ПС 110/35/6кВ №360</td>\n      <td>ТО2</td>\n      <td>Технологическая карта№3</td>\n      <td>коробка разветвительная типа КРП-3 (ПР-3)</td>\n      <td>Ястребов Алексей Владимирович +79313581975</td>\n    </tr>\n    <tr>\n      <td>43</td>\n      <td>2021-04-20</td>\n      <td>Systems.ASKUE</td>\n      <td>Objects.PS360</td>\n      <td>ПС 110/35/6кВ №360</td>\n      <td>ТО2</td>\n      <td>Технологическая карта№4</td>\n      <td>Контроллер сетевой СИКОН С70</td>\n      <td>Ястребов Алексей Владимирович +79313581975</td>\n    </tr>\n    <tr>\n      <td>44</td>\n      <td>2021-04-20</td>\n      <td>Systems.ASKUE</td>\n      <td>Objects.PS360</td>\n      <td>ПС 110/35/6кВ №360</td>\n      <td>ТО2</td>\n      <td>Технологическая карта№5</td>\n      <td>Контроллер сетевой СИКОН ТС65</td>\n      <td>Ястребов Алексей Владимирович +79313581975</td>\n    </tr>\n    <tr>\n      <td>45</td>\n      <td>2021-04-20</td>\n      <td>Systems.ASKUE</td>\n      <td>Objects.PS360</td>\n      <td>ПС 110/35/6кВ №360</td>\n      <td>ТО2</td>\n      <td>Технологическая карта№6а</td>\n      <td>ИБП APC Smart UPS 750 (1500) ВА</td>\n      <td>Ястребов Алексей Владимирович +79313581975</td>\n    </tr>\n    <tr>\n      <td>46</td>\n      <td>2021-04-20</td>\n      <td>Systems.ASKUE</td>\n      <td>Objects.PS360</td>\n      <td>ПС 110/35/6кВ №360</td>\n      <td>ТО2</td>\n      <td>Технологическая карта№2</td>\n      <td>коробка испытательная переходная типа ЛИМГ</td>\n      <td>Ястребов Алексей Владимирович +79313581975</td>\n    </tr>\n    <tr>\n      <td>47</td>\n      <td>2021-04-20</td>\n      <td>Systems.ASKUE</td>\n      <td>Objects.PS360</td>\n      <td>ПС 110/35/6кВ №360</td>\n      <td>ТО2</td>\n      <td>Технологическая карта№1</td>\n      <td>счетчик электрической энергии многофункциональ...</td>\n      <td>Ястребов Алексей Владимирович +79313581975</td>\n    </tr>\n    <tr>\n      <td>103</td>\n      <td>2021-04-05</td>\n      <td>Systems.ASKUE</td>\n      <td>Objects.S2</td>\n      <td>С2 ПС 110/10кВ</td>\n      <td>ТО2</td>\n      <td>Технологическая карта№3</td>\n      <td>коробка разветвительная типа КРП-3 (ПР-3)</td>\n      <td>Ильин Андрей Владимирович +79219303652</td>\n    </tr>\n    <tr>\n      <td>104</td>\n      <td>2021-04-05</td>\n      <td>Systems.ASKUE</td>\n      <td>Objects.S2</td>\n      <td>С2 ПС 110/10кВ</td>\n      <td>ТО2</td>\n      <td>Технологическая карта№4</td>\n      <td>Контроллер сетевой СИКОН С70</td>\n      <td>Ильин Андрей Владимирович +79219303652</td>\n    </tr>\n    <tr>\n      <td>105</td>\n      <td>2021-04-05</td>\n      <td>Systems.ASKUE</td>\n      <td>Objects.S2</td>\n      <td>С2 ПС 110/10кВ</td>\n      <td>ТО2</td>\n      <td>Технологическая карта№5</td>\n      <td>Контроллер сетевой СИКОН ТС65</td>\n      <td>Ильин Андрей Владимирович +79219303652</td>\n    </tr>\n    <tr>\n      <td>106</td>\n      <td>2021-04-05</td>\n      <td>Systems.ASKUE</td>\n      <td>Objects.S2</td>\n      <td>С2 ПС 110/10кВ</td>\n      <td>ТО2</td>\n      <td>Технологическая карта№6а</td>\n      <td>ИБП APC Smart UPS 750 (1500) ВА</td>\n      <td>Ильин Андрей Владимирович +79219303652</td>\n    </tr>\n    <tr>\n      <td>107</td>\n      <td>2021-04-05</td>\n      <td>Systems.ASKUE</td>\n      <td>Objects.S2</td>\n      <td>С2 ПС 110/10кВ</td>\n      <td>ТО2</td>\n      <td>Технологическая карта№2</td>\n      <td>коробка испытательная переходная типа ЛИМГ</td>\n      <td>Ильин Андрей Владимирович +79219303652</td>\n    </tr>\n    <tr>\n      <td>108</td>\n      <td>2021-04-05</td>\n      <td>Systems.ASKUE</td>\n      <td>Objects.S2</td>\n      <td>С2 ПС 110/10кВ</td>\n      <td>ТО2</td>\n      <td>Технологическая карта№1</td>\n      <td>счетчик электрической энергии многофункциональ...</td>\n      <td>Ильин Андрей Владимирович +79219303652</td>\n    </tr>\n    <tr>\n      <td>176</td>\n      <td>2021-04-13</td>\n      <td>Systems.ASKUE</td>\n      <td>Objects.S1</td>\n      <td>С1 ПС 110/10кВ</td>\n      <td>ТО2</td>\n      <td>Технологическая карта№3</td>\n      <td>коробка разветвительная типа КРП-3 (ПР-3)</td>\n      <td>Ильин Андрей Владимирович +79219303652</td>\n    </tr>\n    <tr>\n      <td>177</td>\n      <td>2021-04-13</td>\n      <td>Systems.ASKUE</td>\n      <td>Objects.S1</td>\n      <td>С1 ПС 110/10кВ</td>\n      <td>ТО2</td>\n      <td>Технологическая карта№5</td>\n      <td>Контроллер сетевой СИКОН ТС65</td>\n      <td>Ильин Андрей Владимирович +79219303652</td>\n    </tr>\n    <tr>\n      <td>178</td>\n      <td>2021-04-13</td>\n      <td>Systems.ASKUE</td>\n      <td>Objects.S1</td>\n      <td>С1 ПС 110/10кВ</td>\n      <td>ТО2</td>\n      <td>Технологическая карта№6а</td>\n      <td>ИБП APC Smart UPS 750 (1500) ВА</td>\n      <td>Ильин Андрей Владимирович +79219303652</td>\n    </tr>\n    <tr>\n      <td>179</td>\n      <td>2021-04-13</td>\n      <td>Systems.ASKUE</td>\n      <td>Objects.S1</td>\n      <td>С1 ПС 110/10кВ</td>\n      <td>ТО2</td>\n      <td>Технологическая карта№2</td>\n      <td>коробка испытательная переходная типа ЛИМГ</td>\n      <td>Ильин Андрей Владимирович +79219303652</td>\n    </tr>\n    <tr>\n      <td>180</td>\n      <td>2021-04-13</td>\n      <td>Systems.ASKUE</td>\n      <td>Objects.S1</td>\n      <td>С1 ПС 110/10кВ</td>\n      <td>ТО2</td>\n      <td>Технологическая карта№1</td>\n      <td>счетчик электрической энергии многофункциональ...</td>\n      <td>Ильин Андрей Владимирович +79219303652</td>\n    </tr>\n    <tr>\n      <td>181</td>\n      <td>2021-04-29</td>\n      <td>Systems.ASKUE</td>\n      <td>Objects.S1</td>\n      <td>С1 ПС 110/10кВ</td>\n      <td>ТО2</td>\n      <td>Технологическая карта№3</td>\n      <td>коробка разветвительная типа КРП-3 (ПР-3)</td>\n      <td>Ильин Андрей Владимирович +79219303652</td>\n    </tr>\n    <tr>\n      <td>182</td>\n      <td>2021-04-29</td>\n      <td>Systems.ASKUE</td>\n      <td>Objects.S1</td>\n      <td>С1 ПС 110/10кВ</td>\n      <td>ТО2</td>\n      <td>Технологическая карта№4</td>\n      <td>Контроллер сетевой СИКОН С70</td>\n      <td>Ильин Андрей Владимирович +79219303652</td>\n    </tr>\n    <tr>\n      <td>183</td>\n      <td>2021-04-29</td>\n      <td>Systems.ASKUE</td>\n      <td>Objects.S1</td>\n      <td>С1 ПС 110/10кВ</td>\n      <td>ТО2</td>\n      <td>Технологическая карта№5</td>\n      <td>Контроллер сетевой СИКОН ТС65</td>\n      <td>Ильин Андрей Владимирович +79219303652</td>\n    </tr>\n    <tr>\n      <td>184</td>\n      <td>2021-04-29</td>\n      <td>Systems.ASKUE</td>\n      <td>Objects.S1</td>\n      <td>С1 ПС 110/10кВ</td>\n      <td>ТО2</td>\n      <td>Технологическая карта№6а</td>\n      <td>ИБП APC Smart UPS 750 (1500) ВА</td>\n      <td>Ильин Андрей Владимирович +79219303652</td>\n    </tr>\n    <tr>\n      <td>185</td>\n      <td>2021-04-29</td>\n      <td>Systems.ASKUE</td>\n      <td>Objects.S1</td>\n      <td>С1 ПС 110/10кВ</td>\n      <td>ТО2</td>\n      <td>Технологическая карта№2</td>\n      <td>коробка испытательная переходная типа ЛИМГ</td>\n      <td>Ильин Андрей Владимирович +79219303652</td>\n    </tr>\n    <tr>\n      <td>186</td>\n      <td>2021-04-29</td>\n      <td>Systems.ASKUE</td>\n      <td>Objects.S1</td>\n      <td>С1 ПС 110/10кВ</td>\n      <td>ТО2</td>\n      <td>Технологическая карта№1</td>\n      <td>счетчик электрической энергии многофункциональ...</td>\n      <td>Ильин Андрей Владимирович +79219303652</td>\n    </tr>\n    <tr>\n      <td>187</td>\n      <td>2021-04-20</td>\n      <td>Systems.ASKUE</td>\n      <td>Objects.S1</td>\n      <td>С1 ПС 110/10кВ</td>\n      <td>ТО2</td>\n      <td>Технологическая карта№3</td>\n      <td>коробка разветвительная типа КРП-3 (ПР-3)</td>\n      <td>Ястребов Алексей Владимирович +79313581975</td>\n    </tr>\n    <tr>\n      <td>188</td>\n      <td>2021-04-20</td>\n      <td>Systems.ASKUE</td>\n      <td>Objects.S1</td>\n      <td>С1 ПС 110/10кВ</td>\n      <td>ТО2</td>\n      <td>Технологическая карта№5</td>\n      <td>Контроллер сетевой СИКОН ТС65</td>\n      <td>Ястребов Алексей Владимирович +79313581975</td>\n    </tr>\n    <tr>\n      <td>189</td>\n      <td>2021-04-20</td>\n      <td>Systems.ASKUE</td>\n      <td>Objects.S1</td>\n      <td>С1 ПС 110/10кВ</td>\n      <td>ТО2</td>\n      <td>Технологическая карта№6а</td>\n      <td>ИБП APC Smart UPS 750 (1500) ВА</td>\n      <td>Ястребов Алексей Владимирович +79313581975</td>\n    </tr>\n    <tr>\n      <td>190</td>\n      <td>2021-04-20</td>\n      <td>Systems.ASKUE</td>\n      <td>Objects.S1</td>\n      <td>С1 ПС 110/10кВ</td>\n      <td>ТО2</td>\n      <td>Технологическая карта№2</td>\n      <td>коробка испытательная переходная типа ЛИМГ</td>\n      <td>Ястребов Алексей Владимирович +79313581975</td>\n    </tr>\n    <tr>\n      <td>191</td>\n      <td>2021-04-20</td>\n      <td>Systems.ASKUE</td>\n      <td>Objects.S1</td>\n      <td>С1 ПС 110/10кВ</td>\n      <td>ТО2</td>\n      <td>Технологическая карта№1</td>\n      <td>счетчик электрической энергии многофункциональ...</td>\n      <td>Ястребов Алексей Владимирович +79313581975</td>\n    </tr>\n  </tbody>\n</table>\n</div>"
     },
     "execution_count": 51,
     "metadata": {},
     "output_type": "execute_result"
    }
   ],
   "source": [
    "dfs.get_group(Systems.ASKUE)"
   ],
   "metadata": {
    "collapsed": false,
    "pycharm": {
     "name": "#%%\n"
    }
   }
  },
  {
   "cell_type": "code",
   "execution_count": 168,
   "outputs": [
    {
     "name": "stderr",
     "output_type": "stream",
     "text": [
      "c:\\users\\mihail\\pycharmprojects\\work plan generator\\venv\\lib\\site-packages\\ipykernel_launcher.py:4: UserWarning: Boolean Series key will be reindexed to match DataFrame index.\n",
      "  after removing the cwd from sys.path.\n"
     ]
    },
    {
     "data": {
      "text/plain": "date                         2021-04-05 2021-04-06 2021-04-07 2021-04-12  \\\nplace                                                                      \nВодопропускное сооружение В1        NaN        NaN        ТО1        NaN   \nВодопропускное сооружение В2        NaN        NaN        ТО1        NaN   \nВодопропускное сооружение В3        NaN        ТО1        NaN        NaN   \nВодопропускное сооружение В4        NaN        ТО1        NaN        NaN   \nВодопропускное сооружение В5        ТО1        NaN        NaN        ТО1   \nВодопропускное сооружение В6        ТО1        NaN        NaN        ТО1   \n\ndate                         2021-04-13 2021-04-14 2021-04-19 2021-04-20  \\\nplace                                                                      \nВодопропускное сооружение В1        NaN        ТО1        NaN        NaN   \nВодопропускное сооружение В2        NaN        ТО1        NaN        NaN   \nВодопропускное сооружение В3        ТО1        NaN        NaN        ТО1   \nВодопропускное сооружение В4        ТО1        NaN        NaN        ТО1   \nВодопропускное сооружение В5        NaN        NaN        ТО1        NaN   \nВодопропускное сооружение В6        NaN        NaN        ТО1        NaN   \n\ndate                         2021-04-21 2021-04-22 2021-04-23 2021-04-26  \\\nplace                                                                      \nВодопропускное сооружение В1        ТО1        NaN        NaN        ТО1   \nВодопропускное сооружение В2        ТО1        NaN        NaN        ТО1   \nВодопропускное сооружение В3        NaN        NaN        NaN        NaN   \nВодопропускное сооружение В4        NaN        NaN        NaN        NaN   \nВодопропускное сооружение В5        NaN        ТО2        ТО2        NaN   \nВодопропускное сооружение В6        NaN        ТО2        ТО2        NaN   \n\ndate                         2021-04-27 2021-04-28 2021-04-29 2021-04-30  \nplace                                                                     \nВодопропускное сооружение В1        NaN        NaN        ТО2        ТО2  \nВодопропускное сооружение В2        NaN        NaN        ТО2        ТО2  \nВодопропускное сооружение В3        ТО2        ТО2        NaN        ТО1  \nВодопропускное сооружение В4        ТО2        ТО2        NaN        ТО1  \nВодопропускное сооружение В5        NaN        NaN        NaN        ТО1  \nВодопропускное сооружение В6        NaN        NaN        NaN        ТО1  ",
      "text/html": "<div>\n<style scoped>\n    .dataframe tbody tr th:only-of-type {\n        vertical-align: middle;\n    }\n\n    .dataframe tbody tr th {\n        vertical-align: top;\n    }\n\n    .dataframe thead th {\n        text-align: right;\n    }\n</style>\n<table border=\"1\" class=\"dataframe\">\n  <thead>\n    <tr style=\"text-align: right;\">\n      <th>date</th>\n      <th>2021-04-05</th>\n      <th>2021-04-06</th>\n      <th>2021-04-07</th>\n      <th>2021-04-12</th>\n      <th>2021-04-13</th>\n      <th>2021-04-14</th>\n      <th>2021-04-19</th>\n      <th>2021-04-20</th>\n      <th>2021-04-21</th>\n      <th>2021-04-22</th>\n      <th>2021-04-23</th>\n      <th>2021-04-26</th>\n      <th>2021-04-27</th>\n      <th>2021-04-28</th>\n      <th>2021-04-29</th>\n      <th>2021-04-30</th>\n    </tr>\n    <tr>\n      <th>place</th>\n      <th></th>\n      <th></th>\n      <th></th>\n      <th></th>\n      <th></th>\n      <th></th>\n      <th></th>\n      <th></th>\n      <th></th>\n      <th></th>\n      <th></th>\n      <th></th>\n      <th></th>\n      <th></th>\n      <th></th>\n      <th></th>\n    </tr>\n  </thead>\n  <tbody>\n    <tr>\n      <td>Водопропускное сооружение В1</td>\n      <td>NaN</td>\n      <td>NaN</td>\n      <td>ТО1</td>\n      <td>NaN</td>\n      <td>NaN</td>\n      <td>ТО1</td>\n      <td>NaN</td>\n      <td>NaN</td>\n      <td>ТО1</td>\n      <td>NaN</td>\n      <td>NaN</td>\n      <td>ТО1</td>\n      <td>NaN</td>\n      <td>NaN</td>\n      <td>ТО2</td>\n      <td>ТО2</td>\n    </tr>\n    <tr>\n      <td>Водопропускное сооружение В2</td>\n      <td>NaN</td>\n      <td>NaN</td>\n      <td>ТО1</td>\n      <td>NaN</td>\n      <td>NaN</td>\n      <td>ТО1</td>\n      <td>NaN</td>\n      <td>NaN</td>\n      <td>ТО1</td>\n      <td>NaN</td>\n      <td>NaN</td>\n      <td>ТО1</td>\n      <td>NaN</td>\n      <td>NaN</td>\n      <td>ТО2</td>\n      <td>ТО2</td>\n    </tr>\n    <tr>\n      <td>Водопропускное сооружение В3</td>\n      <td>NaN</td>\n      <td>ТО1</td>\n      <td>NaN</td>\n      <td>NaN</td>\n      <td>ТО1</td>\n      <td>NaN</td>\n      <td>NaN</td>\n      <td>ТО1</td>\n      <td>NaN</td>\n      <td>NaN</td>\n      <td>NaN</td>\n      <td>NaN</td>\n      <td>ТО2</td>\n      <td>ТО2</td>\n      <td>NaN</td>\n      <td>ТО1</td>\n    </tr>\n    <tr>\n      <td>Водопропускное сооружение В4</td>\n      <td>NaN</td>\n      <td>ТО1</td>\n      <td>NaN</td>\n      <td>NaN</td>\n      <td>ТО1</td>\n      <td>NaN</td>\n      <td>NaN</td>\n      <td>ТО1</td>\n      <td>NaN</td>\n      <td>NaN</td>\n      <td>NaN</td>\n      <td>NaN</td>\n      <td>ТО2</td>\n      <td>ТО2</td>\n      <td>NaN</td>\n      <td>ТО1</td>\n    </tr>\n    <tr>\n      <td>Водопропускное сооружение В5</td>\n      <td>ТО1</td>\n      <td>NaN</td>\n      <td>NaN</td>\n      <td>ТО1</td>\n      <td>NaN</td>\n      <td>NaN</td>\n      <td>ТО1</td>\n      <td>NaN</td>\n      <td>NaN</td>\n      <td>ТО2</td>\n      <td>ТО2</td>\n      <td>NaN</td>\n      <td>NaN</td>\n      <td>NaN</td>\n      <td>NaN</td>\n      <td>ТО1</td>\n    </tr>\n    <tr>\n      <td>Водопропускное сооружение В6</td>\n      <td>ТО1</td>\n      <td>NaN</td>\n      <td>NaN</td>\n      <td>ТО1</td>\n      <td>NaN</td>\n      <td>NaN</td>\n      <td>ТО1</td>\n      <td>NaN</td>\n      <td>NaN</td>\n      <td>ТО2</td>\n      <td>ТО2</td>\n      <td>NaN</td>\n      <td>NaN</td>\n      <td>NaN</td>\n      <td>NaN</td>\n      <td>ТО1</td>\n    </tr>\n  </tbody>\n</table>\n</div>"
     },
     "execution_count": 168,
     "metadata": {},
     "output_type": "execute_result"
    }
   ],
   "source": [
    "works_calendar = df_jobs[df_jobs.object.isin(\n",
    "                [Objects.V1, Objects.V2, Objects.V3,\n",
    "                 Objects.V4, Objects.V5, Objects.V6])]\\\n",
    "        [df_jobs.system == Systems.ASU_TP]\\\n",
    "        [['date', 'place', 'work_type']]\n",
    "# works_calendar.object = works_calendar.object.apply(lambda i: i.value)\n",
    "works_calendar = works_calendar.pivot_table(values='work_type', index='place',\n",
    "                                            columns='date', aggfunc = lambda x: ', '.join(x))\n",
    "works_calendar"
   ],
   "metadata": {
    "collapsed": false,
    "pycharm": {
     "name": "#%%\n"
    }
   }
  },
  {
   "cell_type": "code",
   "execution_count": 162,
   "outputs": [],
   "source": [
    "from openpyxl.utils import get_column_letter\n",
    "name = 'Календарь работ В1-В6'\n",
    "with pd.ExcelWriter(path=r'output data/'+name+'.xlsx', date_format='DD.MM', datetime_format='DD.MM') as writer:\n",
    "    sheet_name = 'Sheet1'\n",
    "    works_calendar.to_excel(writer, sheet_name)\n",
    "    ws = writer.sheets[sheet_name]\n",
    "    ws.cell(row=1, column=1).value = name\n",
    "    ws.cell(row=2, column=1).value = ''\n",
    "    ws.delete_rows(3)\n",
    "    ws.column_dimensions[get_column_letter(1)].width = 35\n",
    "    for col in range(2,35):\n",
    "        ws.column_dimensions[get_column_letter(col)].width = 6\n",
    "    ws.page_setup.orientation = ws.ORIENTATION_LANDSCAPE"
   ],
   "metadata": {
    "collapsed": false,
    "pycharm": {
     "name": "#%%\n"
    }
   }
  },
  {
   "cell_type": "code",
   "execution_count": 155,
   "outputs": [
    {
     "name": "stderr",
     "output_type": "stream",
     "text": [
      "c:\\users\\mihail\\pycharmprojects\\work plan generator\\venv\\lib\\site-packages\\ipykernel_launcher.py:2: UserWarning: Boolean Series key will be reindexed to match DataFrame index.\n",
      "  \n"
     ]
    },
    {
     "data": {
      "text/plain": "           date     place work_type  system\n319  2021-04-01     С1 Юг       ЕТО   АСУ И\n320  2021-04-02     С1 Юг       ЕТО   АСУ И\n321  2021-04-03     С1 Юг       ЕТО   АСУ И\n322  2021-04-04     С1 Юг       ЕТО   АСУ И\n323  2021-04-05     С1 Юг       ЕТО   АСУ И\n..          ...       ...       ...     ...\n492  2021-04-20  С1 Север       ТО1  АСУ ТП\n493  2021-04-28  С1 Север       ТО1  АСУ ТП\n494  2021-04-29  С1 Север       ТО1  АСУ ТП\n495  2021-04-22  С1 Север       ТО2  АСУ ТП\n496  2021-04-23  С1 Север       ТО2  АСУ ТП\n\n[90 rows x 4 columns]",
      "text/html": "<div>\n<style scoped>\n    .dataframe tbody tr th:only-of-type {\n        vertical-align: middle;\n    }\n\n    .dataframe tbody tr th {\n        vertical-align: top;\n    }\n\n    .dataframe thead th {\n        text-align: right;\n    }\n</style>\n<table border=\"1\" class=\"dataframe\">\n  <thead>\n    <tr style=\"text-align: right;\">\n      <th></th>\n      <th>date</th>\n      <th>place</th>\n      <th>work_type</th>\n      <th>system</th>\n    </tr>\n  </thead>\n  <tbody>\n    <tr>\n      <td>319</td>\n      <td>2021-04-01</td>\n      <td>С1 Юг</td>\n      <td>ЕТО</td>\n      <td>АСУ И</td>\n    </tr>\n    <tr>\n      <td>320</td>\n      <td>2021-04-02</td>\n      <td>С1 Юг</td>\n      <td>ЕТО</td>\n      <td>АСУ И</td>\n    </tr>\n    <tr>\n      <td>321</td>\n      <td>2021-04-03</td>\n      <td>С1 Юг</td>\n      <td>ЕТО</td>\n      <td>АСУ И</td>\n    </tr>\n    <tr>\n      <td>322</td>\n      <td>2021-04-04</td>\n      <td>С1 Юг</td>\n      <td>ЕТО</td>\n      <td>АСУ И</td>\n    </tr>\n    <tr>\n      <td>323</td>\n      <td>2021-04-05</td>\n      <td>С1 Юг</td>\n      <td>ЕТО</td>\n      <td>АСУ И</td>\n    </tr>\n    <tr>\n      <td>...</td>\n      <td>...</td>\n      <td>...</td>\n      <td>...</td>\n      <td>...</td>\n    </tr>\n    <tr>\n      <td>492</td>\n      <td>2021-04-20</td>\n      <td>С1 Север</td>\n      <td>ТО1</td>\n      <td>АСУ ТП</td>\n    </tr>\n    <tr>\n      <td>493</td>\n      <td>2021-04-28</td>\n      <td>С1 Север</td>\n      <td>ТО1</td>\n      <td>АСУ ТП</td>\n    </tr>\n    <tr>\n      <td>494</td>\n      <td>2021-04-29</td>\n      <td>С1 Север</td>\n      <td>ТО1</td>\n      <td>АСУ ТП</td>\n    </tr>\n    <tr>\n      <td>495</td>\n      <td>2021-04-22</td>\n      <td>С1 Север</td>\n      <td>ТО2</td>\n      <td>АСУ ТП</td>\n    </tr>\n    <tr>\n      <td>496</td>\n      <td>2021-04-23</td>\n      <td>С1 Север</td>\n      <td>ТО2</td>\n      <td>АСУ ТП</td>\n    </tr>\n  </tbody>\n</table>\n<p>90 rows × 4 columns</p>\n</div>"
     },
     "execution_count": 155,
     "metadata": {},
     "output_type": "execute_result"
    }
   ],
   "source": [
    "works_calendar = df_jobs[df_jobs.object == Objects.S1]\\\n",
    "        [df_jobs.system.isin([Systems.ASU_TP, Systems.ASU_I])]\\\n",
    "        [['date', 'place', 'work_type', 'system']]\n",
    "works_calendar.system = works_calendar.system.apply(lambda i: i.value)\n",
    "\n",
    "works_calendar"
   ],
   "metadata": {
    "collapsed": false,
    "pycharm": {
     "name": "#%%\n"
    }
   }
  },
  {
   "cell_type": "code",
   "execution_count": 160,
   "outputs": [
    {
     "data": {
      "text/plain": "                 work_type                                              \\\ndate            2021-04-01 2021-04-02 2021-04-03 2021-04-04 2021-04-05   \nplace    system                                                          \nС1 Север АСУ И         ЕТО        ЕТО        ЕТО        ЕТО        ЕТО   \n         АСУ ТП        NaN        NaN        NaN        NaN        NaN   \nС1 Юг    АСУ И         ЕТО        ЕТО        ЕТО        ЕТО        ЕТО   \n         АСУ ТП        NaN        NaN        NaN        NaN        NaN   \n\n                                                                        ...  \\\ndate            2021-04-06 2021-04-07 2021-04-08 2021-04-09 2021-04-10  ...   \nplace    system                                                         ...   \nС1 Север АСУ И         ЕТО   ЕТО, ТО1        ЕТО        ЕТО        ЕТО  ...   \n         АСУ ТП        NaN        NaN        ТО1        ТО1        NaN  ...   \nС1 Юг    АСУ И         ЕТО   ЕТО, ТО1        ЕТО        ЕТО        ЕТО  ...   \n         АСУ ТП        NaN        NaN        ТО1        ТО1        NaN  ...   \n\n                                                                        \\\ndate            2021-04-21 2021-04-22 2021-04-23 2021-04-24 2021-04-25   \nplace    system                                                          \nС1 Север АСУ И    ЕТО, ТО1        ЕТО        ЕТО        ЕТО        ЕТО   \n         АСУ ТП        NaN        ТО2        ТО2        NaN        NaN   \nС1 Юг    АСУ И    ЕТО, ТО1        ЕТО        ЕТО        ЕТО        ЕТО   \n         АСУ ТП        NaN        ТО2        ТО2        NaN        NaN   \n\n                                                                        \ndate            2021-04-26 2021-04-27 2021-04-28 2021-04-29 2021-04-30  \nplace    system                                                         \nС1 Север АСУ И         ЕТО        ЕТО   ЕТО, ТО1        ЕТО        ЕТО  \n         АСУ ТП        NaN        NaN        ТО1        ТО1        NaN  \nС1 Юг    АСУ И         ЕТО        ЕТО   ЕТО, ТО1        ЕТО        ЕТО  \n         АСУ ТП        NaN        NaN        ТО1        ТО1        NaN  \n\n[4 rows x 30 columns]",
      "text/html": "<div>\n<style scoped>\n    .dataframe tbody tr th:only-of-type {\n        vertical-align: middle;\n    }\n\n    .dataframe tbody tr th {\n        vertical-align: top;\n    }\n\n    .dataframe thead tr th {\n        text-align: left;\n    }\n\n    .dataframe thead tr:last-of-type th {\n        text-align: right;\n    }\n</style>\n<table border=\"1\" class=\"dataframe\">\n  <thead>\n    <tr>\n      <th></th>\n      <th></th>\n      <th colspan=\"21\" halign=\"left\">work_type</th>\n    </tr>\n    <tr>\n      <th></th>\n      <th>date</th>\n      <th>2021-04-01</th>\n      <th>2021-04-02</th>\n      <th>2021-04-03</th>\n      <th>2021-04-04</th>\n      <th>2021-04-05</th>\n      <th>2021-04-06</th>\n      <th>2021-04-07</th>\n      <th>2021-04-08</th>\n      <th>2021-04-09</th>\n      <th>2021-04-10</th>\n      <th>...</th>\n      <th>2021-04-21</th>\n      <th>2021-04-22</th>\n      <th>2021-04-23</th>\n      <th>2021-04-24</th>\n      <th>2021-04-25</th>\n      <th>2021-04-26</th>\n      <th>2021-04-27</th>\n      <th>2021-04-28</th>\n      <th>2021-04-29</th>\n      <th>2021-04-30</th>\n    </tr>\n    <tr>\n      <th>place</th>\n      <th>system</th>\n      <th></th>\n      <th></th>\n      <th></th>\n      <th></th>\n      <th></th>\n      <th></th>\n      <th></th>\n      <th></th>\n      <th></th>\n      <th></th>\n      <th></th>\n      <th></th>\n      <th></th>\n      <th></th>\n      <th></th>\n      <th></th>\n      <th></th>\n      <th></th>\n      <th></th>\n      <th></th>\n      <th></th>\n    </tr>\n  </thead>\n  <tbody>\n    <tr>\n      <td rowspan=\"2\" valign=\"top\">С1 Север</td>\n      <td>АСУ И</td>\n      <td>ЕТО</td>\n      <td>ЕТО</td>\n      <td>ЕТО</td>\n      <td>ЕТО</td>\n      <td>ЕТО</td>\n      <td>ЕТО</td>\n      <td>ЕТО, ТО1</td>\n      <td>ЕТО</td>\n      <td>ЕТО</td>\n      <td>ЕТО</td>\n      <td>...</td>\n      <td>ЕТО, ТО1</td>\n      <td>ЕТО</td>\n      <td>ЕТО</td>\n      <td>ЕТО</td>\n      <td>ЕТО</td>\n      <td>ЕТО</td>\n      <td>ЕТО</td>\n      <td>ЕТО, ТО1</td>\n      <td>ЕТО</td>\n      <td>ЕТО</td>\n    </tr>\n    <tr>\n      <td>АСУ ТП</td>\n      <td>NaN</td>\n      <td>NaN</td>\n      <td>NaN</td>\n      <td>NaN</td>\n      <td>NaN</td>\n      <td>NaN</td>\n      <td>NaN</td>\n      <td>ТО1</td>\n      <td>ТО1</td>\n      <td>NaN</td>\n      <td>...</td>\n      <td>NaN</td>\n      <td>ТО2</td>\n      <td>ТО2</td>\n      <td>NaN</td>\n      <td>NaN</td>\n      <td>NaN</td>\n      <td>NaN</td>\n      <td>ТО1</td>\n      <td>ТО1</td>\n      <td>NaN</td>\n    </tr>\n    <tr>\n      <td rowspan=\"2\" valign=\"top\">С1 Юг</td>\n      <td>АСУ И</td>\n      <td>ЕТО</td>\n      <td>ЕТО</td>\n      <td>ЕТО</td>\n      <td>ЕТО</td>\n      <td>ЕТО</td>\n      <td>ЕТО</td>\n      <td>ЕТО, ТО1</td>\n      <td>ЕТО</td>\n      <td>ЕТО</td>\n      <td>ЕТО</td>\n      <td>...</td>\n      <td>ЕТО, ТО1</td>\n      <td>ЕТО</td>\n      <td>ЕТО</td>\n      <td>ЕТО</td>\n      <td>ЕТО</td>\n      <td>ЕТО</td>\n      <td>ЕТО</td>\n      <td>ЕТО, ТО1</td>\n      <td>ЕТО</td>\n      <td>ЕТО</td>\n    </tr>\n    <tr>\n      <td>АСУ ТП</td>\n      <td>NaN</td>\n      <td>NaN</td>\n      <td>NaN</td>\n      <td>NaN</td>\n      <td>NaN</td>\n      <td>NaN</td>\n      <td>NaN</td>\n      <td>ТО1</td>\n      <td>ТО1</td>\n      <td>NaN</td>\n      <td>...</td>\n      <td>NaN</td>\n      <td>ТО2</td>\n      <td>ТО2</td>\n      <td>NaN</td>\n      <td>NaN</td>\n      <td>NaN</td>\n      <td>NaN</td>\n      <td>ТО1</td>\n      <td>ТО1</td>\n      <td>NaN</td>\n    </tr>\n  </tbody>\n</table>\n<p>4 rows × 30 columns</p>\n</div>"
     },
     "execution_count": 160,
     "metadata": {},
     "output_type": "execute_result"
    }
   ],
   "source": [
    "works_calendar = works_calendar.pivot_table(index=('place', 'system'), columns='date',\n",
    "                                            aggfunc = lambda x: ', '.join(x))\n",
    "works_calendar"
   ],
   "metadata": {
    "collapsed": false,
    "pycharm": {
     "name": "#%%\n"
    }
   }
  },
  {
   "cell_type": "code",
   "execution_count": 163,
   "outputs": [],
   "source": [
    "name = 'Календарь работ C1'\n",
    "with pd.ExcelWriter(path=r'output data/'+name+'.xlsx', date_format='DD.MM', datetime_format='DD.MM') as writer:\n",
    "    sheet_name = 'Sheet1'\n",
    "    works_calendar.to_excel(writer, sheet_name)\n",
    "    ws = writer.sheets[sheet_name]\n",
    "    ws.cell(row=1, column=1).value = name\n",
    "    # ws.cell(row=2, column=1).value = ''\n",
    "    # ws.delete_rows(3)\n",
    "    ws.column_dimensions[get_column_letter(1)].width = 35\n",
    "    for col in range(3,35):\n",
    "        ws.column_dimensions[get_column_letter(col)].width = 6\n",
    "    ws.page_setup.orientation = ws.ORIENTATION_LANDSCAPE"
   ],
   "metadata": {
    "collapsed": false,
    "pycharm": {
     "name": "#%%\n"
    }
   }
  },
  {
   "cell_type": "code",
   "execution_count": 150,
   "outputs": [
    {
     "data": {
      "text/plain": "array(['Здание управления КЗС', 'ПС 110/35/6кВ №360', 'С2 ПС 110/10кВ',\n       'С1 ПС 110/10кВ', 'С2', 'Водопропускное сооружение В1',\n       'Водопропускное сооружение В2', 'С1 Юг', 'С1 Север',\n       'Водопропускное сооружение В3', 'С2 Юг', 'С2 Север',\n       'Водопропускное сооружение В4', 'Водопропускное сооружение В5',\n       'Водопропускное сооружение В6'], dtype=object)"
     },
     "execution_count": 150,
     "metadata": {},
     "output_type": "execute_result"
    }
   ],
   "source": [
    "df_jobs.pivot_table"
   ],
   "metadata": {
    "collapsed": false,
    "pycharm": {
     "name": "#%%\n"
    }
   }
  },
  {
   "cell_type": "code",
   "execution_count": 39,
   "outputs": [
    {
     "name": "stdout",
     "output_type": "stream",
     "text": [
      "В1-В6\n",
      "C1\n",
      "C2\n",
      "Энергетика\n",
      "Оптика\n"
     ]
    }
   ],
   "source": [
    "from work_calendar import batch_make_calendars\n",
    "\n",
    "batch_make_calendars(df_jobs)"
   ],
   "metadata": {
    "collapsed": false,
    "pycharm": {
     "name": "#%%\n"
    }
   }
  },
  {
   "cell_type": "code",
   "execution_count": 37,
   "outputs": [],
   "source": [
    "from config_work_calendar import calendars_settings\n",
    "description = calendars_settings[3]"
   ],
   "metadata": {
    "collapsed": false,
    "pycharm": {
     "name": "#%%\n"
    }
   }
  },
  {
   "cell_type": "code",
   "execution_count": 38,
   "outputs": [
    {
     "data": {
      "text/plain": "date                               2021-04-01 2021-04-02 2021-04-03  \\\nplace                 system                                          \nЗдание управления КЗС АИИСКУЭ             ЕТО        ЕТО        NaN   \n                      Телеканал М2        ЕТО        ТО2        NaN   \nПС 110/35/6кВ №360    АИИСКУЭ             NaN        NaN        NaN   \n                      Телеканал М2        ЕТО        ЕТО        ЕТО   \n                      Тех. учет           ТО2        ТО2        NaN   \nС1 ПС 110/10кВ        АИИСКУЭ             NaN        NaN        NaN   \n                      Телеканал М2        ЕТО        ЕТО        ЕТО   \n                      Тех. учет           NaN        NaN        NaN   \nС2 ПС 110/10кВ        АИИСКУЭ             NaN        NaN        NaN   \n                      Телеканал М2        ЕТО        ЕТО        ЕТО   \n                      Тех. учет           NaN        NaN        NaN   \n\ndate                               2021-04-04 2021-04-05 2021-04-06  \\\nplace                 system                                          \nЗдание управления КЗС АИИСКУЭ             NaN        ЕТО        ЕТО   \n                      Телеканал М2        NaN        ЕТО        NaN   \nПС 110/35/6кВ №360    АИИСКУЭ             NaN        NaN        NaN   \n                      Телеканал М2        ЕТО        ЕТО        ЕТО   \n                      Тех. учет           NaN        NaN        NaN   \nС1 ПС 110/10кВ        АИИСКУЭ             NaN        NaN        NaN   \n                      Телеканал М2        ЕТО        ЕТО        ЕТО   \n                      Тех. учет           NaN        NaN        NaN   \nС2 ПС 110/10кВ        АИИСКУЭ             NaN        ТО2        NaN   \n                      Телеканал М2        ЕТО        ЕТО        ЕТО   \n                      Тех. учет           NaN        NaN        NaN   \n\ndate                               2021-04-07 2021-04-08 2021-04-09  \\\nplace                 system                                          \nЗдание управления КЗС АИИСКУЭ             ЕТО        ЕТО        ЕТО   \n                      Телеканал М2        ЕТО        NaN        ЕТО   \nПС 110/35/6кВ №360    АИИСКУЭ             NaN        NaN        NaN   \n                      Телеканал М2        ЕТО        ЕТО        ЕТО   \n                      Тех. учет           NaN        NaN        NaN   \nС1 ПС 110/10кВ        АИИСКУЭ             NaN        NaN        NaN   \n                      Телеканал М2        ЕТО        ЕТО        ЕТО   \n                      Тех. учет           NaN        NaN        NaN   \nС2 ПС 110/10кВ        АИИСКУЭ             NaN        NaN        NaN   \n                      Телеканал М2        ЕТО  ЕТО,\\nТО2        ЕТО   \n                      Тех. учет           ТО2        ТО2        NaN   \n\ndate                               2021-04-10  ... 2021-04-21 2021-04-22  \\\nplace                 system                   ...                         \nЗдание управления КЗС АИИСКУЭ             NaN  ...        ЕТО        ЕТО   \n                      Телеканал М2        NaN  ...        ЕТО        NaN   \nПС 110/35/6кВ №360    АИИСКУЭ             NaN  ...        NaN        NaN   \n                      Телеканал М2        ЕТО  ...        ЕТО        ЕТО   \n                      Тех. учет           NaN  ...        NaN        NaN   \nС1 ПС 110/10кВ        АИИСКУЭ             NaN  ...        NaN        NaN   \n                      Телеканал М2        ЕТО  ...        ЕТО        ЕТО   \n                      Тех. учет           NaN  ...        NaN        NaN   \nС2 ПС 110/10кВ        АИИСКУЭ             NaN  ...        NaN        NaN   \n                      Телеканал М2        ЕТО  ...        ЕТО        ЕТО   \n                      Тех. учет           NaN  ...        NaN        NaN   \n\ndate                               2021-04-23 2021-04-24 2021-04-25  \\\nplace                 system                                          \nЗдание управления КЗС АИИСКУЭ             ЕТО        NaN        NaN   \n                      Телеканал М2        ЕТО        NaN        NaN   \nПС 110/35/6кВ №360    АИИСКУЭ             NaN        NaN        NaN   \n                      Телеканал М2        ЕТО        ЕТО        ЕТО   \n                      Тех. учет           NaN        NaN        NaN   \nС1 ПС 110/10кВ        АИИСКУЭ             NaN        NaN        NaN   \n                      Телеканал М2        ЕТО        ЕТО        ЕТО   \n                      Тех. учет           NaN        NaN        NaN   \nС2 ПС 110/10кВ        АИИСКУЭ             NaN        NaN        NaN   \n                      Телеканал М2        ЕТО        ЕТО        ЕТО   \n                      Тех. учет           NaN        NaN        NaN   \n\ndate                               2021-04-26 2021-04-27 2021-04-28  \\\nplace                 system                                          \nЗдание управления КЗС АИИСКУЭ       ЕТО,\\nТО2        ЕТО        ЕТО   \n                      Телеканал М2        ЕТО        NaN        ЕТО   \nПС 110/35/6кВ №360    АИИСКУЭ             NaN        NaN        NaN   \n                      Телеканал М2        ЕТО        ЕТО        ЕТО   \n                      Тех. учет           NaN        NaN        NaN   \nС1 ПС 110/10кВ        АИИСКУЭ             NaN        NaN        NaN   \n                      Телеканал М2        ЕТО  ЕТО,\\nТО2        ЕТО   \n                      Тех. учет           NaN        NaN        NaN   \nС2 ПС 110/10кВ        АИИСКУЭ             NaN        NaN        NaN   \n                      Телеканал М2        ЕТО        ЕТО        ЕТО   \n                      Тех. учет           NaN        NaN        NaN   \n\ndate                               2021-04-29 2021-04-30  \nplace                 system                              \nЗдание управления КЗС АИИСКУЭ             ЕТО        ЕТО  \n                      Телеканал М2        NaN        ЕТО  \nПС 110/35/6кВ №360    АИИСКУЭ             NaN        NaN  \n                      Телеканал М2        ЕТО        ЕТО  \n                      Тех. учет           NaN        NaN  \nС1 ПС 110/10кВ        АИИСКУЭ             ТО2        NaN  \n                      Телеканал М2        ЕТО        ЕТО  \n                      Тех. учет           NaN        NaN  \nС2 ПС 110/10кВ        АИИСКУЭ             NaN        NaN  \n                      Телеканал М2        ЕТО        ЕТО  \n                      Тех. учет           NaN        NaN  \n\n[11 rows x 30 columns]",
      "text/html": "<div>\n<style scoped>\n    .dataframe tbody tr th:only-of-type {\n        vertical-align: middle;\n    }\n\n    .dataframe tbody tr th {\n        vertical-align: top;\n    }\n\n    .dataframe thead th {\n        text-align: right;\n    }\n</style>\n<table border=\"1\" class=\"dataframe\">\n  <thead>\n    <tr style=\"text-align: right;\">\n      <th></th>\n      <th>date</th>\n      <th>2021-04-01</th>\n      <th>2021-04-02</th>\n      <th>2021-04-03</th>\n      <th>2021-04-04</th>\n      <th>2021-04-05</th>\n      <th>2021-04-06</th>\n      <th>2021-04-07</th>\n      <th>2021-04-08</th>\n      <th>2021-04-09</th>\n      <th>2021-04-10</th>\n      <th>...</th>\n      <th>2021-04-21</th>\n      <th>2021-04-22</th>\n      <th>2021-04-23</th>\n      <th>2021-04-24</th>\n      <th>2021-04-25</th>\n      <th>2021-04-26</th>\n      <th>2021-04-27</th>\n      <th>2021-04-28</th>\n      <th>2021-04-29</th>\n      <th>2021-04-30</th>\n    </tr>\n    <tr>\n      <th>place</th>\n      <th>system</th>\n      <th></th>\n      <th></th>\n      <th></th>\n      <th></th>\n      <th></th>\n      <th></th>\n      <th></th>\n      <th></th>\n      <th></th>\n      <th></th>\n      <th></th>\n      <th></th>\n      <th></th>\n      <th></th>\n      <th></th>\n      <th></th>\n      <th></th>\n      <th></th>\n      <th></th>\n      <th></th>\n      <th></th>\n    </tr>\n  </thead>\n  <tbody>\n    <tr>\n      <td rowspan=\"2\" valign=\"top\">Здание управления КЗС</td>\n      <td>АИИСКУЭ</td>\n      <td>ЕТО</td>\n      <td>ЕТО</td>\n      <td>NaN</td>\n      <td>NaN</td>\n      <td>ЕТО</td>\n      <td>ЕТО</td>\n      <td>ЕТО</td>\n      <td>ЕТО</td>\n      <td>ЕТО</td>\n      <td>NaN</td>\n      <td>...</td>\n      <td>ЕТО</td>\n      <td>ЕТО</td>\n      <td>ЕТО</td>\n      <td>NaN</td>\n      <td>NaN</td>\n      <td>ЕТО,\\nТО2</td>\n      <td>ЕТО</td>\n      <td>ЕТО</td>\n      <td>ЕТО</td>\n      <td>ЕТО</td>\n    </tr>\n    <tr>\n      <td>Телеканал М2</td>\n      <td>ЕТО</td>\n      <td>ТО2</td>\n      <td>NaN</td>\n      <td>NaN</td>\n      <td>ЕТО</td>\n      <td>NaN</td>\n      <td>ЕТО</td>\n      <td>NaN</td>\n      <td>ЕТО</td>\n      <td>NaN</td>\n      <td>...</td>\n      <td>ЕТО</td>\n      <td>NaN</td>\n      <td>ЕТО</td>\n      <td>NaN</td>\n      <td>NaN</td>\n      <td>ЕТО</td>\n      <td>NaN</td>\n      <td>ЕТО</td>\n      <td>NaN</td>\n      <td>ЕТО</td>\n    </tr>\n    <tr>\n      <td rowspan=\"3\" valign=\"top\">ПС 110/35/6кВ №360</td>\n      <td>АИИСКУЭ</td>\n      <td>NaN</td>\n      <td>NaN</td>\n      <td>NaN</td>\n      <td>NaN</td>\n      <td>NaN</td>\n      <td>NaN</td>\n      <td>NaN</td>\n      <td>NaN</td>\n      <td>NaN</td>\n      <td>NaN</td>\n      <td>...</td>\n      <td>NaN</td>\n      <td>NaN</td>\n      <td>NaN</td>\n      <td>NaN</td>\n      <td>NaN</td>\n      <td>NaN</td>\n      <td>NaN</td>\n      <td>NaN</td>\n      <td>NaN</td>\n      <td>NaN</td>\n    </tr>\n    <tr>\n      <td>Телеканал М2</td>\n      <td>ЕТО</td>\n      <td>ЕТО</td>\n      <td>ЕТО</td>\n      <td>ЕТО</td>\n      <td>ЕТО</td>\n      <td>ЕТО</td>\n      <td>ЕТО</td>\n      <td>ЕТО</td>\n      <td>ЕТО</td>\n      <td>ЕТО</td>\n      <td>...</td>\n      <td>ЕТО</td>\n      <td>ЕТО</td>\n      <td>ЕТО</td>\n      <td>ЕТО</td>\n      <td>ЕТО</td>\n      <td>ЕТО</td>\n      <td>ЕТО</td>\n      <td>ЕТО</td>\n      <td>ЕТО</td>\n      <td>ЕТО</td>\n    </tr>\n    <tr>\n      <td>Тех. учет</td>\n      <td>ТО2</td>\n      <td>ТО2</td>\n      <td>NaN</td>\n      <td>NaN</td>\n      <td>NaN</td>\n      <td>NaN</td>\n      <td>NaN</td>\n      <td>NaN</td>\n      <td>NaN</td>\n      <td>NaN</td>\n      <td>...</td>\n      <td>NaN</td>\n      <td>NaN</td>\n      <td>NaN</td>\n      <td>NaN</td>\n      <td>NaN</td>\n      <td>NaN</td>\n      <td>NaN</td>\n      <td>NaN</td>\n      <td>NaN</td>\n      <td>NaN</td>\n    </tr>\n    <tr>\n      <td rowspan=\"3\" valign=\"top\">С1 ПС 110/10кВ</td>\n      <td>АИИСКУЭ</td>\n      <td>NaN</td>\n      <td>NaN</td>\n      <td>NaN</td>\n      <td>NaN</td>\n      <td>NaN</td>\n      <td>NaN</td>\n      <td>NaN</td>\n      <td>NaN</td>\n      <td>NaN</td>\n      <td>NaN</td>\n      <td>...</td>\n      <td>NaN</td>\n      <td>NaN</td>\n      <td>NaN</td>\n      <td>NaN</td>\n      <td>NaN</td>\n      <td>NaN</td>\n      <td>NaN</td>\n      <td>NaN</td>\n      <td>ТО2</td>\n      <td>NaN</td>\n    </tr>\n    <tr>\n      <td>Телеканал М2</td>\n      <td>ЕТО</td>\n      <td>ЕТО</td>\n      <td>ЕТО</td>\n      <td>ЕТО</td>\n      <td>ЕТО</td>\n      <td>ЕТО</td>\n      <td>ЕТО</td>\n      <td>ЕТО</td>\n      <td>ЕТО</td>\n      <td>ЕТО</td>\n      <td>...</td>\n      <td>ЕТО</td>\n      <td>ЕТО</td>\n      <td>ЕТО</td>\n      <td>ЕТО</td>\n      <td>ЕТО</td>\n      <td>ЕТО</td>\n      <td>ЕТО,\\nТО2</td>\n      <td>ЕТО</td>\n      <td>ЕТО</td>\n      <td>ЕТО</td>\n    </tr>\n    <tr>\n      <td>Тех. учет</td>\n      <td>NaN</td>\n      <td>NaN</td>\n      <td>NaN</td>\n      <td>NaN</td>\n      <td>NaN</td>\n      <td>NaN</td>\n      <td>NaN</td>\n      <td>NaN</td>\n      <td>NaN</td>\n      <td>NaN</td>\n      <td>...</td>\n      <td>NaN</td>\n      <td>NaN</td>\n      <td>NaN</td>\n      <td>NaN</td>\n      <td>NaN</td>\n      <td>NaN</td>\n      <td>NaN</td>\n      <td>NaN</td>\n      <td>NaN</td>\n      <td>NaN</td>\n    </tr>\n    <tr>\n      <td rowspan=\"3\" valign=\"top\">С2 ПС 110/10кВ</td>\n      <td>АИИСКУЭ</td>\n      <td>NaN</td>\n      <td>NaN</td>\n      <td>NaN</td>\n      <td>NaN</td>\n      <td>ТО2</td>\n      <td>NaN</td>\n      <td>NaN</td>\n      <td>NaN</td>\n      <td>NaN</td>\n      <td>NaN</td>\n      <td>...</td>\n      <td>NaN</td>\n      <td>NaN</td>\n      <td>NaN</td>\n      <td>NaN</td>\n      <td>NaN</td>\n      <td>NaN</td>\n      <td>NaN</td>\n      <td>NaN</td>\n      <td>NaN</td>\n      <td>NaN</td>\n    </tr>\n    <tr>\n      <td>Телеканал М2</td>\n      <td>ЕТО</td>\n      <td>ЕТО</td>\n      <td>ЕТО</td>\n      <td>ЕТО</td>\n      <td>ЕТО</td>\n      <td>ЕТО</td>\n      <td>ЕТО</td>\n      <td>ЕТО,\\nТО2</td>\n      <td>ЕТО</td>\n      <td>ЕТО</td>\n      <td>...</td>\n      <td>ЕТО</td>\n      <td>ЕТО</td>\n      <td>ЕТО</td>\n      <td>ЕТО</td>\n      <td>ЕТО</td>\n      <td>ЕТО</td>\n      <td>ЕТО</td>\n      <td>ЕТО</td>\n      <td>ЕТО</td>\n      <td>ЕТО</td>\n    </tr>\n    <tr>\n      <td>Тех. учет</td>\n      <td>NaN</td>\n      <td>NaN</td>\n      <td>NaN</td>\n      <td>NaN</td>\n      <td>NaN</td>\n      <td>NaN</td>\n      <td>ТО2</td>\n      <td>ТО2</td>\n      <td>NaN</td>\n      <td>NaN</td>\n      <td>...</td>\n      <td>NaN</td>\n      <td>NaN</td>\n      <td>NaN</td>\n      <td>NaN</td>\n      <td>NaN</td>\n      <td>NaN</td>\n      <td>NaN</td>\n      <td>NaN</td>\n      <td>NaN</td>\n      <td>NaN</td>\n    </tr>\n  </tbody>\n</table>\n<p>11 rows × 30 columns</p>\n</div>"
     },
     "execution_count": 38,
     "metadata": {},
     "output_type": "execute_result"
    }
   ],
   "source": [
    "from work_calendar import calendar_pivot_table, make_calendar\n",
    "calendar_pivot_table(df_jobs, description)\n",
    "\n",
    "\n"
   ],
   "metadata": {
    "collapsed": false,
    "pycharm": {
     "name": "#%%\n"
    }
   }
  }
 ],
 "metadata": {
  "language_info": {
   "codemirror_mode": {
    "name": "ipython",
    "version": 2
   },
   "file_extension": ".py",
   "mimetype": "text/x-python",
   "name": "python",
   "nbconvert_exporter": "python",
   "pygments_lexer": "ipython2",
   "version": "2.7.6"
  },
  "kernelspec": {
   "name": "python3",
   "language": "python",
   "display_name": "Python 3"
  },
  "pycharm": {
   "stem_cell": {
    "cell_type": "raw",
    "source": [],
    "metadata": {
     "collapsed": false
    }
   }
  }
 },
 "nbformat": 4,
 "nbformat_minor": 0
}