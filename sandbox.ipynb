{
 "cells": [
  {
   "cell_type": "markdown",
   "source": [
    "# Init & parsing\n"
   ],
   "metadata": {
    "collapsed": false
   }
  },
  {
   "cell_type": "code",
   "execution_count": 2,
   "metadata": {
    "collapsed": true,
    "pycharm": {
     "is_executing": false
    }
   },
   "outputs": [],
   "source": [
    "from collections import Counter\n",
    "from application import *\n",
    "from pre_processing import Job, Systems, Objects \n",
    "import statistics\n",
    "import numpy as np\n",
    "import matplotlib.pyplot as plt\n",
    "from journal import Journal, JournalASU, jobs_to_df\n",
    "%matplotlib inline\n",
    "\n",
    "%load_ext autoreload\n",
    "%autoreload 2"
   ]
  },
  {
   "cell_type": "code",
   "execution_count": 24,
   "outputs": [],
   "source": [
    "jobs = []\n",
    "jobs.extend(process_files(r'.\\input data\\1', all_visible_sheets, works_parser.ParserSake))\n",
    "jobs.extend(process_files(r'.\\input data\\2', all_visible_sheets, works_parser.ParserSake)) # ASU\n",
    "# jobs.extend(process_files(r'.\\input data\\АСУ', find_sheets_asu, works_parser.ParserAsu))\n",
    "# jobs.extend(process_files(r'.\\input data\\ВОЛС', all_visible_sheets, works_parser.ParserVols))\n",
    "# jobs.extend(process_files(r'.\\input data\\Телеканал', find_sheets_vols, works_parser.ParserTk))\n",
    "# jobs.extend(process_files(r'.\\input data\\АИИСКУЭ', find_sheets_vols, works_parser.ParserAskueSake))\n",
    "# jobs.extend(process_files(r'.\\input data\\АИИСКУЭ', find_sheets_vols, works_parser.ParserAskue))\n",
    "# jobs.extend(process_files(r'.\\input data\\Тех.учет', find_sheets_vols, works_parser.ParserTechReg))\n",
    "print(len(jobs))"
   ],
   "metadata": {
    "collapsed": false,
    "pycharm": {
     "name": "#%%\n",
     "is_executing": false
    }
   }
  },
  {
   "cell_type": "code",
   "execution_count": 25,
   "outputs": [],
   "source": [
    "stats = Counter((j.system, j.object)for j in jobs)    \n",
    "# print(stats)"
   ],
   "metadata": {
    "collapsed": false,
    "pycharm": {
     "name": "#%%\n",
     "is_executing": false
    }
   }
  },
  {
   "cell_type": "code",
   "execution_count": 26,
   "outputs": [],
   "source": [
    "statistics.visualize_statistics(stats)"
   ],
   "metadata": {
    "collapsed": false,
    "pycharm": {
     "name": "#%%\n",
     "is_executing": false
    }
   }
  },
  {
   "cell_type": "code",
   "execution_count": 27,
   "outputs": [],
   "source": [
    "for (xlabel, ylabel), count in stats.items():\n",
    "    print(f'{str(xlabel).ljust(17)}, {str(ylabel).ljust(15)} - {str(count).ljust(5)}')"
   ],
   "metadata": {
    "collapsed": false,
    "pycharm": {
     "name": "#%%\n",
     "is_executing": false
    }
   }
  },
  {
   "cell_type": "markdown",
   "source": [
    "# Tests"
   ],
   "metadata": {
    "collapsed": false
   }
  },
  {
   "cell_type": "markdown",
   "source": [
    "ASU test"
   ],
   "metadata": {
    "collapsed": false
   }
  },
  {
   "cell_type": "code",
   "execution_count": 7,
   "outputs": [],
   "source": [
    "assert stats[(Systems.ASU_TP, Objects.S1)] > 0\n",
    "assert stats[(Systems.ASU_TP, Objects.S2)] > 0\n",
    "assert stats[(Systems.ASU_TP, Objects.V1)] > 0\n",
    "assert stats[(Systems.ASU_TP, Objects.V2)] > 0\n",
    "assert stats[(Systems.ASU_TP, Objects.V3)] > 0\n",
    "assert stats[(Systems.ASU_TP, Objects.V4)] > 0\n",
    "assert stats[(Systems.ASU_TP, Objects.V5)] > 0\n",
    "assert stats[(Systems.ASU_TP, Objects.V6)] > 0\n",
    "assert stats[(Systems.ASU_TP, Objects.ZU)] > 0\n",
    "\n",
    "assert stats[(Systems.ASU_I, Objects.S1)] > 0\n",
    "assert stats[(Systems.ASU_I, Objects.S2)] > 0\n",
    "assert stats[(Systems.ASU_I, Objects.ZU)] > 0\n",
    "\n",
    "assert stats[(Systems.ASU_AM, Objects.S2)] > 0\n",
    "\n",
    "assert stats[(Systems.LVS, Objects.S1)] > 0\n",
    "assert stats[(Systems.LVS, Objects.S2)] > 0\n",
    "assert stats[(Systems.LVS, Objects.V1)] > 0\n",
    "assert stats[(Systems.LVS, Objects.V2)] > 0\n",
    "assert stats[(Systems.LVS, Objects.V3)] > 0\n",
    "assert stats[(Systems.LVS, Objects.V4)] > 0\n",
    "assert stats[(Systems.LVS, Objects.V5)] > 0\n",
    "assert stats[(Systems.LVS, Objects.V6)] > 0\n",
    "assert stats[(Systems.LVS, Objects.ZU)] > 0\n",
    "\n",
    "print('all ASU/LVS tests is complete')"
   ],
   "metadata": {
    "collapsed": false,
    "pycharm": {
     "name": "#%%\n",
     "is_executing": false
    }
   }
  },
  {
   "cell_type": "markdown",
   "source": [
    "VOLS test"
   ],
   "metadata": {
    "collapsed": false
   }
  },
  {
   "cell_type": "code",
   "execution_count": 9,
   "outputs": [],
   "source": [
    "assert stats[(Systems.VOLS, Objects.ZU)] > 0\n",
    "assert stats[(Systems.VOLS, Objects.PS360)] > 0\n",
    "assert stats[(Systems.VOLS, Objects.S2)] > 0\n",
    "assert stats[(Systems.VOLS, Objects.S1)] > 0\n",
    "\n",
    "print('all VOLS tests is complete')"
   ],
   "metadata": {
    "collapsed": false,
    "pycharm": {
     "name": "#%%\n",
     "is_executing": false
    }
   }
  },
  {
   "cell_type": "markdown",
   "source": [
    "TK test"
   ],
   "metadata": {
    "collapsed": false
   }
  },
  {
   "cell_type": "code",
   "execution_count": 10,
   "outputs": [],
   "source": [
    "assert stats[(Systems.TK, Objects.ZU)] > 0\n",
    "assert stats[(Systems.TK, Objects.PS360)] > 0\n",
    "assert stats[(Systems.TK, Objects.S2)] > 0\n",
    "assert stats[(Systems.TK, Objects.S1)] > 0\n",
    "\n",
    "print('all TK tests is complete')"
   ],
   "metadata": {
    "collapsed": false,
    "pycharm": {
     "name": "#%%\n",
     "is_executing": false
    }
   }
  },
  {
   "cell_type": "markdown",
   "source": [
    "ASKUE test"
   ],
   "metadata": {
    "collapsed": false
   }
  },
  {
   "cell_type": "code",
   "execution_count": 11,
   "outputs": [],
   "source": [
    "assert stats[(Systems.ASKUE, Objects.ZU)] > 0\n",
    "assert stats[(Systems.ASKUE, Objects.PS360)] > 0\n",
    "# assert stats[(Systems.ASKUE, Objects.PS223)] > 0\n",
    "assert stats[(Systems.ASKUE, Objects.S2)] > 0\n",
    "assert stats[(Systems.ASKUE, Objects.S1)] > 0\n",
    "\n",
    "print('all ASKUE tests is complete')"
   ],
   "metadata": {
    "collapsed": false,
    "pycharm": {
     "name": "#%%\n",
     "is_executing": false
    }
   }
  },
  {
   "cell_type": "markdown",
   "source": [
    "TECH_REG test"
   ],
   "metadata": {
    "collapsed": false
   }
  },
  {
   "cell_type": "code",
   "execution_count": 12,
   "outputs": [],
   "source": [
    "assert stats[(Systems.TECH_REG, Objects.PS360)] > 0\n",
    "assert stats[(Systems.TECH_REG, Objects.S2)] > 0\n",
    "assert stats[(Systems.TECH_REG, Objects.S1)] > 0\n",
    "\n",
    "print('all TECH_REG tests is complete')"
   ],
   "metadata": {
    "collapsed": false,
    "pycharm": {
     "name": "#%%\n",
     "is_executing": false
    }
   }
  },
  {
   "cell_type": "markdown",
   "source": [
    "# Sandbox"
   ],
   "metadata": {
    "collapsed": false
   }
  },
  {
   "cell_type": "code",
   "execution_count": 28,
   "outputs": [],
   "source": [
    "import pandas as pd\n",
    "from pre_processing import Systems, Objects"
   ],
   "metadata": {
    "collapsed": false,
    "pycharm": {
     "name": "#%%\n",
     "is_executing": false
    }
   }
  },
  {
   "cell_type": "code",
   "execution_count": 91,
   "outputs": [],
   "source": [
    "day_jobs = jobs[:10]\n",
    "day_jobs.append(day_jobs[9])"
   ],
   "metadata": {
    "collapsed": false,
    "pycharm": {
     "name": "#%%\n",
     "is_executing": false
    }
   }
  },
  {
   "cell_type": "code",
   "execution_count": 95,
   "outputs": [
    {
     "data": {
      "text/plain": "[obj:Objects.PS360; place:ПС 110/35/6кВ №360; work:ТО2; date:2020-02-13;  sys:Systems.VOLS; performer:Ястребов Алексей Владимирович +79313581975 ,\n obj:Objects.PS360; place:ПС 110/35/6кВ №360; work:ТО3; date:2020-02-20;  sys:Systems.VOLS; performer:Ястребов Алексей Владимирович +79313581975 ,\n obj:Objects.S2; place:С2 ПС 110/10кВ; work:ТО2; date:2020-02-14;  sys:Systems.VOLS; performer:Ильин Андрей Владимирович +79219303652 ,\n obj:Objects.S2; place:С2 ПС 110/10кВ; work:ТО3; date:2020-02-21;  sys:Systems.VOLS; performer:Ястребов Алексей Владимирович +79313581975 ,\n obj:Objects.S1; place:С1 ПС 110/10кВ; work:ТО2; date:2020-02-14;  sys:Systems.VOLS; performer:Ильин Андрей Владимирович +79219303652 ,\n obj:Objects.S1; place:С1 ПС 110/10кВ; work:ТО3; date:2020-02-14;  sys:Systems.VOLS; performer:Ильин Андрей Владимирович +79219303652 ,\n obj:Objects.S1; place:ПС Котлин; work:ТО2; date:2020-02-21;  sys:Systems.VOLS; performer:Ястребов Алексей Владимирович +79313581975 ,\n obj:Objects.ZU; place:Здание управления КЗС; work:ТО2; date:2020-02-12;  sys:Systems.VOLS; performer:Ястребов Алексей Владимирович +79313581975 ,\n obj:Objects.ZU; place:Здание управления КЗС; work:ТО3; date:2020-02-19;  sys:Systems.VOLS; performer:Ястребов Алексей Владимирович +79313581975 ,\n obj:Objects.PS360; place:ПС 110/35/6кВ №360; work:ТО2; date:2020-02-13;  sys:Systems.ASKUE; performer:Ястребов Алексей Владимирович +79313581975 ,\n obj:Objects.PS360; place:ПС 110/35/6кВ №360; work:ТО2; date:2020-02-13;  sys:Systems.ASKUE; performer:Ястребов Алексей Владимирович +79313581975 ]"
     },
     "metadata": {},
     "output_type": "execute_result",
     "execution_count": 95
    }
   ],
   "source": [
    "day_jobs"
   ],
   "metadata": {
    "collapsed": false,
    "pycharm": {
     "name": "#%%\n",
     "is_executing": false
    }
   }
  },
  {
   "cell_type": "code",
   "execution_count": 100,
   "outputs": [
    {
     "data": {
      "text/plain": "[obj:Objects.PS360; place:ПС 110/35/6кВ №360; work:ТО2; date:2020-02-13;  sys:Systems.VOLS; performer:Ястребов Алексей Владимирович +79313581975 ,\n obj:Objects.PS360; place:ПС 110/35/6кВ №360; work:ТО3; date:2020-02-20;  sys:Systems.VOLS; performer:Ястребов Алексей Владимирович +79313581975 ,\n obj:Objects.S1; place:С1 ПС 110/10кВ; work:ТО3; date:2020-02-14;  sys:Systems.VOLS; performer:Ильин Андрей Владимирович +79219303652 ,\n obj:Objects.S1; place:ПС Котлин; work:ТО2; date:2020-02-21;  sys:Systems.VOLS; performer:Ястребов Алексей Владимирович +79313581975 ,\n obj:Objects.ZU; place:Здание управления КЗС; work:ТО2; date:2020-02-12;  sys:Systems.VOLS; performer:Ястребов Алексей Владимирович +79313581975 ,\n obj:Objects.ZU; place:Здание управления КЗС; work:ТО3; date:2020-02-19;  sys:Systems.VOLS; performer:Ястребов Алексей Владимирович +79313581975 ,\n obj:Objects.PS360; place:ПС 110/35/6кВ №360; work:ТО2; date:2020-02-13;  sys:Systems.ASKUE; performer:Ястребов Алексей Владимирович +79313581975 ]"
     },
     "metadata": {},
     "output_type": "execute_result",
     "execution_count": 100
    }
   ],
   "source": [
    "list({(j.date, j.system): j for j in day_jobs}.values())"
   ],
   "metadata": {
    "collapsed": false,
    "pycharm": {
     "name": "#%%\n",
     "is_executing": false
    }
   }
  },
  {
   "cell_type": "code",
   "execution_count": 118,
   "outputs": [],
   "source": [
    "df_jobs = jobs_to_df(jobs)"
   ],
   "metadata": {
    "collapsed": false,
    "pycharm": {
     "name": "#%%\n",
     "is_executing": false
    }
   }
  },
  {
   "cell_type": "code",
   "execution_count": 31,
   "outputs": [],
   "source": [
    "df_jobs.head()"
   ],
   "metadata": {
    "collapsed": false,
    "pycharm": {
     "name": "#%%\n",
     "is_executing": false
    }
   }
  },
  {
   "cell_type": "code",
   "execution_count": 112,
   "outputs": [],
   "source": [
    "from journal import Journal, JournalASU, JournalASKUE, jobs_to_df, batch_journal_generator\n",
    "from config_journals import batch_ASU_journals, batch_ASKUE_journals"
   ],
   "metadata": {
    "collapsed": false,
    "pycharm": {
     "name": "#%%\n",
     "is_executing": false
    }
   }
  },
  {
   "cell_type": "code",
   "execution_count": 120,
   "outputs": [
    {
     "data": {
      "text/plain": "           date               place work_type                     tech_map  \\\n15   2020-02-06  ПС 110/35/6кВ №360       ТО2  Технологическая операция №1   \n27   2020-02-06  ПС 110/35/6кВ №360       ТО2  Технологическая операция №2   \n17   2020-02-07  ПС 110/35/6кВ №360       ТО2  Технологическая операция №2   \n18   2020-02-07  ПС 110/35/6кВ №360       ТО2  Технологическая операция №1   \n76   2020-02-13      С2 ПС 110/10кВ       ТО2  Технологическая операция №2   \n79   2020-02-13      С2 ПС 110/10кВ       ТО2  Технологическая операция №1   \n73   2020-02-14      С2 ПС 110/10кВ       ТО2  Технологическая операция №1   \n74   2020-02-14      С2 ПС 110/10кВ       ТО2  Технологическая операция №2   \n154  2020-02-20      С1 ПС 110/10кВ       ТО2  Технологическая операция №2   \n156  2020-02-20      С1 ПС 110/10кВ       ТО2  Технологическая операция №1   \n153  2020-02-21      С1 ПС 110/10кВ       ТО2  Технологическая операция №1   \n158  2020-02-21      С1 ПС 110/10кВ       ТО2  Технологическая операция №2   \n\n       performer  \n15   Огородников  \n27   Огородников  \n17   Огородников  \n18   Огородников  \n76      Ястребов  \n79      Ястребов  \n73   Огородников  \n74   Огородников  \n154     Ястребов  \n156     Ястребов  \n153     Ястребов  \n158     Ястребов  ",
      "text/html": "<div>\n<style scoped>\n    .dataframe tbody tr th:only-of-type {\n        vertical-align: middle;\n    }\n\n    .dataframe tbody tr th {\n        vertical-align: top;\n    }\n\n    .dataframe thead th {\n        text-align: right;\n    }\n</style>\n<table border=\"1\" class=\"dataframe\">\n  <thead>\n    <tr style=\"text-align: right;\">\n      <th></th>\n      <th>date</th>\n      <th>place</th>\n      <th>work_type</th>\n      <th>tech_map</th>\n      <th>performer</th>\n    </tr>\n  </thead>\n  <tbody>\n    <tr>\n      <td>15</td>\n      <td>2020-02-06</td>\n      <td>ПС 110/35/6кВ №360</td>\n      <td>ТО2</td>\n      <td>Технологическая операция №1</td>\n      <td>Огородников</td>\n    </tr>\n    <tr>\n      <td>27</td>\n      <td>2020-02-06</td>\n      <td>ПС 110/35/6кВ №360</td>\n      <td>ТО2</td>\n      <td>Технологическая операция №2</td>\n      <td>Огородников</td>\n    </tr>\n    <tr>\n      <td>17</td>\n      <td>2020-02-07</td>\n      <td>ПС 110/35/6кВ №360</td>\n      <td>ТО2</td>\n      <td>Технологическая операция №2</td>\n      <td>Огородников</td>\n    </tr>\n    <tr>\n      <td>18</td>\n      <td>2020-02-07</td>\n      <td>ПС 110/35/6кВ №360</td>\n      <td>ТО2</td>\n      <td>Технологическая операция №1</td>\n      <td>Огородников</td>\n    </tr>\n    <tr>\n      <td>76</td>\n      <td>2020-02-13</td>\n      <td>С2 ПС 110/10кВ</td>\n      <td>ТО2</td>\n      <td>Технологическая операция №2</td>\n      <td>Ястребов</td>\n    </tr>\n    <tr>\n      <td>79</td>\n      <td>2020-02-13</td>\n      <td>С2 ПС 110/10кВ</td>\n      <td>ТО2</td>\n      <td>Технологическая операция №1</td>\n      <td>Ястребов</td>\n    </tr>\n    <tr>\n      <td>73</td>\n      <td>2020-02-14</td>\n      <td>С2 ПС 110/10кВ</td>\n      <td>ТО2</td>\n      <td>Технологическая операция №1</td>\n      <td>Огородников</td>\n    </tr>\n    <tr>\n      <td>74</td>\n      <td>2020-02-14</td>\n      <td>С2 ПС 110/10кВ</td>\n      <td>ТО2</td>\n      <td>Технологическая операция №2</td>\n      <td>Огородников</td>\n    </tr>\n    <tr>\n      <td>154</td>\n      <td>2020-02-20</td>\n      <td>С1 ПС 110/10кВ</td>\n      <td>ТО2</td>\n      <td>Технологическая операция №2</td>\n      <td>Ястребов</td>\n    </tr>\n    <tr>\n      <td>156</td>\n      <td>2020-02-20</td>\n      <td>С1 ПС 110/10кВ</td>\n      <td>ТО2</td>\n      <td>Технологическая операция №1</td>\n      <td>Ястребов</td>\n    </tr>\n    <tr>\n      <td>153</td>\n      <td>2020-02-21</td>\n      <td>С1 ПС 110/10кВ</td>\n      <td>ТО2</td>\n      <td>Технологическая операция №1</td>\n      <td>Ястребов</td>\n    </tr>\n    <tr>\n      <td>158</td>\n      <td>2020-02-21</td>\n      <td>С1 ПС 110/10кВ</td>\n      <td>ТО2</td>\n      <td>Технологическая операция №2</td>\n      <td>Ястребов</td>\n    </tr>\n  </tbody>\n</table>\n</div>"
     },
     "metadata": {},
     "output_type": "execute_result",
     "execution_count": 120
    }
   ],
   "source": [
    "j1 = JournalASU(df_jobs)\n",
    "j1.make_journal(Systems.TECH_REG)\n",
    "j1.journal\n",
    "# j1.save_journal('test')"
   ],
   "metadata": {
    "collapsed": false,
    "pycharm": {
     "name": "#%%\n",
     "is_executing": false
    }
   }
  },
  {
   "cell_type": "code",
   "execution_count": 115,
   "outputs": [
    {
     "data": {
      "text/plain": "{'АСУ ТП С1 Север': <journal.JournalASU at 0x4984b70>,\n 'АСУ ТП С1 Юг': <journal.JournalASU at 0xaa7430>,\n 'АСУ ТП С2 Север': <journal.JournalASU at 0xcfe76b0>,\n 'АСУ ТП С2 Юг': <journal.JournalASU at 0x49849b0>,\n 'АСУ ТП В1': <journal.JournalASU at 0x4984550>,\n 'АСУ ТП В2': <journal.JournalASU at 0xc1c7d0>,\n 'АСУ ТП В3': <journal.JournalASU at 0xf9b310>,\n 'АСУ ТП В4': <journal.JournalASU at 0xaa7970>,\n 'АСУ ТП В5': <journal.JournalASU at 0x4984230>,\n 'АСУ ТП В6': <journal.JournalASU at 0xaa7eb0>,\n 'АСУ ТП ЗУ': <journal.JournalASU at 0xc15c70>,\n 'АСУ АМ С2': <journal.JournalASU at 0x4913230>,\n 'АСУ И С1 Север': <journal.JournalASU at 0xbabd10>,\n 'АСУ И С1 Юг': <journal.JournalASU at 0xb17710>,\n 'АСУ И С2 Север': <journal.JournalASU at 0xc9dbb0>,\n 'АСУ И С2 Юг': <journal.JournalASU at 0xa2ef50>,\n 'АСУ И ЗУ': <journal.JournalASU at 0xa2ed70>,\n 'АИИСКУЕ 2': <journal.JournalASU at 0x102ffb0>,\n 'Тех Учет 2': <journal.JournalASU at 0x49877b0>,\n 'ЛВС': <journal.JournalASU at 0xae2070>,\n 'ВОЛС': <journal.JournalASU at 0xb5c930>,\n 'ТК М2': <journal.JournalASU at 0xf9d250>}"
     },
     "metadata": {},
     "output_type": "execute_result",
     "execution_count": 115
    }
   ],
   "source": [
    "batch_journal_generator(df_jobs, JournalASU, batch_ASU_journals)\n"
   ],
   "metadata": {
    "collapsed": false,
    "pycharm": {
     "name": "#%%\n",
     "is_executing": false
    }
   }
  },
  {
   "cell_type": "code",
   "execution_count": 80,
   "outputs": [],
   "source": [
    "batch_journal_generator(df_jobs, JournalASKUE, batch_ASKUE_journals)"
   ],
   "metadata": {
    "collapsed": false,
    "pycharm": {
     "name": "#%%\n",
     "is_executing": false
    }
   }
  },
  {
   "cell_type": "code",
   "execution_count": 129,
   "outputs": [],
   "source": [
    "columns = ('date', 'system', 'object', 'place', 'work_type', 'tech_map', 'equip_name', 'performer', )\n",
    "result = pd.DataFrame(columns=columns,\n",
    "                      data = ((j.date, j.system, j.object, j.place, j.work_type, \n",
    "                               j.tech_map, j.equip_name, j.performer) \n",
    "                              for j in jobs))"
   ],
   "metadata": {
    "collapsed": false,
    "pycharm": {
     "name": "#%%\n",
     "is_executing": false
    }
   }
  },
  {
   "cell_type": "code",
   "execution_count": 125,
   "outputs": [],
   "source": [
    "result = df_jobs"
   ],
   "metadata": {
    "collapsed": false,
    "pycharm": {
     "name": "#%%\n",
     "is_executing": false
    }
   }
  },
  {
   "cell_type": "code",
   "execution_count": 121,
   "outputs": [],
   "source": [
    "result[result.isna().any(axis=1)]\n"
   ],
   "metadata": {
    "collapsed": false,
    "pycharm": {
     "name": "#%%\n",
     "is_executing": false
    }
   }
  },
  {
   "cell_type": "code",
   "execution_count": 132,
   "outputs": [],
   "source": [
    "result[result.system == Systems.VOLS]\\\n",
    "    [result.object == Objects.S1]\\\n",
    "    .drop(['system', 'object'], axis=1)\\\n",
    "    .reindex(columns=['date', 'place', 'work_type', 'tech_map', 'performer'])\\\n",
    "    .sort_values(by=['date', 'place', 'work_type'])\n",
    "    # .to_excel(r'asu_i_zu_test.xlsx')\n",
    "    \n",
    "# result.performer.apply(lambda w:w.last_name)"
   ],
   "metadata": {
    "collapsed": false,
    "pycharm": {
     "name": "#%%\n",
     "is_executing": false
    }
   }
  },
  {
   "cell_type": "code",
   "execution_count": null,
   "outputs": [],
   "source": [
    "# VOLS journal\n",
    "result[result.system == Systems.VOLS]\\\n",
    "    .drop(['system', 'object', 'performer'], axis=1)\\\n",
    "    .reindex(columns=['date', 'place', 'work_type', 'tech_map'])\\\n",
    "    .sort_values(by=['date', 'place', 'work_type'])\\\n",
    "    .to_excel(r'vols_test.xlsx')"
   ],
   "metadata": {
    "collapsed": false,
    "pycharm": {
     "name": "#%%\n"
    }
   }
  },
  {
   "cell_type": "markdown",
   "source": [
    "## email testing"
   ],
   "metadata": {
    "collapsed": false
   }
  },
  {
   "cell_type": "code",
   "execution_count": 82,
   "outputs": [],
   "source": [
    "import smtplib"
   ],
   "metadata": {
    "collapsed": false,
    "pycharm": {
     "name": "#%%\n",
     "is_executing": false
    }
   }
  },
  {
   "cell_type": "code",
   "execution_count": 83,
   "outputs": [],
   "source": [
    "smtp_obj = smtplib.SMTP('smtp.gmail.com', 587)"
   ],
   "metadata": {
    "collapsed": false,
    "pycharm": {
     "name": "#%%\n",
     "is_executing": false
    }
   }
  },
  {
   "cell_type": "code",
   "execution_count": 84,
   "outputs": [
    {
     "data": {
      "text/plain": "(220, b'2.0.0 Ready to start TLS')"
     },
     "metadata": {},
     "output_type": "execute_result",
     "execution_count": 84
    }
   ],
   "source": [
    "smtp_obj.starttls()"
   ],
   "metadata": {
    "collapsed": false,
    "pycharm": {
     "name": "#%%\n",
     "is_executing": false
    }
   }
  },
  {
   "cell_type": "code",
   "execution_count": 86,
   "outputs": [
    {
     "data": {
      "text/plain": "(235, b'2.7.0 Accepted')"
     },
     "metadata": {},
     "output_type": "execute_result",
     "execution_count": 86
    }
   ],
   "source": [
    "smtp_obj.login('kzs.asu.504@gmail.com', 'kzsasu123456')"
   ],
   "metadata": {
    "collapsed": false,
    "pycharm": {
     "name": "#%%\n",
     "is_executing": false
    }
   }
  },
  {
   "cell_type": "code",
   "execution_count": null,
   "outputs": [],
   "source": [
    "smtp_obj.sendmail('kzs.asu.504@gmail.com', 'gusev.mihail.34@gmail.com', )"
   ],
   "metadata": {
    "collapsed": false,
    "pycharm": {
     "name": "#%%\n"
    }
   }
  }
 ],
 "metadata": {
  "language_info": {
   "codemirror_mode": {
    "name": "ipython",
    "version": 2
   },
   "file_extension": ".py",
   "mimetype": "text/x-python",
   "name": "python",
   "nbconvert_exporter": "python",
   "pygments_lexer": "ipython2",
   "version": "2.7.6"
  },
  "kernelspec": {
   "name": "python3",
   "language": "python",
   "display_name": "Python 3"
  },
  "pycharm": {
   "stem_cell": {
    "cell_type": "raw",
    "source": [],
    "metadata": {
     "collapsed": false
    }
   }
  }
 },
 "nbformat": 4,
 "nbformat_minor": 0
}