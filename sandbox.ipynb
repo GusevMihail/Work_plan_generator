{
 "cells": [
  {
   "cell_type": "code",
   "execution_count": 29,
   "metadata": {
    "collapsed": true,
    "pycharm": {
     "is_executing": false
    }
   },
   "outputs": [
    {
     "name": "stdout",
     "text": [
      "The autoreload extension is already loaded. To reload it, use:\n  %reload_ext autoreload\n"
     ],
     "output_type": "stream"
    }
   ],
   "source": [
    "from collections import Counter\n",
    "from application import *\n",
    "from pre_processing import Job, Systems, Objects \n",
    "import statistics\n",
    "import numpy as np\n",
    "import matplotlib.pyplot as plt\n",
    "%matplotlib inline\n",
    "\n",
    "%load_ext autoreload\n",
    "%autoreload 2"
   ]
  },
  {
   "cell_type": "code",
   "execution_count": 30,
   "outputs": [
    {
     "name": "stdout",
     "text": [
      "folder: .\\input data\\1\n",
      "folder: .\\input data\\АСУ\n"
     ],
     "output_type": "stream"
    }
   ],
   "source": [
    "jobs = []\n",
    "jobs.extend(process_files(r'.\\input data\\1', all_visible_sheets, works_parser.ParserSake))\n",
    "jobs.extend(process_files(r'.\\input data\\АСУ', find_sheets_asu, works_parser.ParserAsu))\n",
    "# jobs.extend(process_files(r'.\\input data\\ВОЛС', all_visible_sheets, works_parser.ParserVols))\n",
    "# jobs.extend(process_files(r'.\\input data\\Телеканал', find_sheets_vols, works_parser.ParserTk))\n",
    "# jobs.extend(process_files(r'.\\input data\\АИИСКУЭ', find_sheets_vols, works_parser.ParserAskueSake))\n",
    "# jobs.extend(process_files(r'.\\input data\\АИИСКУЭ', find_sheets_vols, works_parser.ParserAskue))\n",
    "# jobs.extend(process_files(r'.\\input data\\Тех.учет', find_sheets_vols, works_parser.ParserTechReg))"
   ],
   "metadata": {
    "collapsed": false,
    "pycharm": {
     "name": "#%%\n",
     "is_executing": false
    }
   }
  },
  {
   "cell_type": "code",
   "execution_count": 31,
   "outputs": [],
   "source": [
    "stats = Counter((j.system, j.object)for j in jobs)    \n",
    "# print(stats)"
   ],
   "metadata": {
    "collapsed": false,
    "pycharm": {
     "name": "#%%\n",
     "is_executing": false
    }
   }
  },
  {
   "cell_type": "code",
   "execution_count": 32,
   "outputs": [
    {
     "data": {
      "text/plain": "<Figure size 432x288 with 2 Axes>",
      "image/png": "[encoded data removed]"
     },
     "metadata": {
      "needs_background": "light"
     },
     "output_type": "display_data"
    }
   ],
   "source": [
    "statistics.visualize_statistics(stats)"
   ],
   "metadata": {
    "collapsed": false,
    "pycharm": {
     "name": "#%%\n",
     "is_executing": false
    }
   }
  },
  {
   "cell_type": "code",
   "execution_count": 33,
   "outputs": [
    {
     "name": "stdout",
     "text": [
      "Systems.VOLS     , Objects.PS360   - 2    \nSystems.VOLS     , Objects.S2      - 2    \nSystems.VOLS     , Objects.S1      - 3    \nSystems.VOLS     , Objects.ZU      - 2    \nSystems.ASKUE    , Objects.PS360   - 1    \nSystems.TECH_REG , Objects.PS360   - 2    \nSystems.TK       , Objects.PS360   - 30   \nSystems.ASKUE    , Objects.S2      - 1    \nSystems.TECH_REG , Objects.S2      - 2    \nSystems.TK       , Objects.S2      - 30   \nSystems.ASKUE    , Objects.S1      - 3    \nSystems.TECH_REG , Objects.S1      - 2    \nSystems.TK       , Objects.S1      - 30   \nSystems.ASKUE    , Objects.ZU      - 20   \nSystems.TK       , Objects.ZU      - 13   \nSystems.ASU_TP   , Objects.S1      - 20   \nSystems.ASU_TP   , Objects.S2      - 10   \nSystems.ASU_TP   , Objects.V1      - 6    \nSystems.ASU_TP   , Objects.V2      - 6    \nSystems.ASU_TP   , Objects.V3      - 6    \nSystems.ASU_TP   , Objects.V4      - 6    \nSystems.ASU_TP   , Objects.V5      - 6    \nSystems.ASU_TP   , Objects.V6      - 6    \nSystems.ASU_TP   , Objects.ZU      - 6    \nSystems.ASU_I    , Objects.S1      - 68   \nSystems.ASU_I    , Objects.S2      - 39   \nSystems.ASU_I    , Objects.ZU      - 35   \nSystems.ASU_AM   , Objects.S2      - 9    \nSystems.LVS      , Objects.V1      - 1    \nSystems.LVS      , Objects.V2      - 1    \nSystems.LVS      , Objects.S1      - 12   \nSystems.LVS      , Objects.ZU      - 1    \nSystems.LVS      , Objects.V3      - 1    \nSystems.LVS      , Objects.S2      - 5    \nSystems.LVS      , Objects.V4      - 1    \nSystems.LVS      , Objects.V5      - 1    \nSystems.LVS      , Objects.V6      - 1    \n"
     ],
     "output_type": "stream"
    }
   ],
   "source": [
    "for (xlabel, ylabel), count in stats.items():\n",
    "    print(f'{str(xlabel).ljust(17)}, {str(ylabel).ljust(15)} - {str(count).ljust(5)}')"
   ],
   "metadata": {
    "collapsed": false,
    "pycharm": {
     "name": "#%%\n",
     "is_executing": false
    }
   }
  },
  {
   "cell_type": "markdown",
   "source": [
    "ASU test"
   ],
   "metadata": {
    "collapsed": false
   }
  },
  {
   "cell_type": "code",
   "execution_count": 34,
   "outputs": [
    {
     "name": "stdout",
     "text": [
      "all ASU/LVS tests is complete\n"
     ],
     "output_type": "stream"
    }
   ],
   "source": [
    "assert stats[(Systems.ASU_TP, Objects.S1)] > 0\n",
    "assert stats[(Systems.ASU_TP, Objects.S2)] > 0\n",
    "assert stats[(Systems.ASU_TP, Objects.V1)] > 0\n",
    "assert stats[(Systems.ASU_TP, Objects.V2)] > 0\n",
    "assert stats[(Systems.ASU_TP, Objects.V3)] > 0\n",
    "assert stats[(Systems.ASU_TP, Objects.V4)] > 0\n",
    "assert stats[(Systems.ASU_TP, Objects.V5)] > 0\n",
    "assert stats[(Systems.ASU_TP, Objects.V6)] > 0\n",
    "assert stats[(Systems.ASU_TP, Objects.ZU)] > 0\n",
    "\n",
    "assert stats[(Systems.ASU_I, Objects.S1)] > 0\n",
    "assert stats[(Systems.ASU_I, Objects.S2)] > 0\n",
    "assert stats[(Systems.ASU_I, Objects.ZU)] > 0\n",
    "\n",
    "assert stats[(Systems.ASU_AM, Objects.S2)] > 0\n",
    "\n",
    "assert stats[(Systems.LVS, Objects.S1)] > 0\n",
    "assert stats[(Systems.LVS, Objects.S2)] > 0\n",
    "assert stats[(Systems.LVS, Objects.V1)] > 0\n",
    "assert stats[(Systems.LVS, Objects.V2)] > 0\n",
    "assert stats[(Systems.LVS, Objects.V3)] > 0\n",
    "assert stats[(Systems.LVS, Objects.V4)] > 0\n",
    "assert stats[(Systems.LVS, Objects.V5)] > 0\n",
    "assert stats[(Systems.LVS, Objects.V6)] > 0\n",
    "assert stats[(Systems.LVS, Objects.ZU)] > 0\n",
    "\n",
    "print('all ASU/LVS tests is complete')"
   ],
   "metadata": {
    "collapsed": false,
    "pycharm": {
     "name": "#%%\n",
     "is_executing": false
    }
   }
  },
  {
   "cell_type": "markdown",
   "source": [
    "VOLS test"
   ],
   "metadata": {
    "collapsed": false
   }
  },
  {
   "cell_type": "code",
   "execution_count": 35,
   "outputs": [
    {
     "name": "stdout",
     "text": [
      "all VOLS tests is complete\n"
     ],
     "output_type": "stream"
    }
   ],
   "source": [
    "assert stats[(Systems.VOLS, Objects.ZU)] > 0\n",
    "assert stats[(Systems.VOLS, Objects.PS360)] > 0\n",
    "assert stats[(Systems.VOLS, Objects.S2)] > 0\n",
    "assert stats[(Systems.VOLS, Objects.S1)] > 0\n",
    "\n",
    "print('all VOLS tests is complete')"
   ],
   "metadata": {
    "collapsed": false,
    "pycharm": {
     "name": "#%%\n",
     "is_executing": false
    }
   }
  },
  {
   "cell_type": "markdown",
   "source": [
    "TK test"
   ],
   "metadata": {
    "collapsed": false
   }
  },
  {
   "cell_type": "code",
   "execution_count": 36,
   "outputs": [
    {
     "name": "stdout",
     "text": [
      "all TK tests is complete\n"
     ],
     "output_type": "stream"
    }
   ],
   "source": [
    "assert stats[(Systems.TK, Objects.ZU)] > 0\n",
    "assert stats[(Systems.TK, Objects.PS360)] > 0\n",
    "assert stats[(Systems.TK, Objects.S2)] > 0\n",
    "assert stats[(Systems.TK, Objects.S1)] > 0\n",
    "\n",
    "print('all TK tests is complete')"
   ],
   "metadata": {
    "collapsed": false,
    "pycharm": {
     "name": "#%%\n",
     "is_executing": false
    }
   }
  },
  {
   "cell_type": "markdown",
   "source": [
    "ASKUE test"
   ],
   "metadata": {
    "collapsed": false
   }
  },
  {
   "cell_type": "code",
   "execution_count": 39,
   "outputs": [
    {
     "name": "stdout",
     "text": [
      "all ASKUE tests is complete\n"
     ],
     "output_type": "stream"
    }
   ],
   "source": [
    "assert stats[(Systems.ASKUE, Objects.ZU)] > 0\n",
    "assert stats[(Systems.ASKUE, Objects.PS360)] > 0\n",
    "# assert stats[(Systems.ASKUE, Objects.PS223)] > 0\n",
    "assert stats[(Systems.ASKUE, Objects.S2)] > 0\n",
    "assert stats[(Systems.ASKUE, Objects.S1)] > 0\n",
    "\n",
    "print('all ASKUE tests is complete')"
   ],
   "metadata": {
    "collapsed": false,
    "pycharm": {
     "name": "#%%\n",
     "is_executing": false
    }
   }
  },
  {
   "cell_type": "markdown",
   "source": [
    "TECH_REG test"
   ],
   "metadata": {
    "collapsed": false
   }
  },
  {
   "cell_type": "code",
   "execution_count": 38,
   "outputs": [
    {
     "name": "stdout",
     "text": [
      "all TECH_REG tests is complete\n"
     ],
     "output_type": "stream"
    }
   ],
   "source": [
    "assert stats[(Systems.TECH_REG, Objects.PS360)] > 0\n",
    "assert stats[(Systems.TECH_REG, Objects.S2)] > 0\n",
    "assert stats[(Systems.TECH_REG, Objects.S1)] > 0\n",
    "\n",
    "print('all TECH_REG tests is complete')\n"
   ],
   "metadata": {
    "collapsed": false,
    "pycharm": {
     "name": "#%%\n",
     "is_executing": false
    }
   }
  },
  {
   "cell_type": "code",
   "execution_count": null,
   "outputs": [],
   "source": [
    "\n"
   ],
   "metadata": {
    "collapsed": false,
    "pycharm": {
     "name": "#%%\n"
    }
   }
  }
 ],
 "metadata": {
  "language_info": {
   "codemirror_mode": {
    "name": "ipython",
    "version": 2
   },
   "file_extension": ".py",
   "mimetype": "text/x-python",
   "name": "python",
   "nbconvert_exporter": "python",
   "pygments_lexer": "ipython2",
   "version": "2.7.6"
  },
  "kernelspec": {
   "name": "python3",
   "language": "python",
   "display_name": "Python 3"
  },
  "pycharm": {
   "stem_cell": {
    "cell_type": "raw",
    "source": [],
    "metadata": {
     "collapsed": false
    }
   }
  }
 },
 "nbformat": 4,
 "nbformat_minor": 0
}