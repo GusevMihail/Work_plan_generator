{
 "cells": [
  {
   "cell_type": "markdown",
   "source": [
    "# Init & parsing\n"
   ],
   "metadata": {
    "collapsed": false
   }
  },
  {
   "cell_type": "code",
   "execution_count": 1,
   "metadata": {
    "collapsed": true,
    "pycharm": {
     "is_executing": false
    }
   },
   "outputs": [],
   "source": [
    "from collections import Counter\n",
    "from application import *\n",
    "from pre_processing import Job, Systems, Objects \n",
    "import statistics\n",
    "import numpy as np\n",
    "import matplotlib.pyplot as plt\n",
    "from journal import Journal, JournalASU, jobs_to_df\n",
    "%matplotlib inline\n",
    "\n",
    "# %load_ext autoreload\n",
    "# %autoreload 2"
   ]
  },
  {
   "cell_type": "code",
   "execution_count": 2,
   "outputs": [
    {
     "name": "stdout",
     "text": [
      "folder: .\\input data\\SAKE\n",
      "542\n"
     ],
     "output_type": "stream"
    }
   ],
   "source": [
    "jobs = []\n",
    "jobs.extend(process_files(r'.\\input data\\SAKE', all_visible_sheets, works_parser.ParserSake))\n",
    "# jobs.extend(process_files(r'.\\input data\\1', all_visible_sheets, works_parser.ParserSake)) # tests\n",
    "# jobs.extend(process_files(r'.\\input data\\АСУ', find_sheets_asu, works_parser.ParserAsu))\n",
    "# jobs.extend(process_files(r'.\\input data\\ВОЛС', all_visible_sheets, works_parser.ParserVols))\n",
    "# jobs.extend(process_files(r'.\\input data\\Телеканал', find_sheets_vols, works_parser.ParserTk))\n",
    "# jobs.extend(process_files(r'.\\input data\\АИИСКУЭ', find_sheets_vols, works_parser.ParserAskueSake))\n",
    "# jobs.extend(process_files(r'.\\input data\\АИИСКУЭ', find_sheets_vols, works_parser.ParserAskue))\n",
    "# jobs.extend(process_files(r'.\\input data\\Тех.учет', find_sheets_vols, works_parser.ParserTechReg))\n",
    "print(len(jobs))"
   ],
   "metadata": {
    "collapsed": false,
    "pycharm": {
     "name": "#%%\n",
     "is_executing": false
    }
   }
  },
  {
   "cell_type": "code",
   "execution_count": 3,
   "outputs": [],
   "source": [
    "stats = Counter((j.system, j.object)for j in jobs)    \n",
    "# print(stats)"
   ],
   "metadata": {
    "collapsed": false,
    "pycharm": {
     "name": "#%%\n",
     "is_executing": false
    }
   }
  },
  {
   "cell_type": "code",
   "execution_count": 4,
   "outputs": [
    {
     "data": {
      "text/plain": "<Figure size 432x288 with 2 Axes>",
      "image/png": "[encoded data removed]"
     },
     "metadata": {
      "needs_background": "light"
     },
     "output_type": "display_data"
    }
   ],
   "source": [
    "statistics.visualize_statistics(stats)"
   ],
   "metadata": {
    "collapsed": false,
    "pycharm": {
     "name": "#%%\n",
     "is_executing": false
    }
   }
  },
  {
   "cell_type": "code",
   "execution_count": 5,
   "outputs": [
    {
     "name": "stdout",
     "text": [
      "Systems.ASKUE    , Objects.PS360   - 6    \n",
      "Systems.TECH_REG , Objects.PS360   - 22   \n",
      "Systems.TK       , Objects.PS360   - 32   \n",
      "Systems.VOLS     , Objects.PS360   - 2    \n",
      "Systems.ASKUE    , Objects.S2      - 6    \n",
      "Systems.TECH_REG , Objects.S2      - 34   \n",
      "Systems.TK       , Objects.S2      - 32   \n",
      "Systems.VOLS     , Objects.S2      - 2    \n",
      "Systems.ASKUE    , Objects.S1      - 16   \n",
      "Systems.TECH_REG , Objects.S1      - 60   \n",
      "Systems.TK       , Objects.S1      - 32   \n",
      "Systems.VOLS     , Objects.S1      - 1    \n",
      "Systems.VOLS     , Objects.ZU      - 2    \n",
      "Systems.ASU_TP   , Objects.V1      - 6    \n",
      "Systems.ASU_TP   , Objects.V2      - 6    \n",
      "Systems.ASU_TP   , Objects.S1      - 20   \n",
      "Systems.ASU_TP   , Objects.ZU      - 6    \n",
      "Systems.ASU_TP   , Objects.V3      - 6    \n",
      "Systems.ASU_TP   , Objects.S2      - 10   \n",
      "Systems.ASU_TP   , Objects.V4      - 6    \n",
      "Systems.ASU_TP   , Objects.V5      - 6    \n",
      "Systems.ASU_TP   , Objects.V6      - 6    \n",
      "Systems.ASU_I    , Objects.S1      - 74   \n",
      "Systems.ASU_I    , Objects.ZU      - 37   \n",
      "Systems.ASU_I    , Objects.S2      - 41   \n",
      "Systems.LVS      , Objects.V1      - 1    \n",
      "Systems.LVS      , Objects.V2      - 1    \n",
      "Systems.LVS      , Objects.S1      - 12   \n",
      "Systems.LVS      , Objects.ZU      - 1    \n",
      "Systems.LVS      , Objects.V3      - 1    \n",
      "Systems.LVS      , Objects.S2      - 5    \n",
      "Systems.LVS      , Objects.V4      - 1    \n",
      "Systems.LVS      , Objects.V5      - 1    \n",
      "Systems.LVS      , Objects.V6      - 1    \n",
      "Systems.ASU_AM   , Objects.S2      - 9    \n",
      "Systems.ASKUE    , Objects.ZU      - 23   \n",
      "Systems.TK       , Objects.ZU      - 15   \n"
     ],
     "output_type": "stream"
    }
   ],
   "source": [
    "\n",
    "for (xlabel, ylabel), count in stats.items():\n",
    "    print(f'{str(xlabel).ljust(17)}, {str(ylabel).ljust(15)} - {str(count).ljust(5)}')"
   ],
   "metadata": {
    "collapsed": false,
    "pycharm": {
     "name": "#%%\n",
     "is_executing": false
    }
   }
  },
  {
   "cell_type": "markdown",
   "source": [
    "# Tests"
   ],
   "metadata": {
    "collapsed": false
   }
  },
  {
   "cell_type": "markdown",
   "source": [
    "ASU test\n"
   ],
   "metadata": {
    "collapsed": false
   }
  },
  {
   "cell_type": "code",
   "execution_count": 6,
   "outputs": [
    {
     "name": "stdout",
     "text": [
      "all ASU/LVS tests is complete\n"
     ],
     "output_type": "stream"
    }
   ],
   "source": [
    "assert stats[(Systems.ASU_TP, Objects.S1)] > 0\n",
    "assert stats[(Systems.ASU_TP, Objects.S2)] > 0\n",
    "assert stats[(Systems.ASU_TP, Objects.V1)] > 0\n",
    "assert stats[(Systems.ASU_TP, Objects.V2)] > 0\n",
    "assert stats[(Systems.ASU_TP, Objects.V3)] > 0\n",
    "assert stats[(Systems.ASU_TP, Objects.V4)] > 0\n",
    "assert stats[(Systems.ASU_TP, Objects.V5)] > 0\n",
    "assert stats[(Systems.ASU_TP, Objects.V6)] > 0\n",
    "# assert stats[(Systems.ASU_TP, Objects.ZU)] > 0\n",
    "\n",
    "assert stats[(Systems.ASU_I, Objects.S1)] > 0\n",
    "assert stats[(Systems.ASU_I, Objects.S2)] > 0\n",
    "# assert stats[(Systems.ASU_I, Objects.ZU)] > 0\n",
    "\n",
    "assert stats[(Systems.ASU_AM, Objects.S2)] > 0\n",
    "\n",
    "assert stats[(Systems.LVS, Objects.S1)] > 0\n",
    "assert stats[(Systems.LVS, Objects.S2)] > 0\n",
    "assert stats[(Systems.LVS, Objects.V1)] > 0\n",
    "assert stats[(Systems.LVS, Objects.V2)] > 0\n",
    "assert stats[(Systems.LVS, Objects.V3)] > 0\n",
    "assert stats[(Systems.LVS, Objects.V4)] > 0\n",
    "assert stats[(Systems.LVS, Objects.V5)] > 0\n",
    "assert stats[(Systems.LVS, Objects.V6)] > 0\n",
    "# assert stats[(Systems.LVS, Objects.ZU)] > 0\n",
    "\n",
    "print('all ASU/LVS tests is complete')"
   ],
   "metadata": {
    "collapsed": false,
    "pycharm": {
     "name": "#%%\n",
     "is_executing": false
    }
   }
  },
  {
   "cell_type": "markdown",
   "source": [
    "VOLS test"
   ],
   "metadata": {
    "collapsed": false
   }
  },
  {
   "cell_type": "code",
   "execution_count": 7,
   "outputs": [
    {
     "name": "stdout",
     "text": [
      "all VOLS tests is complete\n"
     ],
     "output_type": "stream"
    }
   ],
   "source": [
    "assert stats[(Systems.VOLS, Objects.ZU)] > 0\n",
    "assert stats[(Systems.VOLS, Objects.PS360)] > 0\n",
    "assert stats[(Systems.VOLS, Objects.S2)] > 0\n",
    "assert stats[(Systems.VOLS, Objects.S1)] > 0\n",
    "\n",
    "print('all VOLS tests is complete')"
   ],
   "metadata": {
    "collapsed": false,
    "pycharm": {
     "name": "#%%\n",
     "is_executing": false
    }
   }
  },
  {
   "cell_type": "markdown",
   "source": [
    "TK test"
   ],
   "metadata": {
    "collapsed": false
   }
  },
  {
   "cell_type": "code",
   "execution_count": 8,
   "outputs": [
    {
     "name": "stdout",
     "text": [
      "all TK tests is complete\n"
     ],
     "output_type": "stream"
    }
   ],
   "source": [
    "assert stats[(Systems.TK, Objects.ZU)] > 0\n",
    "assert stats[(Systems.TK, Objects.PS360)] > 0\n",
    "assert stats[(Systems.TK, Objects.S2)] > 0\n",
    "assert stats[(Systems.TK, Objects.S1)] > 0\n",
    "\n",
    "print('all TK tests is complete')"
   ],
   "metadata": {
    "collapsed": false,
    "pycharm": {
     "name": "#%%\n",
     "is_executing": false
    }
   }
  },
  {
   "cell_type": "markdown",
   "source": [
    "ASKUE test"
   ],
   "metadata": {
    "collapsed": false
   }
  },
  {
   "cell_type": "code",
   "execution_count": 9,
   "outputs": [
    {
     "name": "stdout",
     "text": [
      "all ASKUE tests is complete\n"
     ],
     "output_type": "stream"
    }
   ],
   "source": [
    "assert stats[(Systems.ASKUE, Objects.ZU)] > 0\n",
    "assert stats[(Systems.ASKUE, Objects.PS360)] > 0\n",
    "# assert stats[(Systems.ASKUE, Objects.PS223)] > 0\n",
    "assert stats[(Systems.ASKUE, Objects.S2)] > 0\n",
    "assert stats[(Systems.ASKUE, Objects.S1)] > 0\n",
    "\n",
    "print('all ASKUE tests is complete')"
   ],
   "metadata": {
    "collapsed": false,
    "pycharm": {
     "name": "#%%\n",
     "is_executing": false
    }
   }
  },
  {
   "cell_type": "markdown",
   "source": [
    "TECH_REG test"
   ],
   "metadata": {
    "collapsed": false
   }
  },
  {
   "cell_type": "code",
   "execution_count": 10,
   "outputs": [
    {
     "name": "stdout",
     "text": [
      "all TECH_REG tests is complete\n"
     ],
     "output_type": "stream"
    }
   ],
   "source": [
    "assert stats[(Systems.TECH_REG, Objects.PS360)] > 0\n",
    "assert stats[(Systems.TECH_REG, Objects.S2)] > 0\n",
    "assert stats[(Systems.TECH_REG, Objects.S1)] > 0\n",
    "\n",
    "print('all TECH_REG tests is complete')"
   ],
   "metadata": {
    "collapsed": false,
    "pycharm": {
     "name": "#%%\n",
     "is_executing": false
    }
   }
  },
  {
   "cell_type": "markdown",
   "source": [
    "# Plans generator"
   ],
   "metadata": {
    "collapsed": false
   }
  },
  {
   "cell_type": "code",
   "execution_count": 11,
   "outputs": [
    {
     "name": "stdout",
     "text": [
      "Генерация планов работ \n",
      " ...\n",
      "Генерация успешно завершена\n"
     ],
     "output_type": "stream"
    }
   ],
   "source": [
    "make_xlsx_from_jobs(jobs)"
   ],
   "metadata": {
    "collapsed": false,
    "pycharm": {
     "name": "#%%\n",
     "is_executing": false
    }
   }
  },
  {
   "cell_type": "markdown",
   "source": [
    "# Journals generator"
   ],
   "metadata": {
    "collapsed": false
   }
  },
  {
   "cell_type": "code",
   "execution_count": 3,
   "outputs": [],
   "source": [
    "from journal import Journal, JournalASU, JournalASKUE, jobs_to_df, batch_journal_generator\n",
    "from config_journals import batch_ASU_journals, batch_ASKUE_journals\n"
   ],
   "metadata": {
    "collapsed": false,
    "pycharm": {
     "name": "#%%\n",
     "is_executing": false
    }
   }
  },
  {
   "cell_type": "code",
   "execution_count": 4,
   "outputs": [],
   "source": [
    "df_jobs = jobs_to_df(jobs)"
   ],
   "metadata": {
    "collapsed": false,
    "pycharm": {
     "name": "#%%\n",
     "is_executing": false
    }
   }
  },
  {
   "cell_type": "code",
   "execution_count": 5,
   "outputs": [
    {
     "data": {
      "text/plain": "{'АСУ ТП С1 Север': <journal.JournalASU at 0xd42a7f0>,\n 'АСУ ТП С1 Юг': <journal.JournalASU at 0xc354630>,\n 'АСУ ТП С2 Север': <journal.JournalASU at 0xd309510>,\n 'АСУ ТП С2 Юг': <journal.JournalASU at 0xd2d8530>,\n 'АСУ ТП В1': <journal.JournalASU at 0xd3762b0>,\n 'АСУ ТП В2': <journal.JournalASU at 0xd377fb0>,\n 'АСУ ТП В3': <journal.JournalASU at 0xd309670>,\n 'АСУ ТП В4': <journal.JournalASU at 0xd373430>,\n 'АСУ ТП В5': <journal.JournalASU at 0xd373e50>,\n 'АСУ ТП В6': <journal.JournalASU at 0xd373390>,\n 'АСУ ТП ЗУ': <journal.JournalASU at 0xd3dfc90>,\n 'АСУ АМ С2': <journal.JournalASU at 0xd328cf0>,\n 'АСУ И С1 Север': <journal.JournalASU at 0xd3c9470>,\n 'АСУ И С1 Юг': <journal.JournalASU at 0xd30a7f0>,\n 'АСУ И С2 Север': <journal.JournalASU at 0xd449870>,\n 'АСУ И С2 Юг': <journal.JournalASU at 0xd42d5b0>,\n 'АСУ И ЗУ': <journal.JournalASU at 0xd4449d0>,\n 'АИИСКУЕ 2': <journal.JournalASU at 0xd3719f0>,\n 'Тех Учет 2': <journal.JournalASU at 0xd3c90d0>,\n 'ВОЛС': <journal.JournalASU at 0xc3546d0>,\n 'ТК М2': <journal.JournalASU at 0xd3d0410>}"
     },
     "metadata": {},
     "output_type": "execute_result",
     "execution_count": 5
    }
   ],
   "source": [
    "batch_journal_generator(df_jobs, JournalASU, batch_ASU_journals)\n"
   ],
   "metadata": {
    "collapsed": false,
    "pycharm": {
     "name": "#%%\n",
     "is_executing": false
    }
   }
  },
  {
   "cell_type": "code",
   "execution_count": 6,
   "outputs": [
    {
     "data": {
      "text/plain": "{'АИИСКУЕ': <journal.JournalASKUE at 0xd3947d0>,\n 'Тех Учет': <journal.JournalASKUE at 0xd2d8ad0>,\n 'ЛВС': <journal.JournalASKUE at 0xd387610>}"
     },
     "metadata": {},
     "output_type": "execute_result",
     "execution_count": 6
    }
   ],
   "source": [
    "batch_journal_generator(df_jobs, JournalASKUE, batch_ASKUE_journals)"
   ],
   "metadata": {
    "collapsed": false,
    "pycharm": {
     "name": "#%%\n",
     "is_executing": false
    }
   }
  },
  {
   "cell_type": "markdown",
   "source": [
    "## email sending"
   ],
   "metadata": {
    "collapsed": false
   }
  },
  {
   "cell_type": "code",
   "execution_count": 1,
   "outputs": [],
   "source": [
    "import config_email, email_processing\n",
    "import os\n",
    "from application import get_xlsx_files\n"
   ],
   "metadata": {
    "collapsed": false,
    "pycharm": {
     "name": "#%%\n",
     "is_executing": false
    }
   }
  },
  {
   "cell_type": "code",
   "execution_count": 2,
   "outputs": [
    {
     "name": "stdout",
     "text": [
      "Test mode: emails will not sending\n",
      "email subject: журналы работ Август \n",
      "EKushmilev@bcc.ru    ['./output data/journals/2020 08 АСУ И С1 Север.xlsx', './output data/journals/2020 08 АСУ И С1 Юг.xlsx']\n",
      "NMulin@bcc.ru        ['./output data/journals/2020 08 АСУ ТП С1 Север.xlsx', './output data/journals/2020 08 АСУ ТП С1 Юг.xlsx']\n",
      "VMakarov@bcc.ru      ['./output data/journals/2020 08 АСУ АМ С2.xlsx', './output data/journals/2020 08 АСУ И ЗУ.xlsx', './output data/journals/2020 08 АСУ И С2 Север.xlsx', './output data/journals/2020 08 АСУ И С2 Юг.xlsx', './output data/journals/2020 08 АСУ ТП ЗУ.xlsx', './output data/journals/2020 08 АСУ ТП С2 Север.xlsx', './output data/journals/2020 08 АСУ ТП С2 Юг.xlsx']\n",
      "MKokoev@bcc.ru       ['./output data/journals/2020 08 АСУ ТП В1.xlsx', './output data/journals/2020 08 АСУ ТП В2.xlsx', './output data/journals/2020 08 АСУ ТП В3.xlsx', './output data/journals/2020 08 АСУ ТП В4.xlsx', './output data/journals/2020 08 АСУ ТП В5.xlsx', './output data/journals/2020 08 АСУ ТП В6.xlsx']\n",
      "APodolskij@bcc.ru    ['./output data/journals/2020 08 АСУ ТП В1.xlsx', './output data/journals/2020 08 АСУ ТП В2.xlsx', './output data/journals/2020 08 АСУ ТП В3.xlsx', './output data/journals/2020 08 АСУ ТП В4.xlsx', './output data/journals/2020 08 АСУ ТП В5.xlsx', './output data/journals/2020 08 АСУ ТП В6.xlsx']\n",
      "VSanzhara@bcc.ru     ['./output data/journals/2020 08 АИИСКУЕ 2.xlsx', './output data/journals/2020 08 АИИСКУЕ.xlsx', './output data/journals/2020 08 АСУ ТП В1.xlsx', './output data/journals/2020 08 АСУ ТП В2.xlsx', './output data/journals/2020 08 АСУ ТП В3.xlsx', './output data/journals/2020 08 АСУ ТП В4.xlsx', './output data/journals/2020 08 АСУ ТП В5.xlsx', './output data/journals/2020 08 АСУ ТП В6.xlsx']\n",
      "AIlin@bcc.ru         ['./output data/journals/2020 08 АИИСКУЕ 2.xlsx', './output data/journals/2020 08 АИИСКУЕ.xlsx', './output data/journals/2020 08 ВОЛС.xlsx', './output data/journals/2020 08 ЛВС.xlsx']\n",
      "AYastrebov@bcc.ru    ['./output data/journals/2020 08 Тех Учет 2.xlsx', './output data/journals/2020 08 Тех Учет.xlsx']\n",
      "AOgorodnikov@bcc.ru  ['./output data/journals/2020 08 ТК М2.xlsx']\n"
     ],
     "output_type": "stream"
    }
   ],
   "source": [
    "email_processing.send_journals(config_email.batch_sending_journals, \n",
    "                               attachment_folder=r'./output data/journals/', \n",
    "                               mail_subj='журналы работ', \n",
    "                               add_month_to_subj= True, test_mod=False)"
   ],
   "metadata": {
    "collapsed": false,
    "pycharm": {
     "name": "#%%\n",
     "is_executing": false
    }
   }
  },
  {
   "cell_type": "code",
   "execution_count": 4,
   "outputs": [
    {
     "name": "stdout",
     "text": [
      "email subject: планы работ Август \n",
      "kzs.asu.504@gmail.com ['./output data/plans/2020 08 01.xlsx', './output data/plans/2020 08 02.xlsx', './output data/plans/2020 08 03.xlsx', './output data/plans/2020 08 04.xlsx', './output data/plans/2020 08 05.xlsx', './output data/plans/2020 08 06.xlsx', './output data/plans/2020 08 07.xlsx', './output data/plans/2020 08 08.xlsx', './output data/plans/2020 08 09.xlsx', './output data/plans/2020 08 10.xlsx', './output data/plans/2020 08 11.xlsx', './output data/plans/2020 08 12.xlsx', './output data/plans/2020 08 13.xlsx', './output data/plans/2020 08 14.xlsx', './output data/plans/2020 08 15.xlsx', './output data/plans/2020 08 16.xlsx', './output data/plans/2020 08 17.xlsx', './output data/plans/2020 08 18.xlsx', './output data/plans/2020 08 19.xlsx', './output data/plans/2020 08 20.xlsx', './output data/plans/2020 08 21.xlsx', './output data/plans/2020 08 22.xlsx', './output data/plans/2020 08 23.xlsx', './output data/plans/2020 08 24.xlsx', './output data/plans/2020 08 25.xlsx', './output data/plans/2020 08 26.xlsx', './output data/plans/2020 08 27.xlsx', './output data/plans/2020 08 28.xlsx', './output data/plans/2020 08 29.xlsx', './output data/plans/2020 08 30.xlsx', './output data/plans/2020 08 31.xlsx']\n"
     ],
     "output_type": "stream"
    }
   ],
   "source": [
    "email_processing.send_journals(config_email.batch_sending_plans, \n",
    "                               attachment_folder=r'./output data/plans/', \n",
    "                               mail_subj='планы работ', \n",
    "                               add_month_to_subj= True, test_mod=False)\n"
   ],
   "metadata": {
    "collapsed": false,
    "pycharm": {
     "name": "#%%\n",
     "is_executing": false
    }
   }
  },
  {
   "cell_type": "markdown",
   "source": [
    "# Sandbox"
   ],
   "metadata": {
    "collapsed": false,
    "pycharm": {
     "name": "#%% md\n"
    }
   }
  },
  {
   "cell_type": "code",
   "execution_count": null,
   "outputs": [],
   "source": [],
   "metadata": {
    "collapsed": false,
    "pycharm": {
     "name": "#%%\n"
    }
   }
  }
 ],
 "metadata": {
  "language_info": {
   "codemirror_mode": {
    "name": "ipython",
    "version": 2
   },
   "file_extension": ".py",
   "mimetype": "text/x-python",
   "name": "python",
   "nbconvert_exporter": "python",
   "pygments_lexer": "ipython2",
   "version": "2.7.6"
  },
  "kernelspec": {
   "name": "python3",
   "language": "python",
   "display_name": "Python 3"
  },
  "pycharm": {
   "stem_cell": {
    "cell_type": "raw",
    "source": [],
    "metadata": {
     "collapsed": false
    }
   }
  }
 },
 "nbformat": 4,
 "nbformat_minor": 0
}