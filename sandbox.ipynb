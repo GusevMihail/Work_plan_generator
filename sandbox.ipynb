{
 "cells": [
  {
   "cell_type": "markdown",
   "source": [
    "# Init & parsing\n"
   ],
   "metadata": {
    "collapsed": false
   }
  },
  {
   "cell_type": "code",
   "execution_count": 1,
   "metadata": {
    "collapsed": true,
    "pycharm": {
     "is_executing": false
    }
   },
   "outputs": [],
   "source": [
    "from collections import Counter\n",
    "from application import *\n",
    "from pre_processing import Job, Systems, Objects \n",
    "import statistics\n",
    "import numpy as np\n",
    "import matplotlib.pyplot as plt\n",
    "%matplotlib inline\n",
    "\n",
    "%load_ext autoreload\n",
    "%autoreload 2"
   ]
  },
  {
   "cell_type": "code",
   "execution_count": 2,
   "outputs": [
    {
     "name": "stdout",
     "text": [
      "folder: .\\input data\\1\n"
     ],
     "output_type": "stream"
    }
   ],
   "source": [
    "jobs = []\n",
    "jobs.extend(process_files(r'.\\input data\\1', all_visible_sheets, works_parser.ParserSake))\n",
    "# jobs.extend(process_files(r'.\\input data\\АСУ', find_sheets_asu, works_parser.ParserAsu))\n",
    "# jobs.extend(process_files(r'.\\input data\\ВОЛС', all_visible_sheets, works_parser.ParserVols))\n",
    "# jobs.extend(process_files(r'.\\input data\\Телеканал', find_sheets_vols, works_parser.ParserTk))\n",
    "# jobs.extend(process_files(r'.\\input data\\АИИСКУЭ', find_sheets_vols, works_parser.ParserAskueSake))\n",
    "# jobs.extend(process_files(r'.\\input data\\АИИСКУЭ', find_sheets_vols, works_parser.ParserAskue))\n",
    "# jobs.extend(process_files(r'.\\input data\\Тех.учет', find_sheets_vols, works_parser.ParserTechReg))"
   ],
   "metadata": {
    "collapsed": false,
    "pycharm": {
     "name": "#%%\n",
     "is_executing": false
    }
   }
  },
  {
   "cell_type": "code",
   "execution_count": 3,
   "outputs": [],
   "source": [
    "stats = Counter((j.system, j.object)for j in jobs)    \n",
    "# print(stats)"
   ],
   "metadata": {
    "collapsed": false,
    "pycharm": {
     "name": "#%%\n",
     "is_executing": false
    }
   }
  },
  {
   "cell_type": "code",
   "execution_count": 4,
   "outputs": [
    {
     "data": {
      "text/plain": "<Figure size 432x288 with 2 Axes>",
      "image/png": "[encoded data removed]"
     },
     "metadata": {
      "needs_background": "light"
     },
     "output_type": "display_data"
    }
   ],
   "source": [
    "statistics.visualize_statistics(stats)"
   ],
   "metadata": {
    "collapsed": false,
    "pycharm": {
     "name": "#%%\n",
     "is_executing": false
    }
   }
  },
  {
   "cell_type": "code",
   "execution_count": 5,
   "outputs": [
    {
     "name": "stdout",
     "text": [
      "Systems.VOLS     , Objects.PS360   - 2    \nSystems.VOLS     , Objects.S2      - 2    \nSystems.VOLS     , Objects.S1      - 3    \nSystems.VOLS     , Objects.ZU      - 2    \nSystems.ASKUE    , Objects.PS360   - 6    \nSystems.TECH_REG , Objects.PS360   - 22   \nSystems.TK       , Objects.PS360   - 30   \nSystems.ASKUE    , Objects.S2      - 6    \nSystems.TECH_REG , Objects.S2      - 34   \nSystems.TK       , Objects.S2      - 30   \nSystems.ASKUE    , Objects.S1      - 16   \nSystems.TECH_REG , Objects.S1      - 64   \nSystems.TK       , Objects.S1      - 30   \nSystems.ASKUE    , Objects.ZU      - 21   \nSystems.TK       , Objects.ZU      - 13   \n"
     ],
     "output_type": "stream"
    }
   ],
   "source": [
    "for (xlabel, ylabel), count in stats.items():\n",
    "    print(f'{str(xlabel).ljust(17)}, {str(ylabel).ljust(15)} - {str(count).ljust(5)}')"
   ],
   "metadata": {
    "collapsed": false,
    "pycharm": {
     "name": "#%%\n",
     "is_executing": false
    }
   }
  },
  {
   "cell_type": "markdown",
   "source": [
    "# Tests"
   ],
   "metadata": {
    "collapsed": false
   }
  },
  {
   "cell_type": "markdown",
   "source": [
    "ASU test"
   ],
   "metadata": {
    "collapsed": false
   }
  },
  {
   "cell_type": "code",
   "execution_count": 3,
   "outputs": [
    {
     "traceback": [
      "\u001b[1;31m---------------------------------------------------------------------------\u001b[0m",
      "\u001b[1;31mNameError\u001b[0m                                 Traceback (most recent call last)",
      "\u001b[1;32m<ipython-input-3-1c17c772d88c>\u001b[0m in \u001b[0;36m<module>\u001b[1;34m\u001b[0m\n\u001b[1;32m----> 1\u001b[1;33m \u001b[1;32massert\u001b[0m \u001b[0mstats\u001b[0m\u001b[1;33m[\u001b[0m\u001b[1;33m(\u001b[0m\u001b[0mSystems\u001b[0m\u001b[1;33m.\u001b[0m\u001b[0mASU_TP\u001b[0m\u001b[1;33m,\u001b[0m \u001b[0mObjects\u001b[0m\u001b[1;33m.\u001b[0m\u001b[0mS1\u001b[0m\u001b[1;33m)\u001b[0m\u001b[1;33m]\u001b[0m \u001b[1;33m>\u001b[0m \u001b[1;36m0\u001b[0m\u001b[1;33m\u001b[0m\u001b[1;33m\u001b[0m\u001b[0m\n\u001b[0m\u001b[0;32m      2\u001b[0m \u001b[1;32massert\u001b[0m \u001b[0mstats\u001b[0m\u001b[1;33m[\u001b[0m\u001b[1;33m(\u001b[0m\u001b[0mSystems\u001b[0m\u001b[1;33m.\u001b[0m\u001b[0mASU_TP\u001b[0m\u001b[1;33m,\u001b[0m \u001b[0mObjects\u001b[0m\u001b[1;33m.\u001b[0m\u001b[0mS2\u001b[0m\u001b[1;33m)\u001b[0m\u001b[1;33m]\u001b[0m \u001b[1;33m>\u001b[0m \u001b[1;36m0\u001b[0m\u001b[1;33m\u001b[0m\u001b[1;33m\u001b[0m\u001b[0m\n\u001b[0;32m      3\u001b[0m \u001b[1;32massert\u001b[0m \u001b[0mstats\u001b[0m\u001b[1;33m[\u001b[0m\u001b[1;33m(\u001b[0m\u001b[0mSystems\u001b[0m\u001b[1;33m.\u001b[0m\u001b[0mASU_TP\u001b[0m\u001b[1;33m,\u001b[0m \u001b[0mObjects\u001b[0m\u001b[1;33m.\u001b[0m\u001b[0mV1\u001b[0m\u001b[1;33m)\u001b[0m\u001b[1;33m]\u001b[0m \u001b[1;33m>\u001b[0m \u001b[1;36m0\u001b[0m\u001b[1;33m\u001b[0m\u001b[1;33m\u001b[0m\u001b[0m\n\u001b[0;32m      4\u001b[0m \u001b[1;32massert\u001b[0m \u001b[0mstats\u001b[0m\u001b[1;33m[\u001b[0m\u001b[1;33m(\u001b[0m\u001b[0mSystems\u001b[0m\u001b[1;33m.\u001b[0m\u001b[0mASU_TP\u001b[0m\u001b[1;33m,\u001b[0m \u001b[0mObjects\u001b[0m\u001b[1;33m.\u001b[0m\u001b[0mV2\u001b[0m\u001b[1;33m)\u001b[0m\u001b[1;33m]\u001b[0m \u001b[1;33m>\u001b[0m \u001b[1;36m0\u001b[0m\u001b[1;33m\u001b[0m\u001b[1;33m\u001b[0m\u001b[0m\n\u001b[0;32m      5\u001b[0m \u001b[1;32massert\u001b[0m \u001b[0mstats\u001b[0m\u001b[1;33m[\u001b[0m\u001b[1;33m(\u001b[0m\u001b[0mSystems\u001b[0m\u001b[1;33m.\u001b[0m\u001b[0mASU_TP\u001b[0m\u001b[1;33m,\u001b[0m \u001b[0mObjects\u001b[0m\u001b[1;33m.\u001b[0m\u001b[0mV3\u001b[0m\u001b[1;33m)\u001b[0m\u001b[1;33m]\u001b[0m \u001b[1;33m>\u001b[0m \u001b[1;36m0\u001b[0m\u001b[1;33m\u001b[0m\u001b[1;33m\u001b[0m\u001b[0m\n",
      "\u001b[1;31mNameError\u001b[0m: name 'stats' is not defined"
     ],
     "ename": "NameError",
     "evalue": "name 'stats' is not defined",
     "output_type": "error"
    }
   ],
   "source": [
    "assert stats[(Systems.ASU_TP, Objects.S1)] > 0\n",
    "assert stats[(Systems.ASU_TP, Objects.S2)] > 0\n",
    "assert stats[(Systems.ASU_TP, Objects.V1)] > 0\n",
    "assert stats[(Systems.ASU_TP, Objects.V2)] > 0\n",
    "assert stats[(Systems.ASU_TP, Objects.V3)] > 0\n",
    "assert stats[(Systems.ASU_TP, Objects.V4)] > 0\n",
    "assert stats[(Systems.ASU_TP, Objects.V5)] > 0\n",
    "assert stats[(Systems.ASU_TP, Objects.V6)] > 0\n",
    "assert stats[(Systems.ASU_TP, Objects.ZU)] > 0\n",
    "\n",
    "assert stats[(Systems.ASU_I, Objects.S1)] > 0\n",
    "assert stats[(Systems.ASU_I, Objects.S2)] > 0\n",
    "assert stats[(Systems.ASU_I, Objects.ZU)] > 0\n",
    "\n",
    "assert stats[(Systems.ASU_AM, Objects.S2)] > 0\n",
    "\n",
    "assert stats[(Systems.LVS, Objects.S1)] > 0\n",
    "assert stats[(Systems.LVS, Objects.S2)] > 0\n",
    "assert stats[(Systems.LVS, Objects.V1)] > 0\n",
    "assert stats[(Systems.LVS, Objects.V2)] > 0\n",
    "assert stats[(Systems.LVS, Objects.V3)] > 0\n",
    "assert stats[(Systems.LVS, Objects.V4)] > 0\n",
    "assert stats[(Systems.LVS, Objects.V5)] > 0\n",
    "assert stats[(Systems.LVS, Objects.V6)] > 0\n",
    "assert stats[(Systems.LVS, Objects.ZU)] > 0\n",
    "\n",
    "print('all ASU/LVS tests is complete')"
   ],
   "metadata": {
    "collapsed": false,
    "pycharm": {
     "name": "#%%\n",
     "is_executing": false
    }
   }
  },
  {
   "cell_type": "markdown",
   "source": [
    "VOLS test"
   ],
   "metadata": {
    "collapsed": false
   }
  },
  {
   "cell_type": "code",
   "execution_count": 4,
   "outputs": [
    {
     "traceback": [
      "\u001b[1;31m---------------------------------------------------------------------------\u001b[0m",
      "\u001b[1;31mNameError\u001b[0m                                 Traceback (most recent call last)",
      "\u001b[1;32m<ipython-input-4-6dfaa9b57e23>\u001b[0m in \u001b[0;36m<module>\u001b[1;34m\u001b[0m\n\u001b[1;32m----> 1\u001b[1;33m \u001b[1;32massert\u001b[0m \u001b[0mstats\u001b[0m\u001b[1;33m[\u001b[0m\u001b[1;33m(\u001b[0m\u001b[0mSystems\u001b[0m\u001b[1;33m.\u001b[0m\u001b[0mVOLS\u001b[0m\u001b[1;33m,\u001b[0m \u001b[0mObjects\u001b[0m\u001b[1;33m.\u001b[0m\u001b[0mZU\u001b[0m\u001b[1;33m)\u001b[0m\u001b[1;33m]\u001b[0m \u001b[1;33m>\u001b[0m \u001b[1;36m0\u001b[0m\u001b[1;33m\u001b[0m\u001b[1;33m\u001b[0m\u001b[0m\n\u001b[0m\u001b[0;32m      2\u001b[0m \u001b[1;32massert\u001b[0m \u001b[0mstats\u001b[0m\u001b[1;33m[\u001b[0m\u001b[1;33m(\u001b[0m\u001b[0mSystems\u001b[0m\u001b[1;33m.\u001b[0m\u001b[0mVOLS\u001b[0m\u001b[1;33m,\u001b[0m \u001b[0mObjects\u001b[0m\u001b[1;33m.\u001b[0m\u001b[0mPS360\u001b[0m\u001b[1;33m)\u001b[0m\u001b[1;33m]\u001b[0m \u001b[1;33m>\u001b[0m \u001b[1;36m0\u001b[0m\u001b[1;33m\u001b[0m\u001b[1;33m\u001b[0m\u001b[0m\n\u001b[0;32m      3\u001b[0m \u001b[1;32massert\u001b[0m \u001b[0mstats\u001b[0m\u001b[1;33m[\u001b[0m\u001b[1;33m(\u001b[0m\u001b[0mSystems\u001b[0m\u001b[1;33m.\u001b[0m\u001b[0mVOLS\u001b[0m\u001b[1;33m,\u001b[0m \u001b[0mObjects\u001b[0m\u001b[1;33m.\u001b[0m\u001b[0mS2\u001b[0m\u001b[1;33m)\u001b[0m\u001b[1;33m]\u001b[0m \u001b[1;33m>\u001b[0m \u001b[1;36m0\u001b[0m\u001b[1;33m\u001b[0m\u001b[1;33m\u001b[0m\u001b[0m\n\u001b[0;32m      4\u001b[0m \u001b[1;32massert\u001b[0m \u001b[0mstats\u001b[0m\u001b[1;33m[\u001b[0m\u001b[1;33m(\u001b[0m\u001b[0mSystems\u001b[0m\u001b[1;33m.\u001b[0m\u001b[0mVOLS\u001b[0m\u001b[1;33m,\u001b[0m \u001b[0mObjects\u001b[0m\u001b[1;33m.\u001b[0m\u001b[0mS1\u001b[0m\u001b[1;33m)\u001b[0m\u001b[1;33m]\u001b[0m \u001b[1;33m>\u001b[0m \u001b[1;36m0\u001b[0m\u001b[1;33m\u001b[0m\u001b[1;33m\u001b[0m\u001b[0m\n\u001b[0;32m      5\u001b[0m \u001b[1;33m\u001b[0m\u001b[0m\n",
      "\u001b[1;31mNameError\u001b[0m: name 'stats' is not defined"
     ],
     "ename": "NameError",
     "evalue": "name 'stats' is not defined",
     "output_type": "error"
    }
   ],
   "source": [
    "assert stats[(Systems.VOLS, Objects.ZU)] > 0\n",
    "assert stats[(Systems.VOLS, Objects.PS360)] > 0\n",
    "assert stats[(Systems.VOLS, Objects.S2)] > 0\n",
    "assert stats[(Systems.VOLS, Objects.S1)] > 0\n",
    "\n",
    "print('all VOLS tests is complete')"
   ],
   "metadata": {
    "collapsed": false,
    "pycharm": {
     "name": "#%%\n",
     "is_executing": false
    }
   }
  },
  {
   "cell_type": "markdown",
   "source": [
    "TK test"
   ],
   "metadata": {
    "collapsed": false
   }
  },
  {
   "cell_type": "code",
   "execution_count": 5,
   "outputs": [
    {
     "traceback": [
      "\u001b[1;31m---------------------------------------------------------------------------\u001b[0m",
      "\u001b[1;31mNameError\u001b[0m                                 Traceback (most recent call last)",
      "\u001b[1;32m<ipython-input-5-6a3049839c9e>\u001b[0m in \u001b[0;36m<module>\u001b[1;34m\u001b[0m\n\u001b[1;32m----> 1\u001b[1;33m \u001b[1;32massert\u001b[0m \u001b[0mstats\u001b[0m\u001b[1;33m[\u001b[0m\u001b[1;33m(\u001b[0m\u001b[0mSystems\u001b[0m\u001b[1;33m.\u001b[0m\u001b[0mTK\u001b[0m\u001b[1;33m,\u001b[0m \u001b[0mObjects\u001b[0m\u001b[1;33m.\u001b[0m\u001b[0mZU\u001b[0m\u001b[1;33m)\u001b[0m\u001b[1;33m]\u001b[0m \u001b[1;33m>\u001b[0m \u001b[1;36m0\u001b[0m\u001b[1;33m\u001b[0m\u001b[1;33m\u001b[0m\u001b[0m\n\u001b[0m\u001b[0;32m      2\u001b[0m \u001b[1;32massert\u001b[0m \u001b[0mstats\u001b[0m\u001b[1;33m[\u001b[0m\u001b[1;33m(\u001b[0m\u001b[0mSystems\u001b[0m\u001b[1;33m.\u001b[0m\u001b[0mTK\u001b[0m\u001b[1;33m,\u001b[0m \u001b[0mObjects\u001b[0m\u001b[1;33m.\u001b[0m\u001b[0mPS360\u001b[0m\u001b[1;33m)\u001b[0m\u001b[1;33m]\u001b[0m \u001b[1;33m>\u001b[0m \u001b[1;36m0\u001b[0m\u001b[1;33m\u001b[0m\u001b[1;33m\u001b[0m\u001b[0m\n\u001b[0;32m      3\u001b[0m \u001b[1;32massert\u001b[0m \u001b[0mstats\u001b[0m\u001b[1;33m[\u001b[0m\u001b[1;33m(\u001b[0m\u001b[0mSystems\u001b[0m\u001b[1;33m.\u001b[0m\u001b[0mTK\u001b[0m\u001b[1;33m,\u001b[0m \u001b[0mObjects\u001b[0m\u001b[1;33m.\u001b[0m\u001b[0mS2\u001b[0m\u001b[1;33m)\u001b[0m\u001b[1;33m]\u001b[0m \u001b[1;33m>\u001b[0m \u001b[1;36m0\u001b[0m\u001b[1;33m\u001b[0m\u001b[1;33m\u001b[0m\u001b[0m\n\u001b[0;32m      4\u001b[0m \u001b[1;32massert\u001b[0m \u001b[0mstats\u001b[0m\u001b[1;33m[\u001b[0m\u001b[1;33m(\u001b[0m\u001b[0mSystems\u001b[0m\u001b[1;33m.\u001b[0m\u001b[0mTK\u001b[0m\u001b[1;33m,\u001b[0m \u001b[0mObjects\u001b[0m\u001b[1;33m.\u001b[0m\u001b[0mS1\u001b[0m\u001b[1;33m)\u001b[0m\u001b[1;33m]\u001b[0m \u001b[1;33m>\u001b[0m \u001b[1;36m0\u001b[0m\u001b[1;33m\u001b[0m\u001b[1;33m\u001b[0m\u001b[0m\n\u001b[0;32m      5\u001b[0m \u001b[1;33m\u001b[0m\u001b[0m\n",
      "\u001b[1;31mNameError\u001b[0m: name 'stats' is not defined"
     ],
     "ename": "NameError",
     "evalue": "name 'stats' is not defined",
     "output_type": "error"
    }
   ],
   "source": [
    "assert stats[(Systems.TK, Objects.ZU)] > 0\n",
    "assert stats[(Systems.TK, Objects.PS360)] > 0\n",
    "assert stats[(Systems.TK, Objects.S2)] > 0\n",
    "assert stats[(Systems.TK, Objects.S1)] > 0\n",
    "\n",
    "print('all TK tests is complete')"
   ],
   "metadata": {
    "collapsed": false,
    "pycharm": {
     "name": "#%%\n",
     "is_executing": false
    }
   }
  },
  {
   "cell_type": "markdown",
   "source": [
    "ASKUE test"
   ],
   "metadata": {
    "collapsed": false
   }
  },
  {
   "cell_type": "code",
   "execution_count": 6,
   "outputs": [
    {
     "traceback": [
      "\u001b[1;31m---------------------------------------------------------------------------\u001b[0m",
      "\u001b[1;31mNameError\u001b[0m                                 Traceback (most recent call last)",
      "\u001b[1;32m<ipython-input-6-9c2174821468>\u001b[0m in \u001b[0;36m<module>\u001b[1;34m\u001b[0m\n\u001b[1;32m----> 1\u001b[1;33m \u001b[1;32massert\u001b[0m \u001b[0mstats\u001b[0m\u001b[1;33m[\u001b[0m\u001b[1;33m(\u001b[0m\u001b[0mSystems\u001b[0m\u001b[1;33m.\u001b[0m\u001b[0mASKUE\u001b[0m\u001b[1;33m,\u001b[0m \u001b[0mObjects\u001b[0m\u001b[1;33m.\u001b[0m\u001b[0mZU\u001b[0m\u001b[1;33m)\u001b[0m\u001b[1;33m]\u001b[0m \u001b[1;33m>\u001b[0m \u001b[1;36m0\u001b[0m\u001b[1;33m\u001b[0m\u001b[1;33m\u001b[0m\u001b[0m\n\u001b[0m\u001b[0;32m      2\u001b[0m \u001b[1;32massert\u001b[0m \u001b[0mstats\u001b[0m\u001b[1;33m[\u001b[0m\u001b[1;33m(\u001b[0m\u001b[0mSystems\u001b[0m\u001b[1;33m.\u001b[0m\u001b[0mASKUE\u001b[0m\u001b[1;33m,\u001b[0m \u001b[0mObjects\u001b[0m\u001b[1;33m.\u001b[0m\u001b[0mPS360\u001b[0m\u001b[1;33m)\u001b[0m\u001b[1;33m]\u001b[0m \u001b[1;33m>\u001b[0m \u001b[1;36m0\u001b[0m\u001b[1;33m\u001b[0m\u001b[1;33m\u001b[0m\u001b[0m\n\u001b[0;32m      3\u001b[0m \u001b[1;31m# assert stats[(Systems.ASKUE, Objects.PS223)] > 0\u001b[0m\u001b[1;33m\u001b[0m\u001b[1;33m\u001b[0m\u001b[1;33m\u001b[0m\u001b[0m\n\u001b[0;32m      4\u001b[0m \u001b[1;32massert\u001b[0m \u001b[0mstats\u001b[0m\u001b[1;33m[\u001b[0m\u001b[1;33m(\u001b[0m\u001b[0mSystems\u001b[0m\u001b[1;33m.\u001b[0m\u001b[0mASKUE\u001b[0m\u001b[1;33m,\u001b[0m \u001b[0mObjects\u001b[0m\u001b[1;33m.\u001b[0m\u001b[0mS2\u001b[0m\u001b[1;33m)\u001b[0m\u001b[1;33m]\u001b[0m \u001b[1;33m>\u001b[0m \u001b[1;36m0\u001b[0m\u001b[1;33m\u001b[0m\u001b[1;33m\u001b[0m\u001b[0m\n\u001b[0;32m      5\u001b[0m \u001b[1;32massert\u001b[0m \u001b[0mstats\u001b[0m\u001b[1;33m[\u001b[0m\u001b[1;33m(\u001b[0m\u001b[0mSystems\u001b[0m\u001b[1;33m.\u001b[0m\u001b[0mASKUE\u001b[0m\u001b[1;33m,\u001b[0m \u001b[0mObjects\u001b[0m\u001b[1;33m.\u001b[0m\u001b[0mS1\u001b[0m\u001b[1;33m)\u001b[0m\u001b[1;33m]\u001b[0m \u001b[1;33m>\u001b[0m \u001b[1;36m0\u001b[0m\u001b[1;33m\u001b[0m\u001b[1;33m\u001b[0m\u001b[0m\n",
      "\u001b[1;31mNameError\u001b[0m: name 'stats' is not defined"
     ],
     "ename": "NameError",
     "evalue": "name 'stats' is not defined",
     "output_type": "error"
    }
   ],
   "source": [
    "assert stats[(Systems.ASKUE, Objects.ZU)] > 0\n",
    "assert stats[(Systems.ASKUE, Objects.PS360)] > 0\n",
    "# assert stats[(Systems.ASKUE, Objects.PS223)] > 0\n",
    "assert stats[(Systems.ASKUE, Objects.S2)] > 0\n",
    "assert stats[(Systems.ASKUE, Objects.S1)] > 0\n",
    "\n",
    "print('all ASKUE tests is complete')"
   ],
   "metadata": {
    "collapsed": false,
    "pycharm": {
     "name": "#%%\n",
     "is_executing": false
    }
   }
  },
  {
   "cell_type": "markdown",
   "source": [
    "TECH_REG test"
   ],
   "metadata": {
    "collapsed": false
   }
  },
  {
   "cell_type": "code",
   "execution_count": 38,
   "outputs": [
    {
     "name": "stdout",
     "text": [
      "all TECH_REG tests is complete\n"
     ],
     "output_type": "stream"
    }
   ],
   "source": [
    "assert stats[(Systems.TECH_REG, Objects.PS360)] > 0\n",
    "assert stats[(Systems.TECH_REG, Objects.S2)] > 0\n",
    "assert stats[(Systems.TECH_REG, Objects.S1)] > 0\n",
    "\n",
    "print('all TECH_REG tests is complete')"
   ],
   "metadata": {
    "collapsed": false,
    "pycharm": {
     "name": "#%%\n",
     "is_executing": false
    }
   }
  },
  {
   "cell_type": "markdown",
   "source": [
    "# Sandbox"
   ],
   "metadata": {
    "collapsed": false
   }
  },
  {
   "cell_type": "code",
   "execution_count": 4,
   "outputs": [],
   "source": [
    "import pandas as pd\n",
    "from pre_processing import Systems, Objects"
   ],
   "metadata": {
    "collapsed": false,
    "pycharm": {
     "name": "#%%\n",
     "is_executing": false
    }
   }
  },
  {
   "cell_type": "code",
   "execution_count": 5,
   "outputs": [],
   "source": [
    "columns = ('date', 'system', 'object', 'place', 'work_type', 'tech_map', 'equip_name', 'performer', )\n",
    "result = pd.DataFrame(columns=columns,\n",
    "                      data = ((j.date, j.system, j.object, j.place, j.work_type, \n",
    "                               j.tech_map, j.equip_name, j.performer) \n",
    "                              for j in jobs))"
   ],
   "metadata": {
    "collapsed": false,
    "pycharm": {
     "name": "#%%\n",
     "is_executing": false
    }
   }
  },
  {
   "cell_type": "code",
   "execution_count": 6,
   "outputs": [
    {
     "data": {
      "text/plain": "         date        system         object               place work_type  \\\n0  2020-02-13  Systems.VOLS  Objects.PS360  ПС 110/35/6кВ №360       ТО2   \n1  2020-02-20  Systems.VOLS  Objects.PS360  ПС 110/35/6кВ №360       ТО3   \n2  2020-02-14  Systems.VOLS     Objects.S2      С2 ПС 110/10кВ       ТО2   \n3  2020-02-21  Systems.VOLS     Objects.S2      С2 ПС 110/10кВ       ТО3   \n4  2020-02-14  Systems.VOLS     Objects.S1      С1 ПС 110/10кВ       ТО2   \n\n                            tech_map  \\\n0  Технологическая операция 4/2/2016   \n1  Технологическая операция 8/2/2016   \n2  Технологическая операция 2/2/2016   \n3  Технологическая операция 7/2/2016   \n4  Технологическая операция 1/2/2016   \n\n                                  equip_name  \\\n0  КТС ВОЛС ВЭ ПС 110/35/6 кВ №360 \"Дамба-1\"   \n1  КТС ВОЛС ВЭ ПС 110/35/6 кВ №360 \"Дамба-1\"   \n2               КТС ВОЛС ВЭ ПС 110/10 кВ С-2   \n3               КТС ВОЛС ВЭ ПС 110/10 кВ С-2   \n4               КТС ВОЛС ВЭ ПС 110/10 кВ С-1   \n\n                                     performer  \n0  Ястребов Алексей Владимирович +79313581975   \n1  Ястребов Алексей Владимирович +79313581975   \n2      Ильин Андрей Владимирович +79219303652   \n3  Ястребов Алексей Владимирович +79313581975   \n4      Ильин Андрей Владимирович +79219303652   ",
      "text/html": "<div>\n<style scoped>\n    .dataframe tbody tr th:only-of-type {\n        vertical-align: middle;\n    }\n\n    .dataframe tbody tr th {\n        vertical-align: top;\n    }\n\n    .dataframe thead th {\n        text-align: right;\n    }\n</style>\n<table border=\"1\" class=\"dataframe\">\n  <thead>\n    <tr style=\"text-align: right;\">\n      <th></th>\n      <th>date</th>\n      <th>system</th>\n      <th>object</th>\n      <th>place</th>\n      <th>work_type</th>\n      <th>tech_map</th>\n      <th>equip_name</th>\n      <th>performer</th>\n    </tr>\n  </thead>\n  <tbody>\n    <tr>\n      <td>0</td>\n      <td>2020-02-13</td>\n      <td>Systems.VOLS</td>\n      <td>Objects.PS360</td>\n      <td>ПС 110/35/6кВ №360</td>\n      <td>ТО2</td>\n      <td>Технологическая операция 4/2/2016</td>\n      <td>КТС ВОЛС ВЭ ПС 110/35/6 кВ №360 \"Дамба-1\"</td>\n      <td>Ястребов Алексей Владимирович +79313581975</td>\n    </tr>\n    <tr>\n      <td>1</td>\n      <td>2020-02-20</td>\n      <td>Systems.VOLS</td>\n      <td>Objects.PS360</td>\n      <td>ПС 110/35/6кВ №360</td>\n      <td>ТО3</td>\n      <td>Технологическая операция 8/2/2016</td>\n      <td>КТС ВОЛС ВЭ ПС 110/35/6 кВ №360 \"Дамба-1\"</td>\n      <td>Ястребов Алексей Владимирович +79313581975</td>\n    </tr>\n    <tr>\n      <td>2</td>\n      <td>2020-02-14</td>\n      <td>Systems.VOLS</td>\n      <td>Objects.S2</td>\n      <td>С2 ПС 110/10кВ</td>\n      <td>ТО2</td>\n      <td>Технологическая операция 2/2/2016</td>\n      <td>КТС ВОЛС ВЭ ПС 110/10 кВ С-2</td>\n      <td>Ильин Андрей Владимирович +79219303652</td>\n    </tr>\n    <tr>\n      <td>3</td>\n      <td>2020-02-21</td>\n      <td>Systems.VOLS</td>\n      <td>Objects.S2</td>\n      <td>С2 ПС 110/10кВ</td>\n      <td>ТО3</td>\n      <td>Технологическая операция 7/2/2016</td>\n      <td>КТС ВОЛС ВЭ ПС 110/10 кВ С-2</td>\n      <td>Ястребов Алексей Владимирович +79313581975</td>\n    </tr>\n    <tr>\n      <td>4</td>\n      <td>2020-02-14</td>\n      <td>Systems.VOLS</td>\n      <td>Objects.S1</td>\n      <td>С1 ПС 110/10кВ</td>\n      <td>ТО2</td>\n      <td>Технологическая операция 1/2/2016</td>\n      <td>КТС ВОЛС ВЭ ПС 110/10 кВ С-1</td>\n      <td>Ильин Андрей Владимирович +79219303652</td>\n    </tr>\n  </tbody>\n</table>\n</div>"
     },
     "metadata": {},
     "output_type": "execute_result",
     "execution_count": 6
    }
   ],
   "source": [
    "result.head()"
   ],
   "metadata": {
    "collapsed": false,
    "pycharm": {
     "name": "#%%\n",
     "is_executing": false
    }
   }
  },
  {
   "cell_type": "code",
   "execution_count": 29,
   "outputs": [
    {
     "data": {
      "text/plain": "Empty DataFrame\nColumns: [date, system, object, place, work_type, tech_map, equip_name, performer]\nIndex: []",
      "text/html": "<div>\n<style scoped>\n    .dataframe tbody tr th:only-of-type {\n        vertical-align: middle;\n    }\n\n    .dataframe tbody tr th {\n        vertical-align: top;\n    }\n\n    .dataframe thead th {\n        text-align: right;\n    }\n</style>\n<table border=\"1\" class=\"dataframe\">\n  <thead>\n    <tr style=\"text-align: right;\">\n      <th></th>\n      <th>date</th>\n      <th>system</th>\n      <th>object</th>\n      <th>place</th>\n      <th>work_type</th>\n      <th>tech_map</th>\n      <th>equip_name</th>\n      <th>performer</th>\n    </tr>\n  </thead>\n  <tbody>\n  </tbody>\n</table>\n</div>"
     },
     "metadata": {},
     "output_type": "execute_result",
     "execution_count": 29
    }
   ],
   "source": [
    "result[result.isna().any(axis=1)]"
   ],
   "metadata": {
    "collapsed": false,
    "pycharm": {
     "name": "#%%\n",
     "is_executing": false
    }
   }
  },
  {
   "cell_type": "code",
   "execution_count": 8,
   "outputs": [],
   "source": [
    "result[result.system == Systems.VOLS]\\\n",
    "    .drop(['system', 'object', 'performer'], axis=1)\\\n",
    "    .reindex(columns=['date', 'place', 'work_type', 'tech_map'])\\\n",
    "    .sort_values(by=['date', 'place', 'work_type'])\\\n",
    "    .to_excel(r'vols_test.xlsx')"
   ],
   "metadata": {
    "collapsed": false,
    "pycharm": {
     "name": "#%%\n",
     "is_executing": false
    }
   }
  },
  {
   "cell_type": "code",
   "execution_count": 7,
   "outputs": [
    {
     "data": {
      "text/plain": "         date                  place work_type  \\\n7  2020-02-12  Здание управления КЗС       ТО2   \n0  2020-02-13     ПС 110/35/6кВ №360       ТО2   \n4  2020-02-14         С1 ПС 110/10кВ       ТО2   \n5  2020-02-14         С1 ПС 110/10кВ       ТО3   \n2  2020-02-14         С2 ПС 110/10кВ       ТО2   \n8  2020-02-19  Здание управления КЗС       ТО3   \n1  2020-02-20     ПС 110/35/6кВ №360       ТО3   \n6  2020-02-21              ПС Котлин       ТО2   \n3  2020-02-21         С2 ПС 110/10кВ       ТО3   \n\n                            tech_map  \n7     Технологическая карта 5/2/2016  \n0  Технологическая операция 4/2/2016  \n4  Технологическая операция 1/2/2016  \n5  Технологическая операция 6/2/2016  \n2  Технологическая операция 2/2/2016  \n8     Технологическая карта 9/2/2016  \n1  Технологическая операция 8/2/2016  \n6  Технологическая операция 3/2/2016  \n3  Технологическая операция 7/2/2016  ",
      "text/html": "<div>\n<style scoped>\n    .dataframe tbody tr th:only-of-type {\n        vertical-align: middle;\n    }\n\n    .dataframe tbody tr th {\n        vertical-align: top;\n    }\n\n    .dataframe thead th {\n        text-align: right;\n    }\n</style>\n<table border=\"1\" class=\"dataframe\">\n  <thead>\n    <tr style=\"text-align: right;\">\n      <th></th>\n      <th>date</th>\n      <th>place</th>\n      <th>work_type</th>\n      <th>tech_map</th>\n    </tr>\n  </thead>\n  <tbody>\n    <tr>\n      <td>7</td>\n      <td>2020-02-12</td>\n      <td>Здание управления КЗС</td>\n      <td>ТО2</td>\n      <td>Технологическая карта 5/2/2016</td>\n    </tr>\n    <tr>\n      <td>0</td>\n      <td>2020-02-13</td>\n      <td>ПС 110/35/6кВ №360</td>\n      <td>ТО2</td>\n      <td>Технологическая операция 4/2/2016</td>\n    </tr>\n    <tr>\n      <td>4</td>\n      <td>2020-02-14</td>\n      <td>С1 ПС 110/10кВ</td>\n      <td>ТО2</td>\n      <td>Технологическая операция 1/2/2016</td>\n    </tr>\n    <tr>\n      <td>5</td>\n      <td>2020-02-14</td>\n      <td>С1 ПС 110/10кВ</td>\n      <td>ТО3</td>\n      <td>Технологическая операция 6/2/2016</td>\n    </tr>\n    <tr>\n      <td>2</td>\n      <td>2020-02-14</td>\n      <td>С2 ПС 110/10кВ</td>\n      <td>ТО2</td>\n      <td>Технологическая операция 2/2/2016</td>\n    </tr>\n    <tr>\n      <td>8</td>\n      <td>2020-02-19</td>\n      <td>Здание управления КЗС</td>\n      <td>ТО3</td>\n      <td>Технологическая карта 9/2/2016</td>\n    </tr>\n    <tr>\n      <td>1</td>\n      <td>2020-02-20</td>\n      <td>ПС 110/35/6кВ №360</td>\n      <td>ТО3</td>\n      <td>Технологическая операция 8/2/2016</td>\n    </tr>\n    <tr>\n      <td>6</td>\n      <td>2020-02-21</td>\n      <td>ПС Котлин</td>\n      <td>ТО2</td>\n      <td>Технологическая операция 3/2/2016</td>\n    </tr>\n    <tr>\n      <td>3</td>\n      <td>2020-02-21</td>\n      <td>С2 ПС 110/10кВ</td>\n      <td>ТО3</td>\n      <td>Технологическая операция 7/2/2016</td>\n    </tr>\n  </tbody>\n</table>\n</div>"
     },
     "metadata": {},
     "output_type": "execute_result",
     "execution_count": 7
    }
   ],
   "source": [
    "result[result.system == Systems.VOLS]\\\n",
    "    .drop(['system', 'object', 'performer'], axis=1)\\\n",
    "    .reindex(columns=['date', 'place', 'work_type', 'tech_map'])\\\n",
    "    .sort_values(by=['date', 'place', 'work_type'])"
   ],
   "metadata": {
    "collapsed": false,
    "pycharm": {
     "name": "#%%\n",
     "is_executing": false
    }
   }
  },
  {
   "cell_type": "code",
   "execution_count": 9,
   "outputs": [
    {
     "data": {
      "text/plain": "         date        system         object                  place work_type  \\\n0  2020-02-13  Systems.VOLS  Objects.PS360                 ПС 360       ТО2   \n1  2020-02-20  Systems.VOLS  Objects.PS360                 ПС 360       ТО3   \n2  2020-02-14  Systems.VOLS     Objects.S2         С2 ПС 110/10кВ       ТО2   \n3  2020-02-21  Systems.VOLS     Objects.S2         С2 ПС 110/10кВ       ТО3   \n4  2020-02-14  Systems.VOLS     Objects.S1                     С1       ТО2   \n5  2020-02-14  Systems.VOLS     Objects.S1                     С1       ТО3   \n6  2020-02-21  Systems.VOLS     Objects.S1                 Котлин       ТО2   \n7  2020-02-12  Systems.VOLS     Objects.ZU  Здание управления КЗС       ТО2   \n8  2020-02-19  Systems.VOLS     Objects.ZU  Здание управления КЗС       ТО3   \n\n                            tech_map  \\\n0  Технологическая операция 4/2/2016   \n1  Технологическая операция 8/2/2016   \n2  Технологическая операция 2/2/2016   \n3  Технологическая операция 7/2/2016   \n4  Технологическая операция 1/2/2016   \n5  Технологическая операция 6/2/2016   \n6  Технологическая операция 3/2/2016   \n7     Технологическая карта 5/2/2016   \n8     Технологическая карта 9/2/2016   \n\n                                          equip_name  \\\n0          КТС ВОЛС ВЭ ПС 110/35/6 кВ №360 \"Дамба-1\"   \n1          КТС ВОЛС ВЭ ПС 110/35/6 кВ №360 \"Дамба-1\"   \n2                       КТС ВОЛС ВЭ ПС 110/10 кВ С-2   \n3                       КТС ВОЛС ВЭ ПС 110/10 кВ С-2   \n4                       КТС ВОЛС ВЭ ПС 110/10 кВ С-1   \n5                       КТС ВОЛС ВЭ ПС 110/10 кВ С-1   \n6  ВОК ОПН-ДСП-04-024А06-7,0, ВОК ОПН-ДСП-06-024А...   \n7               КТС ВОЛС ВЭ ЗУ (помещение №215, 825)   \n8               КТС ВОЛС ВЭ ЗУ (помещение №215, 825)   \n\n                                     performer  \n0  Ястребов Алексей Владимирович +79313581975   \n1  Ястребов Алексей Владимирович +79313581975   \n2      Ильин Андрей Владимирович +79219303652   \n3  Ястребов Алексей Владимирович +79313581975   \n4      Ильин Андрей Владимирович +79219303652   \n5      Ильин Андрей Владимирович +79219303652   \n6  Ястребов Алексей Владимирович +79313581975   \n7  Ястребов Алексей Владимирович +79313581975   \n8  Ястребов Алексей Владимирович +79313581975   ",
      "text/html": "<div>\n<style scoped>\n    .dataframe tbody tr th:only-of-type {\n        vertical-align: middle;\n    }\n\n    .dataframe tbody tr th {\n        vertical-align: top;\n    }\n\n    .dataframe thead th {\n        text-align: right;\n    }\n</style>\n<table border=\"1\" class=\"dataframe\">\n  <thead>\n    <tr style=\"text-align: right;\">\n      <th></th>\n      <th>date</th>\n      <th>system</th>\n      <th>object</th>\n      <th>place</th>\n      <th>work_type</th>\n      <th>tech_map</th>\n      <th>equip_name</th>\n      <th>performer</th>\n    </tr>\n  </thead>\n  <tbody>\n    <tr>\n      <td>0</td>\n      <td>2020-02-13</td>\n      <td>Systems.VOLS</td>\n      <td>Objects.PS360</td>\n      <td>ПС 360</td>\n      <td>ТО2</td>\n      <td>Технологическая операция 4/2/2016</td>\n      <td>КТС ВОЛС ВЭ ПС 110/35/6 кВ №360 \"Дамба-1\"</td>\n      <td>Ястребов Алексей Владимирович +79313581975</td>\n    </tr>\n    <tr>\n      <td>1</td>\n      <td>2020-02-20</td>\n      <td>Systems.VOLS</td>\n      <td>Objects.PS360</td>\n      <td>ПС 360</td>\n      <td>ТО3</td>\n      <td>Технологическая операция 8/2/2016</td>\n      <td>КТС ВОЛС ВЭ ПС 110/35/6 кВ №360 \"Дамба-1\"</td>\n      <td>Ястребов Алексей Владимирович +79313581975</td>\n    </tr>\n    <tr>\n      <td>2</td>\n      <td>2020-02-14</td>\n      <td>Systems.VOLS</td>\n      <td>Objects.S2</td>\n      <td>С2 ПС 110/10кВ</td>\n      <td>ТО2</td>\n      <td>Технологическая операция 2/2/2016</td>\n      <td>КТС ВОЛС ВЭ ПС 110/10 кВ С-2</td>\n      <td>Ильин Андрей Владимирович +79219303652</td>\n    </tr>\n    <tr>\n      <td>3</td>\n      <td>2020-02-21</td>\n      <td>Systems.VOLS</td>\n      <td>Objects.S2</td>\n      <td>С2 ПС 110/10кВ</td>\n      <td>ТО3</td>\n      <td>Технологическая операция 7/2/2016</td>\n      <td>КТС ВОЛС ВЭ ПС 110/10 кВ С-2</td>\n      <td>Ястребов Алексей Владимирович +79313581975</td>\n    </tr>\n    <tr>\n      <td>4</td>\n      <td>2020-02-14</td>\n      <td>Systems.VOLS</td>\n      <td>Objects.S1</td>\n      <td>С1</td>\n      <td>ТО2</td>\n      <td>Технологическая операция 1/2/2016</td>\n      <td>КТС ВОЛС ВЭ ПС 110/10 кВ С-1</td>\n      <td>Ильин Андрей Владимирович +79219303652</td>\n    </tr>\n    <tr>\n      <td>5</td>\n      <td>2020-02-14</td>\n      <td>Systems.VOLS</td>\n      <td>Objects.S1</td>\n      <td>С1</td>\n      <td>ТО3</td>\n      <td>Технологическая операция 6/2/2016</td>\n      <td>КТС ВОЛС ВЭ ПС 110/10 кВ С-1</td>\n      <td>Ильин Андрей Владимирович +79219303652</td>\n    </tr>\n    <tr>\n      <td>6</td>\n      <td>2020-02-21</td>\n      <td>Systems.VOLS</td>\n      <td>Objects.S1</td>\n      <td>Котлин</td>\n      <td>ТО2</td>\n      <td>Технологическая операция 3/2/2016</td>\n      <td>ВОК ОПН-ДСП-04-024А06-7,0, ВОК ОПН-ДСП-06-024А...</td>\n      <td>Ястребов Алексей Владимирович +79313581975</td>\n    </tr>\n    <tr>\n      <td>7</td>\n      <td>2020-02-12</td>\n      <td>Systems.VOLS</td>\n      <td>Objects.ZU</td>\n      <td>Здание управления КЗС</td>\n      <td>ТО2</td>\n      <td>Технологическая карта 5/2/2016</td>\n      <td>КТС ВОЛС ВЭ ЗУ (помещение №215, 825)</td>\n      <td>Ястребов Алексей Владимирович +79313581975</td>\n    </tr>\n    <tr>\n      <td>8</td>\n      <td>2020-02-19</td>\n      <td>Systems.VOLS</td>\n      <td>Objects.ZU</td>\n      <td>Здание управления КЗС</td>\n      <td>ТО3</td>\n      <td>Технологическая карта 9/2/2016</td>\n      <td>КТС ВОЛС ВЭ ЗУ (помещение №215, 825)</td>\n      <td>Ястребов Алексей Владимирович +79313581975</td>\n    </tr>\n  </tbody>\n</table>\n</div>"
     },
     "metadata": {},
     "output_type": "execute_result",
     "execution_count": 9
    }
   ],
   "source": [
    " result[result.system == Systems.VOLS]"
   ],
   "metadata": {
    "collapsed": false,
    "pycharm": {
     "name": "#%%\n",
     "is_executing": false
    }
   }
  },
  {
   "cell_type": "code",
   "execution_count": 62,
   "outputs": [
    {
     "name": "stdout",
     "text": [
      "folder: .\\input data\\АСУ\n"
     ],
     "output_type": "stream"
    },
    {
     "data": {
      "text/plain": "247"
     },
     "metadata": {},
     "output_type": "execute_result",
     "execution_count": 62
    }
   ],
   "source": [
    "old = {*process_files(r'.\\input data\\АСУ', find_sheets_asu, works_parser.ParserAsu)}\n",
    "len(old)"
   ],
   "metadata": {
    "collapsed": false,
    "pycharm": {
     "name": "#%%\n",
     "is_executing": false
    }
   }
  },
  {
   "cell_type": "code",
   "execution_count": 64,
   "outputs": [
    {
     "name": "stdout",
     "text": [
      "folder: .\\input data\\2\n"
     ],
     "output_type": "stream"
    },
    {
     "data": {
      "text/plain": "84"
     },
     "metadata": {},
     "output_type": "execute_result",
     "execution_count": 64
    }
   ],
   "source": [
    "new = {*process_files(r'.\\input data\\2', all_visible_sheets, works_parser.ParserSake)}\n",
    "len(new)"
   ],
   "metadata": {
    "collapsed": false,
    "pycharm": {
     "name": "#%%\n",
     "is_executing": false
    }
   }
  },
  {
   "cell_type": "code",
   "execution_count": 1,
   "outputs": [],
   "source": [
    "import duty_schedule\n",
    "import openpyxl\n",
    "import datetime\n",
    "\n",
    "wb = openpyxl.load_workbook(r'.\\input data\\графики дежурств\\20.02.xlsx')\n",
    "schedule = duty_schedule.DutySchedule(wb.worksheets[0], duty_schedule.all_workers)"
   ],
   "metadata": {
    "collapsed": false,
    "pycharm": {
     "name": "#%%\n",
     "is_executing": false
    }
   }
  },
  {
   "cell_type": "code",
   "execution_count": 2,
   "outputs": [
    {
     "name": "stdout",
     "text": [
      "\n"
     ],
     "output_type": "stream"
    },
    {
     "data": {
      "text/plain": "Каприца Анатолий Евгеньевич +79046315018 "
     },
     "metadata": {},
     "output_type": "execute_result",
     "execution_count": 2
    }
   ],
   "source": [
    "print('')\n",
    "schedule.get_performer(duty_schedule.team_s2, datetime.date(2020, 2, 15))"
   ],
   "metadata": {
    "collapsed": false,
    "pycharm": {
     "name": "#%%\n",
     "is_executing": false
    }
   }
  },
  {
   "cell_type": "code",
   "execution_count": null,
   "outputs": [],
   "source": [],
   "metadata": {
    "collapsed": false,
    "pycharm": {
     "name": "#%%\n"
    }
   }
  },
  {
   "cell_type": "markdown",
   "source": [
    "## авыавы\n",
    "\n"
   ],
   "metadata": {
    "collapsed": false
   }
  }
 ],
 "metadata": {
  "language_info": {
   "codemirror_mode": {
    "name": "ipython",
    "version": 2
   },
   "file_extension": ".py",
   "mimetype": "text/x-python",
   "name": "python",
   "nbconvert_exporter": "python",
   "pygments_lexer": "ipython2",
   "version": "2.7.6"
  },
  "kernelspec": {
   "name": "python3",
   "language": "python",
   "display_name": "Python 3"
  },
  "pycharm": {
   "stem_cell": {
    "cell_type": "raw",
    "source": [],
    "metadata": {
     "collapsed": false
    }
   }
  }
 },
 "nbformat": 4,
 "nbformat_minor": 0
}