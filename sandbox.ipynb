{
 "cells": [
  {
   "cell_type": "markdown",
   "metadata": {},
   "source": [
    "# Init & parsing"
   ]
  },
  {
   "cell_type": "markdown",
   "metadata": {
    "collapsed": true,
    "pycharm": {
     "name": "#%% md\n"
    }
   },
   "source": [
    "импорт"
   ]
  },
  {
   "cell_type": "code",
   "execution_count": 2,
   "metadata": {
    "pycharm": {
     "name": "#%%\n"
    }
   },
   "outputs": [
    {
     "name": "stdout",
     "output_type": "stream",
     "text": [
      "The autoreload extension is already loaded. To reload it, use:\n",
      "  %reload_ext autoreload\n"
     ]
    }
   ],
   "source": [
    "from collections import Counter\n",
    "\n",
    "import numpy as np\n",
    "import matplotlib.pyplot as plt\n",
    "\n",
    "from application import *\n",
    "from journal import Journal, JournalASU, jobs_to_df\n",
    "from pre_processing import Job, Systems, Objects \n",
    "import statistics\n",
    "%matplotlib inline\n",
    "\n",
    "\n",
    "%load_ext autoreload\n",
    "%autoreload 2"
   ]
  },
  {
   "cell_type": "markdown",
   "metadata": {
    "pycharm": {
     "name": "#%% md\n"
    }
   },
   "source": [
    "парсинг файлов"
   ]
  },
  {
   "cell_type": "code",
   "execution_count": 3,
   "metadata": {
    "pycharm": {
     "name": "#%%\n"
    }
   },
   "outputs": [
    {
     "name": "stdout",
     "output_type": "stream",
     "text": [
      "folder: .\\input data\\SAKE\n",
      " - 7.1.36.xlsx\n",
      " - 7.1.37_2.xlsx\n",
      " - 7.1.38.xlsx\n",
      " - 9.2.36.xlsx\n",
      " - 9.2.37-1.xlsx\n",
      " - 9.2.37_2.xlsx\n",
      " - 9.2.38.xlsx\n",
      " - 9.3.36.xlsx\n",
      " - 9.3.37-1.xlsx\n",
      " - 9.3.37_2.xlsx\n",
      " - 9.3.38.xlsx\n",
      " - 9.4.36.xlsx\n",
      " - 9.4.37-1.xlsx\n",
      " - 9.4.37_2.xlsx\n",
      " - 9.4.38.xlsx\n",
      " - АСУ И_01.2022.xlsx\n",
      " - АСУ М_01.2022.xlsx\n",
      " - АСУТП_01.2022.xlsx\n",
      " - ЛВС_01.2022.xlsx\n",
      "408\n"
     ]
    }
   ],
   "source": [
    "# %%time\n",
    "jobs = []\n",
    "jobs.extend(process_files(r'.\\input data\\SAKE', all_visible_sheets, works_parser.ParserSake))\n",
    "\n",
    "print(len(jobs))"
   ]
  },
  {
   "cell_type": "markdown",
   "metadata": {
    "pycharm": {
     "name": "#%% md\n"
    }
   },
   "source": [
    "генерация статистики"
   ]
  },
  {
   "cell_type": "code",
   "execution_count": 4,
   "metadata": {
    "pycharm": {
     "name": "#%%\n"
    }
   },
   "outputs": [
    {
     "data": {
      "image/png": "[encoded data removed]",
      "text/plain": [
       "<Figure size 432x288 with 2 Axes>"
      ]
     },
     "metadata": {
      "needs_background": "light"
     },
     "output_type": "display_data"
    }
   ],
   "source": [
    "stats = Counter((j.system, j.object)for j in jobs)    \n",
    "# print(stats)\n",
    "\n",
    "statistics.visualize_statistics(stats)\n",
    "\n",
    "# for (xlabel, ylabel), count in stats.items():\n",
    "#     print(f'{str(xlabel).ljust(17)}, {str(ylabel).ljust(15)} - {str(count).ljust(5)}')"
   ]
  },
  {
   "cell_type": "markdown",
   "metadata": {},
   "source": [
    "# Tests"
   ]
  },
  {
   "cell_type": "markdown",
   "metadata": {
    "pycharm": {
     "name": "#%% md\n"
    }
   },
   "source": [
    "date test"
   ]
  },
  {
   "cell_type": "code",
   "execution_count": 5,
   "metadata": {
    "pycharm": {
     "name": "#%%\n"
    }
   },
   "outputs": [
    {
     "name": "stdout",
     "output_type": "stream",
     "text": [
      "{(2022, 1)}\n",
      "test complete.\n"
     ]
    }
   ],
   "source": [
    "dates = set((j.date.year, j.date.month) for j in jobs)\n",
    "print(dates)\n",
    "assert len(dates) == 1\n",
    "print('test complete.')\n"
   ]
  },
  {
   "cell_type": "markdown",
   "metadata": {},
   "source": [
    "ASU test"
   ]
  },
  {
   "cell_type": "code",
   "execution_count": 6,
   "metadata": {
    "pycharm": {
     "name": "#%%\n"
    }
   },
   "outputs": [
    {
     "name": "stdout",
     "output_type": "stream",
     "text": [
      "all ASU/LVS tests is complete\n"
     ]
    }
   ],
   "source": [
    "assert stats[(Systems.ASU_TP, Objects.S1)] > 0\n",
    "assert stats[(Systems.ASU_TP, Objects.S2)] > 0\n",
    "assert stats[(Systems.ASU_TP, Objects.V1)] > 0\n",
    "assert stats[(Systems.ASU_TP, Objects.V2)] > 0\n",
    "assert stats[(Systems.ASU_TP, Objects.V3)] > 0\n",
    "assert stats[(Systems.ASU_TP, Objects.V4)] > 0\n",
    "assert stats[(Systems.ASU_TP, Objects.V5)] > 0\n",
    "assert stats[(Systems.ASU_TP, Objects.V6)] > 0\n",
    "# assert stats[(Systems.ASU_TP, Objects.ZU)] > 0\n",
    "\n",
    "assert stats[(Systems.ASU_I, Objects.S1)] > 0\n",
    "assert stats[(Systems.ASU_I, Objects.S2)] > 0\n",
    "# assert stats[(Systems.ASU_I, Objects.ZU)] > 0\n",
    "\n",
    "assert stats[(Systems.ASU_AM, Objects.S2)] > 0\n",
    "\n",
    "assert stats[(Systems.LVS, Objects.S1)] > 0\n",
    "assert stats[(Systems.LVS, Objects.S2)] > 0\n",
    "assert stats[(Systems.LVS, Objects.V1)] > 0\n",
    "assert stats[(Systems.LVS, Objects.V2)] > 0\n",
    "assert stats[(Systems.LVS, Objects.V3)] > 0\n",
    "assert stats[(Systems.LVS, Objects.V4)] > 0\n",
    "assert stats[(Systems.LVS, Objects.V5)] > 0\n",
    "assert stats[(Systems.LVS, Objects.V6)] > 0\n",
    "# assert stats[(Systems.LVS, Objects.ZU)] > 0\n",
    "\n",
    "print('all ASU/LVS tests is complete')"
   ]
  },
  {
   "cell_type": "markdown",
   "metadata": {},
   "source": [
    "VOLS test"
   ]
  },
  {
   "cell_type": "code",
   "execution_count": 7,
   "metadata": {
    "pycharm": {
     "name": "#%%\n"
    }
   },
   "outputs": [
    {
     "name": "stdout",
     "output_type": "stream",
     "text": [
      "all VOLS tests is complete\n"
     ]
    }
   ],
   "source": [
    "assert stats[(Systems.VOLS, Objects.ZU)] > 0\n",
    "assert stats[(Systems.VOLS, Objects.PS360)] > 0\n",
    "assert stats[(Systems.VOLS, Objects.S2)] > 0\n",
    "assert stats[(Systems.VOLS, Objects.S1)] > 0\n",
    "\n",
    "print('all VOLS tests is complete')"
   ]
  },
  {
   "cell_type": "markdown",
   "metadata": {},
   "source": [
    "TK test"
   ]
  },
  {
   "cell_type": "code",
   "execution_count": 8,
   "metadata": {
    "pycharm": {
     "name": "#%%\n"
    }
   },
   "outputs": [
    {
     "name": "stdout",
     "output_type": "stream",
     "text": [
      "all TK tests is complete\n"
     ]
    }
   ],
   "source": [
    "assert stats[(Systems.TK, Objects.ZU)] > 0\n",
    "assert stats[(Systems.TK, Objects.PS360)] > 0\n",
    "assert stats[(Systems.TK, Objects.S2)] > 0\n",
    "assert stats[(Systems.TK, Objects.S1)] > 0\n",
    "\n",
    "print('all TK tests is complete')"
   ]
  },
  {
   "cell_type": "markdown",
   "metadata": {},
   "source": [
    "ASKUE test"
   ]
  },
  {
   "cell_type": "code",
   "execution_count": 9,
   "metadata": {
    "pycharm": {
     "name": "#%%\n"
    }
   },
   "outputs": [
    {
     "name": "stdout",
     "output_type": "stream",
     "text": [
      "all ASKUE tests is complete\n"
     ]
    }
   ],
   "source": [
    "assert stats[(Systems.ASKUE, Objects.ZU)] > 0\n",
    "assert stats[(Systems.ASKUE, Objects.PS360)] > 0\n",
    "# assert stats[(Systems.ASKUE, Objects.PS223)] > 0\n",
    "assert stats[(Systems.ASKUE, Objects.S2)] > 0\n",
    "assert stats[(Systems.ASKUE, Objects.S1)] > 0\n",
    "\n",
    "print('all ASKUE tests is complete')"
   ]
  },
  {
   "cell_type": "markdown",
   "metadata": {},
   "source": [
    "TECH_REG test"
   ]
  },
  {
   "cell_type": "code",
   "execution_count": 10,
   "metadata": {
    "pycharm": {
     "name": "#%%\n"
    }
   },
   "outputs": [
    {
     "name": "stdout",
     "output_type": "stream",
     "text": [
      "all TECH_REG tests is complete\n"
     ]
    }
   ],
   "source": [
    "assert stats[(Systems.TECH_REG, Objects.PS360)] > 0\n",
    "assert stats[(Systems.TECH_REG, Objects.S2)] > 0\n",
    "assert stats[(Systems.TECH_REG, Objects.S1)] > 0\n",
    "print('all TECH_REG tests is complete')"
   ]
  },
  {
   "cell_type": "markdown",
   "metadata": {},
   "source": [
    "# Plans generator"
   ]
  },
  {
   "cell_type": "code",
   "execution_count": 12,
   "metadata": {
    "pycharm": {
     "name": "#%%\n"
    }
   },
   "outputs": [
    {
     "name": "stdout",
     "output_type": "stream",
     "text": [
      "Генерация планов работ\n",
      " - .\\output data\\plans\\2022 02 01.xlsx\n",
      " - .\\output data\\plans\\2022 02 02.xlsx\n",
      " - .\\output data\\plans\\2022 02 03.xlsx\n",
      " - .\\output data\\plans\\2022 02 04.xlsx\n",
      " - .\\output data\\plans\\2022 02 05.xlsx\n",
      " - .\\output data\\plans\\2022 02 06.xlsx\n",
      " - .\\output data\\plans\\2022 02 07.xlsx\n",
      " - .\\output data\\plans\\2022 02 08.xlsx\n",
      " - .\\output data\\plans\\2022 02 09.xlsx\n",
      " - .\\output data\\plans\\2022 02 10.xlsx\n",
      " - .\\output data\\plans\\2022 02 11.xlsx\n",
      " - .\\output data\\plans\\2022 02 12.xlsx\n",
      " - .\\output data\\plans\\2022 02 13.xlsx\n",
      " - .\\output data\\plans\\2022 02 14.xlsx\n",
      " - .\\output data\\plans\\2022 02 15.xlsx\n",
      " - .\\output data\\plans\\2022 02 16.xlsx\n",
      " - .\\output data\\plans\\2022 02 17.xlsx\n",
      " - .\\output data\\plans\\2022 02 18.xlsx\n",
      " - .\\output data\\plans\\2022 02 19.xlsx\n",
      " - .\\output data\\plans\\2022 02 20.xlsx\n",
      " - .\\output data\\plans\\2022 02 21.xlsx\n",
      " - .\\output data\\plans\\2022 02 22.xlsx\n",
      " - .\\output data\\plans\\2022 02 23.xlsx\n",
      " - .\\output data\\plans\\2022 02 24.xlsx\n",
      " - .\\output data\\plans\\2022 02 25.xlsx\n",
      " - .\\output data\\plans\\2022 02 26.xlsx\n",
      " - .\\output data\\plans\\2022 02 27.xlsx\n",
      " - .\\output data\\plans\\2022 02 28.xlsx\n",
      "Генерация успешно завершена\n"
     ]
    }
   ],
   "source": [
    "make_xlsx_from_jobs(jobs)"
   ]
  },
  {
   "cell_type": "markdown",
   "metadata": {},
   "source": [
    "# Journals generator"
   ]
  },
  {
   "cell_type": "code",
   "execution_count": 13,
   "metadata": {
    "pycharm": {
     "name": "#%%\n"
    }
   },
   "outputs": [],
   "source": [
    "from journal import Journal, JournalASU, JournalASKUE, jobs_to_df, batch_journal_generator\n",
    "from config_journals import batch_ASU_journals, batch_ASKUE_journals"
   ]
  },
  {
   "cell_type": "markdown",
   "metadata": {
    "pycharm": {
     "name": "#%% md\n"
    }
   },
   "source": [
    "генерация датафрейма"
   ]
  },
  {
   "cell_type": "code",
   "execution_count": 14,
   "metadata": {
    "pycharm": {
     "name": "#%%\n"
    }
   },
   "outputs": [],
   "source": [
    "df_jobs = jobs_to_df(jobs)"
   ]
  },
  {
   "cell_type": "markdown",
   "metadata": {
    "pycharm": {
     "name": "#%% md\n"
    }
   },
   "source": [
    "генерация журналов АСУ"
   ]
  },
  {
   "cell_type": "code",
   "execution_count": 15,
   "metadata": {
    "pycharm": {
     "name": "#%%\n"
    }
   },
   "outputs": [
    {
     "ename": "AttributeError",
     "evalue": "'Worksheet' object has no attribute 'cell'",
     "output_type": "error",
     "traceback": [
      "\u001B[1;31m---------------------------------------------------------------------------\u001B[0m",
      "\u001B[1;31mAttributeError\u001B[0m                            Traceback (most recent call last)",
      "\u001B[1;32m<ipython-input-15-20d7487b925c>\u001B[0m in \u001B[0;36m<module>\u001B[1;34m\u001B[0m\n\u001B[1;32m----> 1\u001B[1;33m \u001B[0mbatch_journal_generator\u001B[0m\u001B[1;33m(\u001B[0m\u001B[0mdf_jobs\u001B[0m\u001B[1;33m,\u001B[0m \u001B[0mJournalASU\u001B[0m\u001B[1;33m,\u001B[0m \u001B[0mbatch_ASU_journals\u001B[0m\u001B[1;33m)\u001B[0m\u001B[1;33m\u001B[0m\u001B[1;33m\u001B[0m\u001B[0m\n\u001B[0m",
      "\u001B[1;32m~\\PycharmProjects\\Work plan generator\\journal.py\u001B[0m in \u001B[0;36mbatch_journal_generator\u001B[1;34m(jobs_df, journal_class, config, return_journals, save_journals)\u001B[0m\n\u001B[0;32m    133\u001B[0m             \u001B[0mjournals\u001B[0m\u001B[1;33m[\u001B[0m\u001B[0mname\u001B[0m\u001B[1;33m]\u001B[0m \u001B[1;33m=\u001B[0m \u001B[0mj\u001B[0m\u001B[1;33m\u001B[0m\u001B[1;33m\u001B[0m\u001B[0m\n\u001B[0;32m    134\u001B[0m         \u001B[1;32mif\u001B[0m \u001B[0msave_journals\u001B[0m\u001B[1;33m:\u001B[0m\u001B[1;33m\u001B[0m\u001B[1;33m\u001B[0m\u001B[0m\n\u001B[1;32m--> 135\u001B[1;33m             \u001B[0mj\u001B[0m\u001B[1;33m.\u001B[0m\u001B[0msave_journal\u001B[0m\u001B[1;33m(\u001B[0m\u001B[0mname\u001B[0m\u001B[1;33m)\u001B[0m\u001B[1;33m\u001B[0m\u001B[1;33m\u001B[0m\u001B[0m\n\u001B[0m\u001B[0;32m    136\u001B[0m     \u001B[1;32mreturn\u001B[0m \u001B[0mjournals\u001B[0m\u001B[1;33m\u001B[0m\u001B[1;33m\u001B[0m\u001B[0m\n",
      "\u001B[1;32m~\\PycharmProjects\\Work plan generator\\journal.py\u001B[0m in \u001B[0;36msave_journal\u001B[1;34m(self, file_name, folder, header)\u001B[0m\n\u001B[0;32m     40\u001B[0m             \u001B[1;32mwith\u001B[0m \u001B[0mpd\u001B[0m\u001B[1;33m.\u001B[0m\u001B[0mExcelWriter\u001B[0m\u001B[1;33m(\u001B[0m\u001B[0mpath\u001B[0m\u001B[1;33m=\u001B[0m\u001B[0mfull_file_name\u001B[0m\u001B[1;33m,\u001B[0m \u001B[0mdate_format\u001B[0m\u001B[1;33m=\u001B[0m\u001B[1;34m'DD.MM.YY'\u001B[0m\u001B[1;33m)\u001B[0m \u001B[1;32mas\u001B[0m \u001B[0mwriter\u001B[0m\u001B[1;33m:\u001B[0m\u001B[1;33m\u001B[0m\u001B[1;33m\u001B[0m\u001B[0m\n\u001B[0;32m     41\u001B[0m                 \u001B[0mself\u001B[0m\u001B[1;33m.\u001B[0m\u001B[0mjournal\u001B[0m\u001B[1;33m.\u001B[0m\u001B[0mto_excel\u001B[0m\u001B[1;33m(\u001B[0m\u001B[0mwriter\u001B[0m\u001B[1;33m,\u001B[0m \u001B[0msheet_name\u001B[0m\u001B[1;33m,\u001B[0m \u001B[0mheader\u001B[0m\u001B[1;33m=\u001B[0m\u001B[0mheader_names\u001B[0m\u001B[1;33m,\u001B[0m \u001B[0mindex\u001B[0m\u001B[1;33m=\u001B[0m\u001B[1;32mFalse\u001B[0m\u001B[1;33m)\u001B[0m\u001B[1;33m\u001B[0m\u001B[1;33m\u001B[0m\u001B[0m\n\u001B[1;32m---> 42\u001B[1;33m                 \u001B[0mself\u001B[0m\u001B[1;33m.\u001B[0m\u001B[0m_set_wrap_text\u001B[0m\u001B[1;33m(\u001B[0m\u001B[0mwriter\u001B[0m\u001B[1;33m.\u001B[0m\u001B[0msheets\u001B[0m\u001B[1;33m[\u001B[0m\u001B[0msheet_name\u001B[0m\u001B[1;33m]\u001B[0m\u001B[1;33m,\u001B[0m \u001B[1;33m(\u001B[0m\u001B[1;36m2\u001B[0m\u001B[1;33m,\u001B[0m\u001B[1;33m)\u001B[0m\u001B[1;33m)\u001B[0m\u001B[1;33m\u001B[0m\u001B[1;33m\u001B[0m\u001B[0m\n\u001B[0m\u001B[0;32m     43\u001B[0m                 \u001B[0mself\u001B[0m\u001B[1;33m.\u001B[0m\u001B[0m_set_columns_width\u001B[0m\u001B[1;33m(\u001B[0m\u001B[0mwriter\u001B[0m\u001B[1;33m.\u001B[0m\u001B[0msheets\u001B[0m\u001B[1;33m[\u001B[0m\u001B[0msheet_name\u001B[0m\u001B[1;33m]\u001B[0m\u001B[1;33m,\u001B[0m \u001B[0mcol_widths\u001B[0m\u001B[1;33m)\u001B[0m\u001B[1;33m\u001B[0m\u001B[1;33m\u001B[0m\u001B[0m\n\u001B[0;32m     44\u001B[0m                 \u001B[0mself\u001B[0m\u001B[1;33m.\u001B[0m\u001B[0m_set_print_area\u001B[0m\u001B[1;33m(\u001B[0m\u001B[0mwriter\u001B[0m\u001B[1;33m.\u001B[0m\u001B[0msheets\u001B[0m\u001B[1;33m[\u001B[0m\u001B[0msheet_name\u001B[0m\u001B[1;33m]\u001B[0m\u001B[1;33m)\u001B[0m\u001B[1;33m\u001B[0m\u001B[1;33m\u001B[0m\u001B[0m\n",
      "\u001B[1;32m~\\PycharmProjects\\Work plan generator\\journal.py\u001B[0m in \u001B[0;36m_set_wrap_text\u001B[1;34m(self, ws, col_numbers)\u001B[0m\n\u001B[0;32m     49\u001B[0m         \u001B[1;32mfor\u001B[0m \u001B[0mrow\u001B[0m \u001B[1;32min\u001B[0m \u001B[0mrange\u001B[0m\u001B[1;33m(\u001B[0m\u001B[1;36m1\u001B[0m\u001B[1;33m,\u001B[0m \u001B[0mtable_last_row\u001B[0m \u001B[1;33m+\u001B[0m \u001B[1;36m1\u001B[0m\u001B[1;33m)\u001B[0m\u001B[1;33m:\u001B[0m\u001B[1;33m\u001B[0m\u001B[1;33m\u001B[0m\u001B[0m\n\u001B[0;32m     50\u001B[0m             \u001B[1;32mfor\u001B[0m \u001B[0mcol\u001B[0m \u001B[1;32min\u001B[0m \u001B[0mcol_numbers\u001B[0m\u001B[1;33m:\u001B[0m\u001B[1;33m\u001B[0m\u001B[1;33m\u001B[0m\u001B[0m\n\u001B[1;32m---> 51\u001B[1;33m                 \u001B[0mws\u001B[0m\u001B[1;33m.\u001B[0m\u001B[0mcell\u001B[0m\u001B[1;33m(\u001B[0m\u001B[0mrow\u001B[0m\u001B[1;33m,\u001B[0m \u001B[0mcol\u001B[0m\u001B[1;33m)\u001B[0m\u001B[1;33m.\u001B[0m\u001B[0malignment\u001B[0m \u001B[1;33m=\u001B[0m \u001B[0mAlignment\u001B[0m\u001B[1;33m(\u001B[0m\u001B[0mwrap_text\u001B[0m\u001B[1;33m=\u001B[0m\u001B[1;32mFalse\u001B[0m\u001B[1;33m)\u001B[0m\u001B[1;33m\u001B[0m\u001B[1;33m\u001B[0m\u001B[0m\n\u001B[0m\u001B[0;32m     52\u001B[0m         \u001B[1;32mfor\u001B[0m \u001B[0mrow\u001B[0m \u001B[1;32min\u001B[0m \u001B[0mrange\u001B[0m\u001B[1;33m(\u001B[0m\u001B[1;36m2\u001B[0m\u001B[1;33m,\u001B[0m \u001B[0mtable_last_row\u001B[0m \u001B[1;33m+\u001B[0m \u001B[1;36m1\u001B[0m\u001B[1;33m)\u001B[0m\u001B[1;33m:\u001B[0m\u001B[1;33m\u001B[0m\u001B[1;33m\u001B[0m\u001B[0m\n\u001B[0;32m     53\u001B[0m             \u001B[0mdate_col\u001B[0m \u001B[1;33m=\u001B[0m \u001B[1;36m1\u001B[0m\u001B[1;33m\u001B[0m\u001B[1;33m\u001B[0m\u001B[0m\n",
      "\u001B[1;31mAttributeError\u001B[0m: 'Worksheet' object has no attribute 'cell'"
     ]
    }
   ],
   "source": [
    "batch_journal_generator(df_jobs, JournalASU, batch_ASU_journals)"
   ]
  },
  {
   "cell_type": "markdown",
   "metadata": {},
   "source": [
    "генерация журналов АИИСКУЕ"
   ]
  },
  {
   "cell_type": "code",
   "execution_count": 55,
   "metadata": {
    "pycharm": {
     "name": "#%%\n"
    }
   },
   "outputs": [
    {
     "ename": "AttributeError",
     "evalue": "'Worksheet' object has no attribute 'cell'",
     "output_type": "error",
     "traceback": [
      "\u001B[1;31m---------------------------------------------------------------------------\u001B[0m",
      "\u001B[1;31mAttributeError\u001B[0m                            Traceback (most recent call last)",
      "\u001B[1;32m<ipython-input-55-06e92b0eb360>\u001B[0m in \u001B[0;36m<module>\u001B[1;34m\u001B[0m\n\u001B[1;32m----> 1\u001B[1;33m \u001B[0mbatch_journal_generator\u001B[0m\u001B[1;33m(\u001B[0m\u001B[0mdf_jobs\u001B[0m\u001B[1;33m,\u001B[0m \u001B[0mJournalASKUE\u001B[0m\u001B[1;33m,\u001B[0m \u001B[0mbatch_ASKUE_journals\u001B[0m\u001B[1;33m)\u001B[0m\u001B[1;33m\u001B[0m\u001B[1;33m\u001B[0m\u001B[0m\n\u001B[0m",
      "\u001B[1;32m~\\PycharmProjects\\Work plan generator\\journal.py\u001B[0m in \u001B[0;36mbatch_journal_generator\u001B[1;34m(jobs_df, journal_class, config, return_journals, save_journals)\u001B[0m\n\u001B[0;32m    133\u001B[0m             \u001B[0mjournals\u001B[0m\u001B[1;33m[\u001B[0m\u001B[0mname\u001B[0m\u001B[1;33m]\u001B[0m \u001B[1;33m=\u001B[0m \u001B[0mj\u001B[0m\u001B[1;33m\u001B[0m\u001B[1;33m\u001B[0m\u001B[0m\n\u001B[0;32m    134\u001B[0m         \u001B[1;32mif\u001B[0m \u001B[0msave_journals\u001B[0m\u001B[1;33m:\u001B[0m\u001B[1;33m\u001B[0m\u001B[1;33m\u001B[0m\u001B[0m\n\u001B[1;32m--> 135\u001B[1;33m             \u001B[0mj\u001B[0m\u001B[1;33m.\u001B[0m\u001B[0msave_journal\u001B[0m\u001B[1;33m(\u001B[0m\u001B[0mname\u001B[0m\u001B[1;33m)\u001B[0m\u001B[1;33m\u001B[0m\u001B[1;33m\u001B[0m\u001B[0m\n\u001B[0m\u001B[0;32m    136\u001B[0m     \u001B[1;32mreturn\u001B[0m \u001B[0mjournals\u001B[0m\u001B[1;33m\u001B[0m\u001B[1;33m\u001B[0m\u001B[0m\n",
      "\u001B[1;32m~\\PycharmProjects\\Work plan generator\\journal.py\u001B[0m in \u001B[0;36msave_journal\u001B[1;34m(self, file_name, folder, header)\u001B[0m\n\u001B[0;32m     40\u001B[0m             \u001B[1;32mwith\u001B[0m \u001B[0mpd\u001B[0m\u001B[1;33m.\u001B[0m\u001B[0mExcelWriter\u001B[0m\u001B[1;33m(\u001B[0m\u001B[0mpath\u001B[0m\u001B[1;33m=\u001B[0m\u001B[0mfull_file_name\u001B[0m\u001B[1;33m,\u001B[0m \u001B[0mdate_format\u001B[0m\u001B[1;33m=\u001B[0m\u001B[1;34m'DD.MM.YY'\u001B[0m\u001B[1;33m)\u001B[0m \u001B[1;32mas\u001B[0m \u001B[0mwriter\u001B[0m\u001B[1;33m:\u001B[0m\u001B[1;33m\u001B[0m\u001B[1;33m\u001B[0m\u001B[0m\n\u001B[0;32m     41\u001B[0m                 \u001B[0mself\u001B[0m\u001B[1;33m.\u001B[0m\u001B[0mjournal\u001B[0m\u001B[1;33m.\u001B[0m\u001B[0mto_excel\u001B[0m\u001B[1;33m(\u001B[0m\u001B[0mwriter\u001B[0m\u001B[1;33m,\u001B[0m \u001B[0msheet_name\u001B[0m\u001B[1;33m,\u001B[0m \u001B[0mheader\u001B[0m\u001B[1;33m=\u001B[0m\u001B[0mheader_names\u001B[0m\u001B[1;33m,\u001B[0m \u001B[0mindex\u001B[0m\u001B[1;33m=\u001B[0m\u001B[1;32mFalse\u001B[0m\u001B[1;33m)\u001B[0m\u001B[1;33m\u001B[0m\u001B[1;33m\u001B[0m\u001B[0m\n\u001B[1;32m---> 42\u001B[1;33m                 \u001B[0mself\u001B[0m\u001B[1;33m.\u001B[0m\u001B[0m_set_wrap_text\u001B[0m\u001B[1;33m(\u001B[0m\u001B[0mwriter\u001B[0m\u001B[1;33m.\u001B[0m\u001B[0msheets\u001B[0m\u001B[1;33m[\u001B[0m\u001B[0msheet_name\u001B[0m\u001B[1;33m]\u001B[0m\u001B[1;33m,\u001B[0m \u001B[1;33m(\u001B[0m\u001B[1;36m2\u001B[0m\u001B[1;33m,\u001B[0m\u001B[1;33m)\u001B[0m\u001B[1;33m)\u001B[0m\u001B[1;33m\u001B[0m\u001B[1;33m\u001B[0m\u001B[0m\n\u001B[0m\u001B[0;32m     43\u001B[0m                 \u001B[0mself\u001B[0m\u001B[1;33m.\u001B[0m\u001B[0m_set_columns_width\u001B[0m\u001B[1;33m(\u001B[0m\u001B[0mwriter\u001B[0m\u001B[1;33m.\u001B[0m\u001B[0msheets\u001B[0m\u001B[1;33m[\u001B[0m\u001B[0msheet_name\u001B[0m\u001B[1;33m]\u001B[0m\u001B[1;33m,\u001B[0m \u001B[0mcol_widths\u001B[0m\u001B[1;33m)\u001B[0m\u001B[1;33m\u001B[0m\u001B[1;33m\u001B[0m\u001B[0m\n\u001B[0;32m     44\u001B[0m                 \u001B[0mself\u001B[0m\u001B[1;33m.\u001B[0m\u001B[0m_set_print_area\u001B[0m\u001B[1;33m(\u001B[0m\u001B[0mwriter\u001B[0m\u001B[1;33m.\u001B[0m\u001B[0msheets\u001B[0m\u001B[1;33m[\u001B[0m\u001B[0msheet_name\u001B[0m\u001B[1;33m]\u001B[0m\u001B[1;33m)\u001B[0m\u001B[1;33m\u001B[0m\u001B[1;33m\u001B[0m\u001B[0m\n",
      "\u001B[1;32m~\\PycharmProjects\\Work plan generator\\journal.py\u001B[0m in \u001B[0;36m_set_wrap_text\u001B[1;34m(self, ws, col_numbers)\u001B[0m\n\u001B[0;32m     49\u001B[0m         \u001B[1;32mfor\u001B[0m \u001B[0mrow\u001B[0m \u001B[1;32min\u001B[0m \u001B[0mrange\u001B[0m\u001B[1;33m(\u001B[0m\u001B[1;36m1\u001B[0m\u001B[1;33m,\u001B[0m \u001B[0mtable_last_row\u001B[0m \u001B[1;33m+\u001B[0m \u001B[1;36m1\u001B[0m\u001B[1;33m)\u001B[0m\u001B[1;33m:\u001B[0m\u001B[1;33m\u001B[0m\u001B[1;33m\u001B[0m\u001B[0m\n\u001B[0;32m     50\u001B[0m             \u001B[1;32mfor\u001B[0m \u001B[0mcol\u001B[0m \u001B[1;32min\u001B[0m \u001B[0mcol_numbers\u001B[0m\u001B[1;33m:\u001B[0m\u001B[1;33m\u001B[0m\u001B[1;33m\u001B[0m\u001B[0m\n\u001B[1;32m---> 51\u001B[1;33m                 \u001B[0mws\u001B[0m\u001B[1;33m.\u001B[0m\u001B[0mcell\u001B[0m\u001B[1;33m(\u001B[0m\u001B[0mrow\u001B[0m\u001B[1;33m,\u001B[0m \u001B[0mcol\u001B[0m\u001B[1;33m)\u001B[0m\u001B[1;33m.\u001B[0m\u001B[0malignment\u001B[0m \u001B[1;33m=\u001B[0m \u001B[0mAlignment\u001B[0m\u001B[1;33m(\u001B[0m\u001B[0mwrap_text\u001B[0m\u001B[1;33m=\u001B[0m\u001B[1;32mFalse\u001B[0m\u001B[1;33m)\u001B[0m\u001B[1;33m\u001B[0m\u001B[1;33m\u001B[0m\u001B[0m\n\u001B[0m\u001B[0;32m     52\u001B[0m         \u001B[1;32mfor\u001B[0m \u001B[0mrow\u001B[0m \u001B[1;32min\u001B[0m \u001B[0mrange\u001B[0m\u001B[1;33m(\u001B[0m\u001B[1;36m2\u001B[0m\u001B[1;33m,\u001B[0m \u001B[0mtable_last_row\u001B[0m \u001B[1;33m+\u001B[0m \u001B[1;36m1\u001B[0m\u001B[1;33m)\u001B[0m\u001B[1;33m:\u001B[0m\u001B[1;33m\u001B[0m\u001B[1;33m\u001B[0m\u001B[0m\n\u001B[0;32m     53\u001B[0m             \u001B[0mdate_col\u001B[0m \u001B[1;33m=\u001B[0m \u001B[1;36m1\u001B[0m\u001B[1;33m\u001B[0m\u001B[1;33m\u001B[0m\u001B[0m\n",
      "\u001B[1;31mAttributeError\u001B[0m: 'Worksheet' object has no attribute 'cell'"
     ]
    }
   ],
   "source": [
    "batch_journal_generator(df_jobs, JournalASKUE, batch_ASKUE_journals)"
   ]
  },
  {
   "cell_type": "markdown",
   "metadata": {
    "pycharm": {
     "name": "#%% md\n"
    }
   },
   "source": [
    "## calendars"
   ]
  },
  {
   "cell_type": "code",
   "execution_count": 54,
   "metadata": {
    "pycharm": {
     "name": "#%%\n"
    }
   },
   "outputs": [
    {
     "name": "stdout",
     "output_type": "stream",
     "text": [
      "В1-В6\n"
     ]
    },
    {
     "ename": "AttributeError",
     "evalue": "'Worksheet' object has no attribute 'cell'",
     "output_type": "error",
     "traceback": [
      "\u001B[1;31m---------------------------------------------------------------------------\u001B[0m",
      "\u001B[1;31mAttributeError\u001B[0m                            Traceback (most recent call last)",
      "\u001B[1;32m<ipython-input-54-b6d3104bfae6>\u001B[0m in \u001B[0;36m<module>\u001B[1;34m\u001B[0m\n\u001B[0;32m      1\u001B[0m \u001B[1;32mfrom\u001B[0m \u001B[0mwork_calendar\u001B[0m \u001B[1;32mimport\u001B[0m \u001B[0mbatch_make_calendars\u001B[0m\u001B[1;33m\u001B[0m\u001B[1;33m\u001B[0m\u001B[0m\n\u001B[0;32m      2\u001B[0m \u001B[1;33m\u001B[0m\u001B[0m\n\u001B[1;32m----> 3\u001B[1;33m \u001B[0mbatch_make_calendars\u001B[0m\u001B[1;33m(\u001B[0m\u001B[0mdf_jobs\u001B[0m\u001B[1;33m)\u001B[0m\u001B[1;33m\u001B[0m\u001B[1;33m\u001B[0m\u001B[0m\n\u001B[0m",
      "\u001B[1;32m~\\PycharmProjects\\Work plan generator\\work_calendar.py\u001B[0m in \u001B[0;36mbatch_make_calendars\u001B[1;34m(df)\u001B[0m\n\u001B[0;32m     49\u001B[0m         \u001B[0mprint\u001B[0m\u001B[1;33m(\u001B[0m\u001B[0mdescription\u001B[0m\u001B[1;33m.\u001B[0m\u001B[0mname\u001B[0m\u001B[1;33m)\u001B[0m\u001B[1;33m\u001B[0m\u001B[1;33m\u001B[0m\u001B[0m\n\u001B[0;32m     50\u001B[0m         \u001B[0mpivot\u001B[0m \u001B[1;33m=\u001B[0m \u001B[0mcalendar_pivot_table\u001B[0m\u001B[1;33m(\u001B[0m\u001B[0mdf\u001B[0m\u001B[1;33m,\u001B[0m \u001B[0mdescription\u001B[0m\u001B[1;33m)\u001B[0m\u001B[1;33m\u001B[0m\u001B[1;33m\u001B[0m\u001B[0m\n\u001B[1;32m---> 51\u001B[1;33m         \u001B[0mmake_calendar\u001B[0m\u001B[1;33m(\u001B[0m\u001B[0mpivot\u001B[0m\u001B[1;33m,\u001B[0m \u001B[0mdescription\u001B[0m\u001B[1;33m)\u001B[0m\u001B[1;33m\u001B[0m\u001B[1;33m\u001B[0m\u001B[0m\n\u001B[0m",
      "\u001B[1;32m~\\PycharmProjects\\Work plan generator\\work_calendar.py\u001B[0m in \u001B[0;36mmake_calendar\u001B[1;34m(pivot_table, description, path, sheet_name)\u001B[0m\n\u001B[0;32m     21\u001B[0m         \u001B[0mpivot_table\u001B[0m\u001B[1;33m.\u001B[0m\u001B[0mto_excel\u001B[0m\u001B[1;33m(\u001B[0m\u001B[0mwriter\u001B[0m\u001B[1;33m,\u001B[0m \u001B[0msheet_name\u001B[0m\u001B[1;33m)\u001B[0m\u001B[1;33m\u001B[0m\u001B[1;33m\u001B[0m\u001B[0m\n\u001B[0;32m     22\u001B[0m         \u001B[0mws\u001B[0m \u001B[1;33m=\u001B[0m \u001B[0mwriter\u001B[0m\u001B[1;33m.\u001B[0m\u001B[0msheets\u001B[0m\u001B[1;33m[\u001B[0m\u001B[0msheet_name\u001B[0m\u001B[1;33m]\u001B[0m\u001B[1;33m\u001B[0m\u001B[1;33m\u001B[0m\u001B[0m\n\u001B[1;32m---> 23\u001B[1;33m         \u001B[0mws\u001B[0m\u001B[1;33m.\u001B[0m\u001B[0mcell\u001B[0m\u001B[1;33m(\u001B[0m\u001B[0mrow\u001B[0m\u001B[1;33m=\u001B[0m\u001B[1;36m1\u001B[0m\u001B[1;33m,\u001B[0m \u001B[0mcolumn\u001B[0m\u001B[1;33m=\u001B[0m\u001B[1;36m1\u001B[0m\u001B[1;33m)\u001B[0m\u001B[1;33m.\u001B[0m\u001B[0mvalue\u001B[0m \u001B[1;33m=\u001B[0m \u001B[0mdescription\u001B[0m\u001B[1;33m.\u001B[0m\u001B[0mname\u001B[0m\u001B[1;33m\u001B[0m\u001B[1;33m\u001B[0m\u001B[0m\n\u001B[0m\u001B[0;32m     24\u001B[0m         \u001B[0mws\u001B[0m\u001B[1;33m.\u001B[0m\u001B[0mcolumn_dimensions\u001B[0m\u001B[1;33m[\u001B[0m\u001B[0mget_column_letter\u001B[0m\u001B[1;33m(\u001B[0m\u001B[1;36m1\u001B[0m\u001B[1;33m)\u001B[0m\u001B[1;33m]\u001B[0m\u001B[1;33m.\u001B[0m\u001B[0mwidth\u001B[0m \u001B[1;33m=\u001B[0m \u001B[1;36m35\u001B[0m  \u001B[1;31m# places column\u001B[0m\u001B[1;33m\u001B[0m\u001B[1;33m\u001B[0m\u001B[0m\n\u001B[0;32m     25\u001B[0m         \u001B[0mws\u001B[0m\u001B[1;33m.\u001B[0m\u001B[0mcolumn_dimensions\u001B[0m\u001B[1;33m[\u001B[0m\u001B[0mget_column_letter\u001B[0m\u001B[1;33m(\u001B[0m\u001B[1;36m2\u001B[0m\u001B[1;33m)\u001B[0m\u001B[1;33m]\u001B[0m\u001B[1;33m.\u001B[0m\u001B[0mwidth\u001B[0m \u001B[1;33m=\u001B[0m \u001B[1;36m17\u001B[0m  \u001B[1;31m# systems column\u001B[0m\u001B[1;33m\u001B[0m\u001B[1;33m\u001B[0m\u001B[0m\n",
      "\u001B[1;31mAttributeError\u001B[0m: 'Worksheet' object has no attribute 'cell'"
     ]
    }
   ],
   "source": [
    "from work_calendar import batch_make_calendars\n",
    "\n",
    "batch_make_calendars(df_jobs)"
   ]
  },
  {
   "cell_type": "markdown",
   "metadata": {},
   "source": [
    "## email sending"
   ]
  },
  {
   "cell_type": "code",
   "execution_count": 18,
   "metadata": {
    "pycharm": {
     "name": "#%%\n"
    }
   },
   "outputs": [],
   "source": [
    "import config_email, email_processing\n",
    "import os\n",
    "from application import get_xlsx_files\n"
   ]
  },
  {
   "cell_type": "code",
   "execution_count": 20,
   "metadata": {
    "pycharm": {
     "name": "#%%\n"
    }
   },
   "outputs": [
    {
     "name": "stdout",
     "output_type": "stream",
     "text": [
      "email subject: журналы работ Январь \n",
      "NMulin@en-techno.ru  ['./output data/journals/2022 01 АСУ И С1 Север.xlsx', './output data/journals/2022 01 АСУ И С1 Юг.xlsx', './output data/journals/2022 01 АСУ ТП С1 Север.xlsx', './output data/journals/2022 01 АСУ ТП С1 Юг.xlsx']\n",
      "VHaritonov@bcc.ru    ['./output data/journals/2022 01 АСУ И С1 Север.xlsx', './output data/journals/2022 01 АСУ ТП С1 Север.xlsx']\n",
      "VMakarov@bcc.ru      ['./output data/journals/2022 01 АСУ АМ С2.xlsx', './output data/journals/2022 01 АСУ И ЗУ.xlsx', './output data/journals/2022 01 АСУ И С2 Север.xlsx', './output data/journals/2022 01 АСУ И С2 Юг.xlsx', './output data/journals/2022 01 АСУ ТП ЗУ.xlsx', './output data/journals/2022 01 АСУ ТП С2 Север.xlsx', './output data/journals/2022 01 АСУ ТП С2 Юг.xlsx']\n",
      "APodolskij@en-techno.ru ['./output data/journals/2022 01 АСУ ТП В1.xlsx', './output data/journals/2022 01 АСУ ТП В2.xlsx', './output data/journals/2022 01 АСУ ТП В3.xlsx', './output data/journals/2022 01 АСУ ТП В4.xlsx', './output data/journals/2022 01 АСУ ТП В5.xlsx', './output data/journals/2022 01 АСУ ТП В6.xlsx']\n",
      "VSanzhara@bcc.ru     ['./output data/journals/2022 01 АИИСКУЕ.xlsx', './output data/journals/2022 01 АСУ И С1 Север.xlsx', './output data/journals/2022 01 АСУ И С1 Юг.xlsx', './output data/journals/2022 01 АСУ ТП В1.xlsx', './output data/journals/2022 01 АСУ ТП В2.xlsx', './output data/journals/2022 01 АСУ ТП В3.xlsx', './output data/journals/2022 01 АСУ ТП В4.xlsx', './output data/journals/2022 01 АСУ ТП В5.xlsx', './output data/journals/2022 01 АСУ ТП В6.xlsx', './output data/journals/2022 01 АСУ ТП С1 Север.xlsx', './output data/journals/2022 01 АСУ ТП С1 Юг.xlsx', './output data/journals/2022 01 ВОЛС.xlsx', './output data/journals/2022 01 ЛВС.xlsx']\n",
      "AIlin@en-techno.ru   ['./output data/journals/2022 01 АИИСКУЕ.xlsx', './output data/journals/2022 01 ВОЛС.xlsx', './output data/journals/2022 01 ЛВС.xlsx']\n",
      "AYastrebov@en-techno.ru ['./output data/journals/2022 01 Тех Учет.xlsx']\n",
      "AOgorodnikov@en-techno.ru ['./output data/journals/2022 01 ТК М2.xlsx']\n"
     ]
    }
   ],
   "source": [
    "email_processing.send_journals(config_email.batch_sending_journals, \n",
    "                               attachment_folder=r'./output data/journals/', \n",
    "                               mail_subj='журналы работ', \n",
    "                               add_month_to_subj= True, test_mod=False)"
   ]
  },
  {
   "cell_type": "code",
   "execution_count": 21,
   "metadata": {
    "pycharm": {
     "name": "#%%\n"
    }
   },
   "outputs": [
    {
     "name": "stdout",
     "output_type": "stream",
     "text": [
      "email subject: планы работ Январь \n",
      "kzs.asu.504@gmail.com ['./output data/plans/2022 01 01.xlsx', './output data/plans/2022 01 02.xlsx', './output data/plans/2022 01 03.xlsx', './output data/plans/2022 01 04.xlsx', './output data/plans/2022 01 05.xlsx', './output data/plans/2022 01 06.xlsx', './output data/plans/2022 01 07.xlsx', './output data/plans/2022 01 08.xlsx', './output data/plans/2022 01 09.xlsx', './output data/plans/2022 01 10.xlsx', './output data/plans/2022 01 11.xlsx', './output data/plans/2022 01 12.xlsx', './output data/plans/2022 01 13.xlsx', './output data/plans/2022 01 14.xlsx', './output data/plans/2022 01 15.xlsx', './output data/plans/2022 01 16.xlsx', './output data/plans/2022 01 17.xlsx', './output data/plans/2022 01 18.xlsx', './output data/plans/2022 01 19.xlsx', './output data/plans/2022 01 20.xlsx', './output data/plans/2022 01 21.xlsx', './output data/plans/2022 01 22.xlsx', './output data/plans/2022 01 23.xlsx', './output data/plans/2022 01 24.xlsx', './output data/plans/2022 01 25.xlsx', './output data/plans/2022 01 26.xlsx', './output data/plans/2022 01 27.xlsx', './output data/plans/2022 01 28.xlsx', './output data/plans/2022 01 29.xlsx', './output data/plans/2022 01 30.xlsx', './output data/plans/2022 01 31.xlsx']\n"
     ]
    }
   ],
   "source": [
    "email_processing.send_journals(config_email.batch_sending_plans, \n",
    "                               attachment_folder=r'./output data/plans/', \n",
    "                               mail_subj='планы работ', \n",
    "                               add_month_to_subj= True, test_mod=False)"
   ]
  },
  {
   "cell_type": "code",
   "execution_count": 22,
   "metadata": {
    "pycharm": {
     "name": "#%%\n"
    }
   },
   "outputs": [
    {
     "name": "stdout",
     "output_type": "stream",
     "text": [
      "email subject: календарь работ Январь \n",
      "VHaritonov@bcc.ru    ['./output data/calendars/2022 01 Календарь работ С1.xlsx']\n",
      "VMakarov@bcc.ru      ['./output data/calendars/2022 01 Календарь работ С2.xlsx']\n",
      "AKapritsa@en-techno.ru ['./output data/calendars/2022 01 Календарь работ С2.xlsx']\n",
      "APodolskij@en-techno.ru ['./output data/calendars/2022 01 Календарь работ В1-В6.xlsx']\n",
      "NMulin@en-techno.ru  ['./output data/calendars/2022 01 Календарь работ В1-В6.xlsx']\n",
      "AIlin@en-techno.ru   ['./output data/calendars/2022 01 Календарь работ Оптика.xlsx']\n",
      "AYastrebov@en-techno.ru ['./output data/calendars/2022 01 Календарь работ Энергетика.xlsx']\n"
     ]
    }
   ],
   "source": [
    "email_processing.send_journals(config_email.batch_sending_calendars, \n",
    "                               attachment_folder=r'./output data/calendars/', \n",
    "                               mail_subj='календарь работ', \n",
    "                               add_month_to_subj= True, test_mod=False)\n"
   ]
  },
  {
   "cell_type": "markdown",
   "metadata": {
    "pycharm": {
     "name": "#%% md\n"
    }
   },
   "source": [
    "# Sandbox"
   ]
  },
  {
   "cell_type": "code",
   "execution_count": 35,
   "metadata": {},
   "outputs": [
    {
     "ename": "NameError",
     "evalue": "name 'openssl' is not defined",
     "output_type": "error",
     "traceback": [
      "\u001B[1;31m---------------------------------------------------------------------------\u001B[0m",
      "\u001B[1;31mNameError\u001B[0m                                 Traceback (most recent call last)",
      "\u001B[1;32m<ipython-input-35-7b9d5b09aebe>\u001B[0m in \u001B[0;36m<module>\u001B[1;34m\u001B[0m\n\u001B[1;32m----> 1\u001B[1;33m \u001B[0mopenssl\u001B[0m\u001B[1;33m\u001B[0m\u001B[1;33m\u001B[0m\u001B[0m\n\u001B[0m",
      "\u001B[1;31mNameError\u001B[0m: name 'openssl' is not defined"
     ]
    }
   ],
   "source": []
  }
 ],
 "metadata": {
  "kernelspec": {
   "display_name": "Python 3",
   "language": "python",
   "name": "python3"
  },
  "language_info": {
   "codemirror_mode": {
    "name": "ipython",
    "version": 3
   },
   "file_extension": ".py",
   "mimetype": "text/x-python",
   "name": "python",
   "nbconvert_exporter": "python",
   "pygments_lexer": "ipython3",
   "version": "3.8.3"
  }
 },
 "nbformat": 4,
 "nbformat_minor": 1
}