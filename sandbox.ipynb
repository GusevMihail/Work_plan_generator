{
 "cells": [
  {
   "cell_type": "markdown",
   "source": [
    "# Init & parsing"
   ],
   "metadata": {
    "collapsed": false
   }
  },
  {
   "cell_type": "markdown",
   "metadata": {
    "collapsed": true,
    "pycharm": {
     "name": "#%% md\n"
    }
   },
   "source": [
    "импорт"
   ]
  },
  {
   "cell_type": "code",
   "execution_count": null,
   "outputs": [],
   "source": [
    "from collections import Counter\n",
    "\n",
    "import numpy as np\n",
    "import matplotlib.pyplot as plt\n",
    "\n",
    "from application import *\n",
    "from journal import Journal, JournalASU, jobs_to_df\n",
    "from pre_processing import Job, Systems, Objects \n",
    "import statistics\n",
    "%matplotlib inline\n",
    "\n",
    "\n",
    "%load_ext autoreload\n",
    "%autoreload 2\n",
    "\n",
    "print('import complete')"
   ],
   "metadata": {
    "collapsed": false,
    "pycharm": {
     "name": "#%%\n"
    }
   }
  },
  {
   "cell_type": "markdown",
   "source": [
    "парсинг файлов"
   ],
   "metadata": {
    "collapsed": false,
    "pycharm": {
     "name": "#%% md\n"
    }
   }
  },
  {
   "cell_type": "code",
   "execution_count": null,
   "outputs": [],
   "source": [
    "# %%time\n",
    "jobs = []\n",
    "jobs.extend(process_files(r'.\\input data\\SAKE', all_visible_sheets, works_parser.ParserSake))\n",
    "\n",
    "print(len(jobs))"
   ],
   "metadata": {
    "collapsed": false,
    "pycharm": {
     "name": "#%%\n"
    }
   }
  },
  {
   "cell_type": "markdown",
   "source": [
    "генерация статистики"
   ],
   "metadata": {
    "collapsed": false,
    "pycharm": {
     "name": "#%% md\n"
    }
   }
  },
  {
   "cell_type": "code",
   "execution_count": null,
   "outputs": [],
   "source": [
    "stats = Counter((j.system, j.object)for j in jobs)    \n",
    "# print(stats)\n",
    "\n",
    "statistics.visualize_statistics(stats)\n",
    "\n",
    "for (xlabel, ylabel), count in stats.items():\n",
    "    print(f'{str(xlabel).ljust(17)}, {str(ylabel).ljust(15)} - {str(count).ljust(5)}')"
   ],
   "metadata": {
    "collapsed": false,
    "pycharm": {
     "name": "#%%\n"
    }
   }
  },
  {
   "cell_type": "markdown",
   "source": [
    "# Tests"
   ],
   "metadata": {
    "collapsed": false
   }
  },
  {
   "cell_type": "markdown",
   "source": [
    "date test"
   ],
   "metadata": {
    "collapsed": false,
    "pycharm": {
     "name": "#%% md\n"
    }
   }
  },
  {
   "cell_type": "code",
   "execution_count": null,
   "outputs": [],
   "source": [
    "dates = set((j.date.year, j.date.month) for j in jobs)\n",
    "print(dates)\n",
    "assert len(dates) == 1\n",
    "print('test complete.')\n"
   ],
   "metadata": {
    "collapsed": false,
    "pycharm": {
     "name": "#%%\n"
    }
   }
  },
  {
   "cell_type": "markdown",
   "source": [
    "ASU test"
   ],
   "metadata": {
    "collapsed": false
   }
  },
  {
   "cell_type": "code",
   "execution_count": null,
   "outputs": [],
   "source": [
    "assert stats[(Systems.ASU_TP, Objects.S1)] > 0\n",
    "assert stats[(Systems.ASU_TP, Objects.S2)] > 0\n",
    "assert stats[(Systems.ASU_TP, Objects.V1)] > 0\n",
    "assert stats[(Systems.ASU_TP, Objects.V2)] > 0\n",
    "assert stats[(Systems.ASU_TP, Objects.V3)] > 0\n",
    "assert stats[(Systems.ASU_TP, Objects.V4)] > 0\n",
    "assert stats[(Systems.ASU_TP, Objects.V5)] > 0\n",
    "assert stats[(Systems.ASU_TP, Objects.V6)] > 0\n",
    "# assert stats[(Systems.ASU_TP, Objects.ZU)] > 0\n",
    "\n",
    "assert stats[(Systems.ASU_I, Objects.S1)] > 0\n",
    "assert stats[(Systems.ASU_I, Objects.S2)] > 0\n",
    "# assert stats[(Systems.ASU_I, Objects.ZU)] > 0\n",
    "\n",
    "assert stats[(Systems.ASU_AM, Objects.S2)] > 0\n",
    "\n",
    "assert stats[(Systems.LVS, Objects.S1)] > 0\n",
    "assert stats[(Systems.LVS, Objects.S2)] > 0\n",
    "assert stats[(Systems.LVS, Objects.V1)] > 0\n",
    "assert stats[(Systems.LVS, Objects.V2)] > 0\n",
    "assert stats[(Systems.LVS, Objects.V3)] > 0\n",
    "assert stats[(Systems.LVS, Objects.V4)] > 0\n",
    "assert stats[(Systems.LVS, Objects.V5)] > 0\n",
    "assert stats[(Systems.LVS, Objects.V6)] > 0\n",
    "# assert stats[(Systems.LVS, Objects.ZU)] > 0\n",
    "\n",
    "print('all ASU/LVS tests is complete')"
   ],
   "metadata": {
    "collapsed": false,
    "pycharm": {
     "name": "#%%\n"
    }
   }
  },
  {
   "cell_type": "markdown",
   "source": [
    "VOLS test"
   ],
   "metadata": {
    "collapsed": false
   }
  },
  {
   "cell_type": "code",
   "execution_count": null,
   "outputs": [],
   "source": [
    "assert stats[(Systems.VOLS, Objects.ZU)] > 0\n",
    "assert stats[(Systems.VOLS, Objects.PS360)] > 0\n",
    "assert stats[(Systems.VOLS, Objects.S2)] > 0\n",
    "assert stats[(Systems.VOLS, Objects.S1)] > 0\n",
    "\n",
    "print('all VOLS tests is complete')"
   ],
   "metadata": {
    "collapsed": false,
    "pycharm": {
     "name": "#%%\n"
    }
   }
  },
  {
   "cell_type": "markdown",
   "source": [
    "TK test"
   ],
   "metadata": {
    "collapsed": false
   }
  },
  {
   "cell_type": "code",
   "execution_count": null,
   "outputs": [],
   "source": [
    "assert stats[(Systems.TK, Objects.ZU)] > 0\n",
    "assert stats[(Systems.TK, Objects.PS360)] > 0\n",
    "assert stats[(Systems.TK, Objects.S2)] > 0\n",
    "assert stats[(Systems.TK, Objects.S1)] > 0\n",
    "\n",
    "print('all TK tests is complete')"
   ],
   "metadata": {
    "collapsed": false,
    "pycharm": {
     "name": "#%%\n"
    }
   }
  },
  {
   "cell_type": "markdown",
   "source": [
    "ASKUE test"
   ],
   "metadata": {
    "collapsed": false
   }
  },
  {
   "cell_type": "code",
   "execution_count": null,
   "outputs": [],
   "source": [
    "assert stats[(Systems.ASKUE, Objects.ZU)] > 0\n",
    "assert stats[(Systems.ASKUE, Objects.PS360)] > 0\n",
    "# assert stats[(Systems.ASKUE, Objects.PS223)] > 0\n",
    "assert stats[(Systems.ASKUE, Objects.S2)] > 0\n",
    "assert stats[(Systems.ASKUE, Objects.S1)] > 0\n",
    "\n",
    "print('all ASKUE tests is complete')"
   ],
   "metadata": {
    "collapsed": false,
    "pycharm": {
     "name": "#%%\n"
    }
   }
  },
  {
   "cell_type": "markdown",
   "source": [
    "TECH_REG test"
   ],
   "metadata": {
    "collapsed": false
   }
  },
  {
   "cell_type": "code",
   "execution_count": null,
   "outputs": [],
   "source": [
    "assert stats[(Systems.TECH_REG, Objects.PS360)] > 0\n",
    "assert stats[(Systems.TECH_REG, Objects.S2)] > 0\n",
    "assert stats[(Systems.TECH_REG, Objects.S1)] > 0\n",
    "print('all TECH_REG tests is complete')"
   ],
   "metadata": {
    "collapsed": false,
    "pycharm": {
     "name": "#%%\n"
    }
   }
  },
  {
   "cell_type": "markdown",
   "source": [
    "# Plans generator"
   ],
   "metadata": {
    "collapsed": false
   }
  },
  {
   "cell_type": "code",
   "execution_count": null,
   "outputs": [],
   "source": [
    "make_xlsx_from_jobs(jobs)"
   ],
   "metadata": {
    "collapsed": false,
    "pycharm": {
     "name": "#%%\n"
    }
   }
  },
  {
   "cell_type": "markdown",
   "source": [
    "# Journals generator"
   ],
   "metadata": {
    "collapsed": false
   }
  },
  {
   "cell_type": "code",
   "execution_count": null,
   "outputs": [],
   "source": [
    "from journal import Journal, JournalASU, JournalASKUE, jobs_to_df, batch_journal_generator\n",
    "from config_journals import batch_ASU_journals, batch_ASKUE_journals\n",
    "print('import complete')"
   ],
   "metadata": {
    "collapsed": false,
    "pycharm": {
     "name": "#%%\n"
    }
   }
  },
  {
   "cell_type": "markdown",
   "source": [
    "генерация датафрейма"
   ],
   "metadata": {
    "collapsed": false,
    "pycharm": {
     "name": "#%% md\n"
    }
   }
  },
  {
   "cell_type": "code",
   "execution_count": null,
   "outputs": [],
   "source": [
    "df_jobs = jobs_to_df(jobs)\n",
    "print('ok')"
   ],
   "metadata": {
    "collapsed": false,
    "pycharm": {
     "name": "#%%\n"
    }
   }
  },
  {
   "cell_type": "markdown",
   "source": [
    "генерация журналов АСУ"
   ],
   "metadata": {
    "collapsed": false,
    "pycharm": {
     "name": "#%% md\n"
    }
   }
  },
  {
   "cell_type": "code",
   "execution_count": null,
   "outputs": [],
   "source": [
    "batch_journal_generator(df_jobs, JournalASU, batch_ASU_journals)"
   ],
   "metadata": {
    "collapsed": false,
    "pycharm": {
     "name": "#%%\n"
    }
   }
  },
  {
   "cell_type": "markdown",
   "source": [
    "генерация журналов АИИСКУЕ"
   ],
   "metadata": {
    "collapsed": false
   }
  },
  {
   "cell_type": "code",
   "execution_count": null,
   "outputs": [],
   "source": [
    "batch_journal_generator(df_jobs, JournalASKUE, batch_ASKUE_journals)"
   ],
   "metadata": {
    "collapsed": false,
    "pycharm": {
     "name": "#%%\n"
    }
   }
  },
  {
   "cell_type": "markdown",
   "source": [
    "## calendars"
   ],
   "metadata": {
    "collapsed": false,
    "pycharm": {
     "name": "#%% md\n"
    }
   }
  },
  {
   "cell_type": "code",
   "execution_count": null,
   "outputs": [],
   "source": [
    "from work_calendar import batch_make_calendars\n",
    "\n",
    "batch_make_calendars(df_jobs)"
   ],
   "metadata": {
    "collapsed": false,
    "pycharm": {
     "name": "#%%\n"
    }
   }
  },
  {
   "cell_type": "markdown",
   "source": [
    "## email sending"
   ],
   "metadata": {
    "collapsed": false
   }
  },
  {
   "cell_type": "code",
   "execution_count": null,
   "outputs": [],
   "source": [
    "import config_email, email_processing\n",
    "import os\n",
    "from application import get_xlsx_files\n"
   ],
   "metadata": {
    "collapsed": false,
    "pycharm": {
     "name": "#%%\n"
    }
   }
  },
  {
   "cell_type": "code",
   "execution_count": null,
   "outputs": [],
   "source": [
    "email_processing.send_journals(config_email.batch_sending_journals, \n",
    "                               attachment_folder=r'./output data/journals/', \n",
    "                               mail_subj='журналы работ', \n",
    "                               add_month_to_subj= True, test_mod=False)"
   ],
   "metadata": {
    "collapsed": false,
    "pycharm": {
     "name": "#%%\n"
    }
   }
  },
  {
   "cell_type": "code",
   "execution_count": null,
   "outputs": [],
   "source": [
    "email_processing.send_journals(config_email.batch_sending_plans, \n",
    "                               attachment_folder=r'./output data/plans/', \n",
    "                               mail_subj='планы работ', \n",
    "                               add_month_to_subj= True, test_mod=False)"
   ],
   "metadata": {
    "collapsed": false,
    "pycharm": {
     "name": "#%%\n"
    }
   }
  },
  {
   "cell_type": "code",
   "execution_count": null,
   "outputs": [],
   "source": [
    "email_processing.send_journals(config_email.batch_sending_calendars, \n",
    "                               attachment_folder=r'./output data/calendars/', \n",
    "                               mail_subj='календарь работ', \n",
    "                               add_month_to_subj= True, test_mod=False)\n"
   ],
   "metadata": {
    "collapsed": false,
    "pycharm": {
     "name": "#%%\n"
    }
   }
  },
  {
   "cell_type": "markdown",
   "source": [
    "# Sandbox"
   ],
   "metadata": {
    "collapsed": false,
    "pycharm": {
     "name": "#%% md\n"
    }
   }
  },
  {
   "cell_type": "code",
   "execution_count": null,
   "outputs": [],
   "source": [
    "\n",
    "\n"
   ],
   "metadata": {
    "collapsed": false,
    "pycharm": {
     "name": "#%%\n"
    }
   }
  }
 ],
 "metadata": {
  "language_info": {
   "codemirror_mode": {
    "name": "ipython",
    "version": 2
   },
   "file_extension": ".py",
   "mimetype": "text/x-python",
   "name": "python",
   "nbconvert_exporter": "python",
   "pygments_lexer": "ipython2",
   "version": "2.7.6"
  },
  "kernelspec": {
   "name": "python3",
   "language": "python",
   "display_name": "Python 3"
  }
 },
 "nbformat": 4,
 "nbformat_minor": 0
}