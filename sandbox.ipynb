{
 "cells": [
  {
   "cell_type": "markdown",
   "source": [
    "# Init & parsing\n"
   ],
   "metadata": {
    "collapsed": false
   }
  },
  {
   "cell_type": "code",
   "execution_count": 14,
   "metadata": {
    "collapsed": true,
    "pycharm": {
     "is_executing": false
    }
   },
   "outputs": [],
   "source": [
    "from collections import Counter\n",
    "from application import *\n",
    "from pre_processing import Job, Systems, Objects \n",
    "import statistics\n",
    "import numpy as np\n",
    "import matplotlib.pyplot as plt\n",
    "from journal import Journal, JournalASU, jobs_to_df\n",
    "%matplotlib inline\n",
    "\n",
    "%load_ext autoreload\n",
    "%autoreload 2"
   ]
  },
  {
   "cell_type": "code",
   "execution_count": 15,
   "outputs": [
    {
     "name": "stdout",
     "text": [
      "folder: .\\input data\\2\n",
      "247\n"
     ],
     "output_type": "stream"
    }
   ],
   "source": [
    "jobs = []\n",
    "# jobs.extend(process_files(r'.\\input data\\1', all_visible_sheets, works_parser.ParserSake))\n",
    "jobs.extend(process_files(r'.\\input data\\2', all_visible_sheets, works_parser.ParserSake)) # ASU\n",
    "# jobs.extend(process_files(r'.\\input data\\АСУ', find_sheets_asu, works_parser.ParserAsu))\n",
    "# jobs.extend(process_files(r'.\\input data\\ВОЛС', all_visible_sheets, works_parser.ParserVols))\n",
    "# jobs.extend(process_files(r'.\\input data\\Телеканал', find_sheets_vols, works_parser.ParserTk))\n",
    "# jobs.extend(process_files(r'.\\input data\\АИИСКУЭ', find_sheets_vols, works_parser.ParserAskueSake))\n",
    "# jobs.extend(process_files(r'.\\input data\\АИИСКУЭ', find_sheets_vols, works_parser.ParserAskue))\n",
    "# jobs.extend(process_files(r'.\\input data\\Тех.учет', find_sheets_vols, works_parser.ParserTechReg))\n",
    "print(len(jobs))"
   ],
   "metadata": {
    "collapsed": false,
    "pycharm": {
     "name": "#%%\n",
     "is_executing": false
    }
   }
  },
  {
   "cell_type": "code",
   "execution_count": 16,
   "outputs": [],
   "source": [
    "stats = Counter((j.system, j.object)for j in jobs)    \n",
    "# print(stats)"
   ],
   "metadata": {
    "collapsed": false,
    "pycharm": {
     "name": "#%%\n",
     "is_executing": false
    }
   }
  },
  {
   "cell_type": "code",
   "execution_count": 17,
   "outputs": [
    {
     "data": {
      "text/plain": "<Figure size 432x288 with 2 Axes>",
      "image/png": "[encoded data removed]"
     },
     "metadata": {
      "needs_background": "light"
     },
     "output_type": "display_data"
    }
   ],
   "source": [
    "statistics.visualize_statistics(stats)"
   ],
   "metadata": {
    "collapsed": false,
    "pycharm": {
     "name": "#%%\n",
     "is_executing": false
    }
   }
  },
  {
   "cell_type": "code",
   "execution_count": 5,
   "outputs": [],
   "source": [
    "for (xlabel, ylabel), count in stats.items():\n",
    "    print(f'{str(xlabel).ljust(17)}, {str(ylabel).ljust(15)} - {str(count).ljust(5)}')"
   ],
   "metadata": {
    "collapsed": false,
    "pycharm": {
     "name": "#%%\n",
     "is_executing": false
    }
   }
  },
  {
   "cell_type": "markdown",
   "source": [
    "# Tests"
   ],
   "metadata": {
    "collapsed": false
   }
  },
  {
   "cell_type": "markdown",
   "source": [
    "ASU test"
   ],
   "metadata": {
    "collapsed": false
   }
  },
  {
   "cell_type": "code",
   "execution_count": 6,
   "outputs": [],
   "source": [
    "assert stats[(Systems.ASU_TP, Objects.S1)] > 0\n",
    "assert stats[(Systems.ASU_TP, Objects.S2)] > 0\n",
    "assert stats[(Systems.ASU_TP, Objects.V1)] > 0\n",
    "assert stats[(Systems.ASU_TP, Objects.V2)] > 0\n",
    "assert stats[(Systems.ASU_TP, Objects.V3)] > 0\n",
    "assert stats[(Systems.ASU_TP, Objects.V4)] > 0\n",
    "assert stats[(Systems.ASU_TP, Objects.V5)] > 0\n",
    "assert stats[(Systems.ASU_TP, Objects.V6)] > 0\n",
    "assert stats[(Systems.ASU_TP, Objects.ZU)] > 0\n",
    "\n",
    "assert stats[(Systems.ASU_I, Objects.S1)] > 0\n",
    "assert stats[(Systems.ASU_I, Objects.S2)] > 0\n",
    "assert stats[(Systems.ASU_I, Objects.ZU)] > 0\n",
    "\n",
    "assert stats[(Systems.ASU_AM, Objects.S2)] > 0\n",
    "\n",
    "assert stats[(Systems.LVS, Objects.S1)] > 0\n",
    "assert stats[(Systems.LVS, Objects.S2)] > 0\n",
    "assert stats[(Systems.LVS, Objects.V1)] > 0\n",
    "assert stats[(Systems.LVS, Objects.V2)] > 0\n",
    "assert stats[(Systems.LVS, Objects.V3)] > 0\n",
    "assert stats[(Systems.LVS, Objects.V4)] > 0\n",
    "assert stats[(Systems.LVS, Objects.V5)] > 0\n",
    "assert stats[(Systems.LVS, Objects.V6)] > 0\n",
    "assert stats[(Systems.LVS, Objects.ZU)] > 0\n",
    "\n",
    "print('all ASU/LVS tests is complete')"
   ],
   "metadata": {
    "collapsed": false,
    "pycharm": {
     "name": "#%%\n",
     "is_executing": false
    }
   }
  },
  {
   "cell_type": "markdown",
   "source": [
    "VOLS test"
   ],
   "metadata": {
    "collapsed": false
   }
  },
  {
   "cell_type": "code",
   "execution_count": 9,
   "outputs": [],
   "source": [
    "assert stats[(Systems.VOLS, Objects.ZU)] > 0\n",
    "assert stats[(Systems.VOLS, Objects.PS360)] > 0\n",
    "assert stats[(Systems.VOLS, Objects.S2)] > 0\n",
    "assert stats[(Systems.VOLS, Objects.S1)] > 0\n",
    "\n",
    "print('all VOLS tests is complete')"
   ],
   "metadata": {
    "collapsed": false,
    "pycharm": {
     "name": "#%%\n",
     "is_executing": false
    }
   }
  },
  {
   "cell_type": "markdown",
   "source": [
    "TK test"
   ],
   "metadata": {
    "collapsed": false
   }
  },
  {
   "cell_type": "code",
   "execution_count": 10,
   "outputs": [],
   "source": [
    "assert stats[(Systems.TK, Objects.ZU)] > 0\n",
    "assert stats[(Systems.TK, Objects.PS360)] > 0\n",
    "assert stats[(Systems.TK, Objects.S2)] > 0\n",
    "assert stats[(Systems.TK, Objects.S1)] > 0\n",
    "\n",
    "print('all TK tests is complete')"
   ],
   "metadata": {
    "collapsed": false,
    "pycharm": {
     "name": "#%%\n",
     "is_executing": false
    }
   }
  },
  {
   "cell_type": "markdown",
   "source": [
    "ASKUE test"
   ],
   "metadata": {
    "collapsed": false
   }
  },
  {
   "cell_type": "code",
   "execution_count": 11,
   "outputs": [],
   "source": [
    "assert stats[(Systems.ASKUE, Objects.ZU)] > 0\n",
    "assert stats[(Systems.ASKUE, Objects.PS360)] > 0\n",
    "# assert stats[(Systems.ASKUE, Objects.PS223)] > 0\n",
    "assert stats[(Systems.ASKUE, Objects.S2)] > 0\n",
    "assert stats[(Systems.ASKUE, Objects.S1)] > 0\n",
    "\n",
    "print('all ASKUE tests is complete')"
   ],
   "metadata": {
    "collapsed": false,
    "pycharm": {
     "name": "#%%\n",
     "is_executing": false
    }
   }
  },
  {
   "cell_type": "markdown",
   "source": [
    "TECH_REG test"
   ],
   "metadata": {
    "collapsed": false
   }
  },
  {
   "cell_type": "code",
   "execution_count": 12,
   "outputs": [],
   "source": [
    "assert stats[(Systems.TECH_REG, Objects.PS360)] > 0\n",
    "assert stats[(Systems.TECH_REG, Objects.S2)] > 0\n",
    "assert stats[(Systems.TECH_REG, Objects.S1)] > 0\n",
    "\n",
    "print('all TECH_REG tests is complete')"
   ],
   "metadata": {
    "collapsed": false,
    "pycharm": {
     "name": "#%%\n",
     "is_executing": false
    }
   }
  },
  {
   "cell_type": "markdown",
   "source": [
    "# Sandbox"
   ],
   "metadata": {
    "collapsed": false
   }
  },
  {
   "cell_type": "code",
   "execution_count": 18,
   "outputs": [],
   "source": [
    "import pandas as pd\n",
    "from pre_processing import Systems, Objects"
   ],
   "metadata": {
    "collapsed": false,
    "pycharm": {
     "name": "#%%\n",
     "is_executing": false
    }
   }
  },
  {
   "cell_type": "code",
   "execution_count": 19,
   "outputs": [],
   "source": [
    "df_jobs = jobs_to_df(jobs)\n"
   ],
   "metadata": {
    "collapsed": false,
    "pycharm": {
     "name": "#%%\n",
     "is_executing": false
    }
   }
  },
  {
   "cell_type": "code",
   "execution_count": 20,
   "outputs": [],
   "source": [
    "from journal import Journal, JournalASU, jobs_to_df, batch_journal_generator\n",
    "from config_journals import batch_ASU_journals"
   ],
   "metadata": {
    "collapsed": false,
    "pycharm": {
     "name": "#%%\n",
     "is_executing": false
    }
   }
  },
  {
   "cell_type": "code",
   "execution_count": 24,
   "outputs": [
    {
     "data": {
      "text/plain": "           date  place work_type                                  tech_map  \\\n72   2020-02-01  С1 Юг       ЕТО  Технологическая карта 01/ИС/С1Ю/2/2/2016   \n73   2020-02-02  С1 Юг       ЕТО  Технологическая карта 01/ИС/С1Ю/2/2/2016   \n74   2020-02-03  С1 Юг       ЕТО  Технологическая карта 01/ИС/С1Ю/2/2/2016   \n75   2020-02-04  С1 Юг       ЕТО  Технологическая карта 01/ИС/С1Ю/2/2/2016   \n76   2020-02-05  С1 Юг       ЕТО  Технологическая карта 01/ИС/С1Ю/2/2/2016   \n101  2020-02-05  С1 Юг       ТО1  Технологическая карта 02/ИС/С1Ю/2/2/2016   \n77   2020-02-06  С1 Юг       ЕТО  Технологическая карта 01/ИС/С1Ю/2/2/2016   \n78   2020-02-07  С1 Юг       ЕТО  Технологическая карта 01/ИС/С1Ю/2/2/2016   \n79   2020-02-08  С1 Юг       ЕТО  Технологическая карта 01/ИС/С1Ю/2/2/2016   \n80   2020-02-09  С1 Юг       ЕТО  Технологическая карта 01/ИС/С1Ю/2/2/2016   \n81   2020-02-10  С1 Юг       ЕТО  Технологическая карта 01/ИС/С1Ю/2/2/2016   \n82   2020-02-11  С1 Юг       ЕТО  Технологическая карта 01/ИС/С1Ю/2/2/2016   \n83   2020-02-12  С1 Юг       ЕТО  Технологическая карта 01/ИС/С1Ю/2/2/2016   \n102  2020-02-12  С1 Юг       ТО1  Технологическая карта 02/ИС/С1Ю/2/2/2016   \n84   2020-02-13  С1 Юг       ЕТО  Технологическая карта 01/ИС/С1Ю/2/2/2016   \n85   2020-02-14  С1 Юг       ЕТО  Технологическая карта 01/ИС/С1Ю/2/2/2016   \n86   2020-02-15  С1 Юг       ЕТО  Технологическая карта 01/ИС/С1Ю/2/2/2016   \n87   2020-02-16  С1 Юг       ЕТО  Технологическая карта 01/ИС/С1Ю/2/2/2016   \n88   2020-02-17  С1 Юг       ЕТО  Технологическая карта 01/ИС/С1Ю/2/2/2016   \n89   2020-02-18  С1 Юг       ЕТО  Технологическая карта 01/ИС/С1Ю/2/2/2016   \n90   2020-02-19  С1 Юг       ЕТО  Технологическая карта 01/ИС/С1Ю/2/2/2016   \n103  2020-02-19  С1 Юг       ТО1  Технологическая карта 02/ИС/С1Ю/2/2/2016   \n91   2020-02-20  С1 Юг       ЕТО  Технологическая карта 01/ИС/С1Ю/2/2/2016   \n105  2020-02-20  С1 Юг       ТО2  Технологическая карта 03/ИС/С1Ю/3/2/2016   \n92   2020-02-21  С1 Юг       ЕТО  Технологическая карта 01/ИС/С1Ю/2/2/2016   \n93   2020-02-22  С1 Юг       ЕТО  Технологическая карта 01/ИС/С1Ю/2/2/2016   \n94   2020-02-23  С1 Юг       ЕТО  Технологическая карта 01/ИС/С1Ю/2/2/2016   \n95   2020-02-24  С1 Юг       ЕТО  Технологическая карта 01/ИС/С1Ю/2/2/2016   \n96   2020-02-25  С1 Юг       ЕТО  Технологическая карта 01/ИС/С1Ю/2/2/2016   \n97   2020-02-26  С1 Юг       ЕТО  Технологическая карта 01/ИС/С1Ю/2/2/2016   \n104  2020-02-26  С1 Юг       ТО1  Технологическая карта 02/ИС/С1Ю/2/2/2016   \n98   2020-02-27  С1 Юг       ЕТО  Технологическая карта 01/ИС/С1Ю/2/2/2016   \n99   2020-02-28  С1 Юг       ЕТО  Технологическая карта 01/ИС/С1Ю/2/2/2016   \n100  2020-02-29  С1 Юг       ЕТО  Технологическая карта 01/ИС/С1Ю/2/2/2016   \n\n      performer  \n72      Макаров  \n73        Ильин  \n74        Гусев  \n75    Харитонов  \n76    Харитонов  \n101   Харитонов  \n77    Харитонов  \n78    Харитонов  \n79   Подольский  \n80      Макаров  \n81    Харитонов  \n82    Харитонов  \n83        Гусев  \n102       Гусев  \n84        Гусев  \n85        Гусев  \n86      Каприца  \n87     Кушмылев  \n88    Харитонов  \n89    Харитонов  \n90    Харитонов  \n103   Харитонов  \n91        Гусев  \n105       Гусев  \n92        Гусев  \n93      Санжара  \n94        Мулин  \n95      Макаров  \n96        Гусев  \n97    Харитонов  \n104   Харитонов  \n98    Харитонов  \n99    Харитонов  \n100    Кушмылев  ",
      "text/html": "<div>\n<style scoped>\n    .dataframe tbody tr th:only-of-type {\n        vertical-align: middle;\n    }\n\n    .dataframe tbody tr th {\n        vertical-align: top;\n    }\n\n    .dataframe thead th {\n        text-align: right;\n    }\n</style>\n<table border=\"1\" class=\"dataframe\">\n  <thead>\n    <tr style=\"text-align: right;\">\n      <th></th>\n      <th>date</th>\n      <th>place</th>\n      <th>work_type</th>\n      <th>tech_map</th>\n      <th>performer</th>\n    </tr>\n  </thead>\n  <tbody>\n    <tr>\n      <td>72</td>\n      <td>2020-02-01</td>\n      <td>С1 Юг</td>\n      <td>ЕТО</td>\n      <td>Технологическая карта 01/ИС/С1Ю/2/2/2016</td>\n      <td>Макаров</td>\n    </tr>\n    <tr>\n      <td>73</td>\n      <td>2020-02-02</td>\n      <td>С1 Юг</td>\n      <td>ЕТО</td>\n      <td>Технологическая карта 01/ИС/С1Ю/2/2/2016</td>\n      <td>Ильин</td>\n    </tr>\n    <tr>\n      <td>74</td>\n      <td>2020-02-03</td>\n      <td>С1 Юг</td>\n      <td>ЕТО</td>\n      <td>Технологическая карта 01/ИС/С1Ю/2/2/2016</td>\n      <td>Гусев</td>\n    </tr>\n    <tr>\n      <td>75</td>\n      <td>2020-02-04</td>\n      <td>С1 Юг</td>\n      <td>ЕТО</td>\n      <td>Технологическая карта 01/ИС/С1Ю/2/2/2016</td>\n      <td>Харитонов</td>\n    </tr>\n    <tr>\n      <td>76</td>\n      <td>2020-02-05</td>\n      <td>С1 Юг</td>\n      <td>ЕТО</td>\n      <td>Технологическая карта 01/ИС/С1Ю/2/2/2016</td>\n      <td>Харитонов</td>\n    </tr>\n    <tr>\n      <td>101</td>\n      <td>2020-02-05</td>\n      <td>С1 Юг</td>\n      <td>ТО1</td>\n      <td>Технологическая карта 02/ИС/С1Ю/2/2/2016</td>\n      <td>Харитонов</td>\n    </tr>\n    <tr>\n      <td>77</td>\n      <td>2020-02-06</td>\n      <td>С1 Юг</td>\n      <td>ЕТО</td>\n      <td>Технологическая карта 01/ИС/С1Ю/2/2/2016</td>\n      <td>Харитонов</td>\n    </tr>\n    <tr>\n      <td>78</td>\n      <td>2020-02-07</td>\n      <td>С1 Юг</td>\n      <td>ЕТО</td>\n      <td>Технологическая карта 01/ИС/С1Ю/2/2/2016</td>\n      <td>Харитонов</td>\n    </tr>\n    <tr>\n      <td>79</td>\n      <td>2020-02-08</td>\n      <td>С1 Юг</td>\n      <td>ЕТО</td>\n      <td>Технологическая карта 01/ИС/С1Ю/2/2/2016</td>\n      <td>Подольский</td>\n    </tr>\n    <tr>\n      <td>80</td>\n      <td>2020-02-09</td>\n      <td>С1 Юг</td>\n      <td>ЕТО</td>\n      <td>Технологическая карта 01/ИС/С1Ю/2/2/2016</td>\n      <td>Макаров</td>\n    </tr>\n    <tr>\n      <td>81</td>\n      <td>2020-02-10</td>\n      <td>С1 Юг</td>\n      <td>ЕТО</td>\n      <td>Технологическая карта 01/ИС/С1Ю/2/2/2016</td>\n      <td>Харитонов</td>\n    </tr>\n    <tr>\n      <td>82</td>\n      <td>2020-02-11</td>\n      <td>С1 Юг</td>\n      <td>ЕТО</td>\n      <td>Технологическая карта 01/ИС/С1Ю/2/2/2016</td>\n      <td>Харитонов</td>\n    </tr>\n    <tr>\n      <td>83</td>\n      <td>2020-02-12</td>\n      <td>С1 Юг</td>\n      <td>ЕТО</td>\n      <td>Технологическая карта 01/ИС/С1Ю/2/2/2016</td>\n      <td>Гусев</td>\n    </tr>\n    <tr>\n      <td>102</td>\n      <td>2020-02-12</td>\n      <td>С1 Юг</td>\n      <td>ТО1</td>\n      <td>Технологическая карта 02/ИС/С1Ю/2/2/2016</td>\n      <td>Гусев</td>\n    </tr>\n    <tr>\n      <td>84</td>\n      <td>2020-02-13</td>\n      <td>С1 Юг</td>\n      <td>ЕТО</td>\n      <td>Технологическая карта 01/ИС/С1Ю/2/2/2016</td>\n      <td>Гусев</td>\n    </tr>\n    <tr>\n      <td>85</td>\n      <td>2020-02-14</td>\n      <td>С1 Юг</td>\n      <td>ЕТО</td>\n      <td>Технологическая карта 01/ИС/С1Ю/2/2/2016</td>\n      <td>Гусев</td>\n    </tr>\n    <tr>\n      <td>86</td>\n      <td>2020-02-15</td>\n      <td>С1 Юг</td>\n      <td>ЕТО</td>\n      <td>Технологическая карта 01/ИС/С1Ю/2/2/2016</td>\n      <td>Каприца</td>\n    </tr>\n    <tr>\n      <td>87</td>\n      <td>2020-02-16</td>\n      <td>С1 Юг</td>\n      <td>ЕТО</td>\n      <td>Технологическая карта 01/ИС/С1Ю/2/2/2016</td>\n      <td>Кушмылев</td>\n    </tr>\n    <tr>\n      <td>88</td>\n      <td>2020-02-17</td>\n      <td>С1 Юг</td>\n      <td>ЕТО</td>\n      <td>Технологическая карта 01/ИС/С1Ю/2/2/2016</td>\n      <td>Харитонов</td>\n    </tr>\n    <tr>\n      <td>89</td>\n      <td>2020-02-18</td>\n      <td>С1 Юг</td>\n      <td>ЕТО</td>\n      <td>Технологическая карта 01/ИС/С1Ю/2/2/2016</td>\n      <td>Харитонов</td>\n    </tr>\n    <tr>\n      <td>90</td>\n      <td>2020-02-19</td>\n      <td>С1 Юг</td>\n      <td>ЕТО</td>\n      <td>Технологическая карта 01/ИС/С1Ю/2/2/2016</td>\n      <td>Харитонов</td>\n    </tr>\n    <tr>\n      <td>103</td>\n      <td>2020-02-19</td>\n      <td>С1 Юг</td>\n      <td>ТО1</td>\n      <td>Технологическая карта 02/ИС/С1Ю/2/2/2016</td>\n      <td>Харитонов</td>\n    </tr>\n    <tr>\n      <td>91</td>\n      <td>2020-02-20</td>\n      <td>С1 Юг</td>\n      <td>ЕТО</td>\n      <td>Технологическая карта 01/ИС/С1Ю/2/2/2016</td>\n      <td>Гусев</td>\n    </tr>\n    <tr>\n      <td>105</td>\n      <td>2020-02-20</td>\n      <td>С1 Юг</td>\n      <td>ТО2</td>\n      <td>Технологическая карта 03/ИС/С1Ю/3/2/2016</td>\n      <td>Гусев</td>\n    </tr>\n    <tr>\n      <td>92</td>\n      <td>2020-02-21</td>\n      <td>С1 Юг</td>\n      <td>ЕТО</td>\n      <td>Технологическая карта 01/ИС/С1Ю/2/2/2016</td>\n      <td>Гусев</td>\n    </tr>\n    <tr>\n      <td>93</td>\n      <td>2020-02-22</td>\n      <td>С1 Юг</td>\n      <td>ЕТО</td>\n      <td>Технологическая карта 01/ИС/С1Ю/2/2/2016</td>\n      <td>Санжара</td>\n    </tr>\n    <tr>\n      <td>94</td>\n      <td>2020-02-23</td>\n      <td>С1 Юг</td>\n      <td>ЕТО</td>\n      <td>Технологическая карта 01/ИС/С1Ю/2/2/2016</td>\n      <td>Мулин</td>\n    </tr>\n    <tr>\n      <td>95</td>\n      <td>2020-02-24</td>\n      <td>С1 Юг</td>\n      <td>ЕТО</td>\n      <td>Технологическая карта 01/ИС/С1Ю/2/2/2016</td>\n      <td>Макаров</td>\n    </tr>\n    <tr>\n      <td>96</td>\n      <td>2020-02-25</td>\n      <td>С1 Юг</td>\n      <td>ЕТО</td>\n      <td>Технологическая карта 01/ИС/С1Ю/2/2/2016</td>\n      <td>Гусев</td>\n    </tr>\n    <tr>\n      <td>97</td>\n      <td>2020-02-26</td>\n      <td>С1 Юг</td>\n      <td>ЕТО</td>\n      <td>Технологическая карта 01/ИС/С1Ю/2/2/2016</td>\n      <td>Харитонов</td>\n    </tr>\n    <tr>\n      <td>104</td>\n      <td>2020-02-26</td>\n      <td>С1 Юг</td>\n      <td>ТО1</td>\n      <td>Технологическая карта 02/ИС/С1Ю/2/2/2016</td>\n      <td>Харитонов</td>\n    </tr>\n    <tr>\n      <td>98</td>\n      <td>2020-02-27</td>\n      <td>С1 Юг</td>\n      <td>ЕТО</td>\n      <td>Технологическая карта 01/ИС/С1Ю/2/2/2016</td>\n      <td>Харитонов</td>\n    </tr>\n    <tr>\n      <td>99</td>\n      <td>2020-02-28</td>\n      <td>С1 Юг</td>\n      <td>ЕТО</td>\n      <td>Технологическая карта 01/ИС/С1Ю/2/2/2016</td>\n      <td>Харитонов</td>\n    </tr>\n    <tr>\n      <td>100</td>\n      <td>2020-02-29</td>\n      <td>С1 Юг</td>\n      <td>ЕТО</td>\n      <td>Технологическая карта 01/ИС/С1Ю/2/2/2016</td>\n      <td>Кушмылев</td>\n    </tr>\n  </tbody>\n</table>\n</div>"
     },
     "metadata": {},
     "output_type": "execute_result",
     "execution_count": 24
    }
   ],
   "source": [
    "j1 = JournalASU(df_jobs)\n",
    "j1.make_journal(Systems.ASU_I, Objects.S1 , 'Юг')\n",
    "j1.journal\n",
    "# j1.save_journal('test')"
   ],
   "metadata": {
    "collapsed": false,
    "pycharm": {
     "name": "#%%\n",
     "is_executing": false
    }
   }
  },
  {
   "cell_type": "code",
   "execution_count": 25,
   "outputs": [
    {
     "traceback": [
      "\u001b[1;31m---------------------------------------------------------------------------\u001b[0m",
      "\u001b[1;31mTypeError\u001b[0m                                 Traceback (most recent call last)",
      "\u001b[1;32m<ipython-input-25-ed44e753cb60>\u001b[0m in \u001b[0;36m<module>\u001b[1;34m\u001b[0m\n\u001b[1;32m----> 1\u001b[1;33m \u001b[0mbatch_journal_generator\u001b[0m\u001b[1;33m(\u001b[0m\u001b[0mdf_jobs\u001b[0m\u001b[1;33m,\u001b[0m \u001b[0mJournalASU\u001b[0m\u001b[1;33m,\u001b[0m \u001b[0mbatch_ASU_journals\u001b[0m\u001b[1;33m)\u001b[0m\u001b[1;33m\u001b[0m\u001b[1;33m\u001b[0m\u001b[0m\n\u001b[0m\u001b[0;32m      2\u001b[0m \u001b[1;33m\u001b[0m\u001b[0m\n\u001b[0;32m      3\u001b[0m \u001b[1;33m\u001b[0m\u001b[0m\n",
      "\u001b[1;32m~\\PycharmProjects\\Work plan generator\\journal.py\u001b[0m in \u001b[0;36mbatch_journal_generator\u001b[1;34m(jobs_df, journal_class, config, return_journals, save_journals)\u001b[0m\n\u001b[0;32m     68\u001b[0m         \u001b[0msys\u001b[0m\u001b[1;33m,\u001b[0m \u001b[0mobj\u001b[0m\u001b[1;33m,\u001b[0m \u001b[0mplace_filter\u001b[0m \u001b[1;33m=\u001b[0m \u001b[0mconf\u001b[0m\u001b[1;33m\u001b[0m\u001b[1;33m\u001b[0m\u001b[0m\n\u001b[0;32m     69\u001b[0m         \u001b[0mj\u001b[0m \u001b[1;33m=\u001b[0m \u001b[0mjournal_class\u001b[0m\u001b[1;33m(\u001b[0m\u001b[0mjobs_df\u001b[0m\u001b[1;33m)\u001b[0m\u001b[1;33m\u001b[0m\u001b[1;33m\u001b[0m\u001b[0m\n\u001b[1;32m---> 70\u001b[1;33m         \u001b[0mj\u001b[0m\u001b[1;33m.\u001b[0m\u001b[0mmake_journal\u001b[0m\u001b[1;33m(\u001b[0m\u001b[0msys\u001b[0m\u001b[1;33m,\u001b[0m \u001b[0mobj\u001b[0m\u001b[1;33m,\u001b[0m \u001b[0mplace_filter\u001b[0m\u001b[1;33m)\u001b[0m\u001b[1;33m\u001b[0m\u001b[1;33m\u001b[0m\u001b[0m\n\u001b[0m\u001b[0;32m     71\u001b[0m         \u001b[1;32mif\u001b[0m \u001b[0mreturn_journals\u001b[0m\u001b[1;33m:\u001b[0m\u001b[1;33m\u001b[0m\u001b[1;33m\u001b[0m\u001b[0m\n\u001b[0;32m     72\u001b[0m             \u001b[0mjournals\u001b[0m\u001b[1;33m[\u001b[0m\u001b[0mname\u001b[0m\u001b[1;33m]\u001b[0m \u001b[1;33m=\u001b[0m \u001b[0mj\u001b[0m\u001b[1;33m\u001b[0m\u001b[1;33m\u001b[0m\u001b[0m\n",
      "\u001b[1;32m~\\PycharmProjects\\Work plan generator\\journal.py\u001b[0m in \u001b[0;36mmake_journal\u001b[1;34m(self, sys, obj, place_filter)\u001b[0m\n\u001b[0;32m     54\u001b[0m \u001b[1;33m\u001b[0m\u001b[0m\n\u001b[0;32m     55\u001b[0m         \u001b[1;32mif\u001b[0m \u001b[0mplace_filter\u001b[0m\u001b[1;33m:\u001b[0m\u001b[1;33m\u001b[0m\u001b[1;33m\u001b[0m\u001b[0m\n\u001b[1;32m---> 56\u001b[1;33m             \u001b[0mjournal\u001b[0m \u001b[1;33m=\u001b[0m \u001b[0mjournal\u001b[0m\u001b[1;33m[\u001b[0m\u001b[0mjournal\u001b[0m\u001b[1;33m.\u001b[0m\u001b[0mplace\u001b[0m\u001b[1;33m.\u001b[0m\u001b[0mstr\u001b[0m\u001b[1;33m.\u001b[0m\u001b[0mcontains\u001b[0m\u001b[1;33m(\u001b[0m\u001b[0mplace_filter\u001b[0m\u001b[1;33m)\u001b[0m\u001b[1;33m]\u001b[0m\u001b[1;33m\u001b[0m\u001b[1;33m\u001b[0m\u001b[0m\n\u001b[0m\u001b[0;32m     57\u001b[0m \u001b[1;33m\u001b[0m\u001b[0m\n\u001b[0;32m     58\u001b[0m         \u001b[1;31m# journal.date = journal.date.apply(lambda d: d.strftime('%d.%m.%y'))\u001b[0m\u001b[1;33m\u001b[0m\u001b[1;33m\u001b[0m\u001b[1;33m\u001b[0m\u001b[0m\n",
      "\u001b[1;32mc:\\users\\mihail\\pycharmprojects\\work plan generator\\venv\\lib\\site-packages\\pandas\\core\\strings.py\u001b[0m in \u001b[0;36mwrapper\u001b[1;34m(self, *args, **kwargs)\u001b[0m\n\u001b[0;32m   1841\u001b[0m                 )\n\u001b[0;32m   1842\u001b[0m                 \u001b[1;32mraise\u001b[0m \u001b[0mTypeError\u001b[0m\u001b[1;33m(\u001b[0m\u001b[0mmsg\u001b[0m\u001b[1;33m)\u001b[0m\u001b[1;33m\u001b[0m\u001b[1;33m\u001b[0m\u001b[0m\n\u001b[1;32m-> 1843\u001b[1;33m             \u001b[1;32mreturn\u001b[0m \u001b[0mfunc\u001b[0m\u001b[1;33m(\u001b[0m\u001b[0mself\u001b[0m\u001b[1;33m,\u001b[0m \u001b[1;33m*\u001b[0m\u001b[0margs\u001b[0m\u001b[1;33m,\u001b[0m \u001b[1;33m**\u001b[0m\u001b[0mkwargs\u001b[0m\u001b[1;33m)\u001b[0m\u001b[1;33m\u001b[0m\u001b[1;33m\u001b[0m\u001b[0m\n\u001b[0m\u001b[0;32m   1844\u001b[0m \u001b[1;33m\u001b[0m\u001b[0m\n\u001b[0;32m   1845\u001b[0m         \u001b[0mwrapper\u001b[0m\u001b[1;33m.\u001b[0m\u001b[0m__name__\u001b[0m \u001b[1;33m=\u001b[0m \u001b[0mfunc_name\u001b[0m\u001b[1;33m\u001b[0m\u001b[1;33m\u001b[0m\u001b[0m\n",
      "\u001b[1;32mc:\\users\\mihail\\pycharmprojects\\work plan generator\\venv\\lib\\site-packages\\pandas\\core\\strings.py\u001b[0m in \u001b[0;36mcontains\u001b[1;34m(self, pat, case, flags, na, regex)\u001b[0m\n\u001b[0;32m   2700\u001b[0m     \u001b[1;32mdef\u001b[0m \u001b[0mcontains\u001b[0m\u001b[1;33m(\u001b[0m\u001b[0mself\u001b[0m\u001b[1;33m,\u001b[0m \u001b[0mpat\u001b[0m\u001b[1;33m,\u001b[0m \u001b[0mcase\u001b[0m\u001b[1;33m=\u001b[0m\u001b[1;32mTrue\u001b[0m\u001b[1;33m,\u001b[0m \u001b[0mflags\u001b[0m\u001b[1;33m=\u001b[0m\u001b[1;36m0\u001b[0m\u001b[1;33m,\u001b[0m \u001b[0mna\u001b[0m\u001b[1;33m=\u001b[0m\u001b[0mnp\u001b[0m\u001b[1;33m.\u001b[0m\u001b[0mnan\u001b[0m\u001b[1;33m,\u001b[0m \u001b[0mregex\u001b[0m\u001b[1;33m=\u001b[0m\u001b[1;32mTrue\u001b[0m\u001b[1;33m)\u001b[0m\u001b[1;33m:\u001b[0m\u001b[1;33m\u001b[0m\u001b[1;33m\u001b[0m\u001b[0m\n\u001b[0;32m   2701\u001b[0m         result = str_contains(\n\u001b[1;32m-> 2702\u001b[1;33m             \u001b[0mself\u001b[0m\u001b[1;33m.\u001b[0m\u001b[0m_parent\u001b[0m\u001b[1;33m,\u001b[0m \u001b[0mpat\u001b[0m\u001b[1;33m,\u001b[0m \u001b[0mcase\u001b[0m\u001b[1;33m=\u001b[0m\u001b[0mcase\u001b[0m\u001b[1;33m,\u001b[0m \u001b[0mflags\u001b[0m\u001b[1;33m=\u001b[0m\u001b[0mflags\u001b[0m\u001b[1;33m,\u001b[0m \u001b[0mna\u001b[0m\u001b[1;33m=\u001b[0m\u001b[0mna\u001b[0m\u001b[1;33m,\u001b[0m \u001b[0mregex\u001b[0m\u001b[1;33m=\u001b[0m\u001b[0mregex\u001b[0m\u001b[1;33m\u001b[0m\u001b[1;33m\u001b[0m\u001b[0m\n\u001b[0m\u001b[0;32m   2703\u001b[0m         )\n\u001b[0;32m   2704\u001b[0m         \u001b[1;32mreturn\u001b[0m \u001b[0mself\u001b[0m\u001b[1;33m.\u001b[0m\u001b[0m_wrap_result\u001b[0m\u001b[1;33m(\u001b[0m\u001b[0mresult\u001b[0m\u001b[1;33m,\u001b[0m \u001b[0mfill_value\u001b[0m\u001b[1;33m=\u001b[0m\u001b[0mna\u001b[0m\u001b[1;33m)\u001b[0m\u001b[1;33m\u001b[0m\u001b[1;33m\u001b[0m\u001b[0m\n",
      "\u001b[1;32mc:\\users\\mihail\\pycharmprojects\\work plan generator\\venv\\lib\\site-packages\\pandas\\core\\strings.py\u001b[0m in \u001b[0;36mstr_contains\u001b[1;34m(arr, pat, case, flags, na, regex)\u001b[0m\n\u001b[0;32m    342\u001b[0m             \u001b[0mflags\u001b[0m \u001b[1;33m|=\u001b[0m \u001b[0mre\u001b[0m\u001b[1;33m.\u001b[0m\u001b[0mIGNORECASE\u001b[0m\u001b[1;33m\u001b[0m\u001b[1;33m\u001b[0m\u001b[0m\n\u001b[0;32m    343\u001b[0m \u001b[1;33m\u001b[0m\u001b[0m\n\u001b[1;32m--> 344\u001b[1;33m         \u001b[0mregex\u001b[0m \u001b[1;33m=\u001b[0m \u001b[0mre\u001b[0m\u001b[1;33m.\u001b[0m\u001b[0mcompile\u001b[0m\u001b[1;33m(\u001b[0m\u001b[0mpat\u001b[0m\u001b[1;33m,\u001b[0m \u001b[0mflags\u001b[0m\u001b[1;33m=\u001b[0m\u001b[0mflags\u001b[0m\u001b[1;33m)\u001b[0m\u001b[1;33m\u001b[0m\u001b[1;33m\u001b[0m\u001b[0m\n\u001b[0m\u001b[0;32m    345\u001b[0m \u001b[1;33m\u001b[0m\u001b[0m\n\u001b[0;32m    346\u001b[0m         \u001b[1;32mif\u001b[0m \u001b[0mregex\u001b[0m\u001b[1;33m.\u001b[0m\u001b[0mgroups\u001b[0m \u001b[1;33m>\u001b[0m \u001b[1;36m0\u001b[0m\u001b[1;33m:\u001b[0m\u001b[1;33m\u001b[0m\u001b[1;33m\u001b[0m\u001b[0m\n",
      "\u001b[1;32m~\\AppData\\Local\\Programs\\Python\\Python37-32\\lib\\re.py\u001b[0m in \u001b[0;36mcompile\u001b[1;34m(pattern, flags)\u001b[0m\n\u001b[0;32m    232\u001b[0m \u001b[1;32mdef\u001b[0m \u001b[0mcompile\u001b[0m\u001b[1;33m(\u001b[0m\u001b[0mpattern\u001b[0m\u001b[1;33m,\u001b[0m \u001b[0mflags\u001b[0m\u001b[1;33m=\u001b[0m\u001b[1;36m0\u001b[0m\u001b[1;33m)\u001b[0m\u001b[1;33m:\u001b[0m\u001b[1;33m\u001b[0m\u001b[1;33m\u001b[0m\u001b[0m\n\u001b[0;32m    233\u001b[0m     \u001b[1;34m\"Compile a regular expression pattern, returning a Pattern object.\"\u001b[0m\u001b[1;33m\u001b[0m\u001b[1;33m\u001b[0m\u001b[0m\n\u001b[1;32m--> 234\u001b[1;33m     \u001b[1;32mreturn\u001b[0m \u001b[0m_compile\u001b[0m\u001b[1;33m(\u001b[0m\u001b[0mpattern\u001b[0m\u001b[1;33m,\u001b[0m \u001b[0mflags\u001b[0m\u001b[1;33m)\u001b[0m\u001b[1;33m\u001b[0m\u001b[1;33m\u001b[0m\u001b[0m\n\u001b[0m\u001b[0;32m    235\u001b[0m \u001b[1;33m\u001b[0m\u001b[0m\n\u001b[0;32m    236\u001b[0m \u001b[1;32mdef\u001b[0m \u001b[0mpurge\u001b[0m\u001b[1;33m(\u001b[0m\u001b[1;33m)\u001b[0m\u001b[1;33m:\u001b[0m\u001b[1;33m\u001b[0m\u001b[1;33m\u001b[0m\u001b[0m\n",
      "\u001b[1;32m~\\AppData\\Local\\Programs\\Python\\Python37-32\\lib\\re.py\u001b[0m in \u001b[0;36m_compile\u001b[1;34m(pattern, flags)\u001b[0m\n\u001b[0;32m    283\u001b[0m         \u001b[1;32mreturn\u001b[0m \u001b[0mpattern\u001b[0m\u001b[1;33m\u001b[0m\u001b[1;33m\u001b[0m\u001b[0m\n\u001b[0;32m    284\u001b[0m     \u001b[1;32mif\u001b[0m \u001b[1;32mnot\u001b[0m \u001b[0msre_compile\u001b[0m\u001b[1;33m.\u001b[0m\u001b[0misstring\u001b[0m\u001b[1;33m(\u001b[0m\u001b[0mpattern\u001b[0m\u001b[1;33m)\u001b[0m\u001b[1;33m:\u001b[0m\u001b[1;33m\u001b[0m\u001b[1;33m\u001b[0m\u001b[0m\n\u001b[1;32m--> 285\u001b[1;33m         \u001b[1;32mraise\u001b[0m \u001b[0mTypeError\u001b[0m\u001b[1;33m(\u001b[0m\u001b[1;34m\"first argument must be string or compiled pattern\"\u001b[0m\u001b[1;33m)\u001b[0m\u001b[1;33m\u001b[0m\u001b[1;33m\u001b[0m\u001b[0m\n\u001b[0m\u001b[0;32m    286\u001b[0m     \u001b[0mp\u001b[0m \u001b[1;33m=\u001b[0m \u001b[0msre_compile\u001b[0m\u001b[1;33m.\u001b[0m\u001b[0mcompile\u001b[0m\u001b[1;33m(\u001b[0m\u001b[0mpattern\u001b[0m\u001b[1;33m,\u001b[0m \u001b[0mflags\u001b[0m\u001b[1;33m)\u001b[0m\u001b[1;33m\u001b[0m\u001b[1;33m\u001b[0m\u001b[0m\n\u001b[0;32m    287\u001b[0m     \u001b[1;32mif\u001b[0m \u001b[1;32mnot\u001b[0m \u001b[1;33m(\u001b[0m\u001b[0mflags\u001b[0m \u001b[1;33m&\u001b[0m \u001b[0mDEBUG\u001b[0m\u001b[1;33m)\u001b[0m\u001b[1;33m:\u001b[0m\u001b[1;33m\u001b[0m\u001b[1;33m\u001b[0m\u001b[0m\n",
      "\u001b[1;31mTypeError\u001b[0m: first argument must be string or compiled pattern"
     ],
     "ename": "TypeError",
     "evalue": "first argument must be string or compiled pattern",
     "output_type": "error"
    }
   ],
   "source": [
    "batch_journal_generator(df_jobs, JournalASU, batch_ASU_journals)\n"
   ],
   "metadata": {
    "collapsed": false,
    "pycharm": {
     "name": "#%%\n",
     "is_executing": false
    }
   }
  },
  {
   "cell_type": "code",
   "execution_count": 129,
   "outputs": [],
   "source": [
    "columns = ('date', 'system', 'object', 'place', 'work_type', 'tech_map', 'equip_name', 'performer', )\n",
    "result = pd.DataFrame(columns=columns,\n",
    "                      data = ((j.date, j.system, j.object, j.place, j.work_type, \n",
    "                               j.tech_map, j.equip_name, j.performer) \n",
    "                              for j in jobs))"
   ],
   "metadata": {
    "collapsed": false,
    "pycharm": {
     "name": "#%%\n",
     "is_executing": false
    }
   }
  },
  {
   "cell_type": "code",
   "execution_count": 125,
   "outputs": [],
   "source": [
    "result = df_jobs"
   ],
   "metadata": {
    "collapsed": false,
    "pycharm": {
     "name": "#%%\n",
     "is_executing": false
    }
   }
  },
  {
   "cell_type": "code",
   "execution_count": 121,
   "outputs": [],
   "source": [
    "result[result.isna().any(axis=1)]\n"
   ],
   "metadata": {
    "collapsed": false,
    "pycharm": {
     "name": "#%%\n",
     "is_executing": false
    }
   }
  },
  {
   "cell_type": "code",
   "execution_count": 132,
   "outputs": [],
   "source": [
    "result[result.system == Systems.ASU_TP]\\\n",
    "    [result.object == Objects.S1]\\\n",
    "    .drop(['system', 'object'], axis=1)\\\n",
    "    .reindex(columns=['date', 'place', 'work_type', 'tech_map', 'performer'])\\\n",
    "    .sort_values(by=['date', 'place', 'work_type'])\n",
    "    # .to_excel(r'asu_i_zu_test.xlsx')\n",
    "    \n",
    "# result.performer.apply(lambda w:w.last_name)"
   ],
   "metadata": {
    "collapsed": false,
    "pycharm": {
     "name": "#%%\n",
     "is_executing": false
    }
   }
  },
  {
   "cell_type": "code",
   "execution_count": null,
   "outputs": [],
   "source": [
    "# VOLS journal\n",
    "result[result.system == Systems.VOLS]\\\n",
    "    .drop(['system', 'object', 'performer'], axis=1)\\\n",
    "    .reindex(columns=['date', 'place', 'work_type', 'tech_map'])\\\n",
    "    .sort_values(by=['date', 'place', 'work_type'])\\\n",
    "    .to_excel(r'vols_test.xlsx')"
   ],
   "metadata": {
    "collapsed": false,
    "pycharm": {
     "name": "#%%\n"
    }
   }
  },
  {
   "cell_type": "code",
   "execution_count": 1,
   "outputs": [],
   "source": [],
   "metadata": {
    "collapsed": false,
    "pycharm": {
     "name": "#%%\n",
     "is_executing": false
    }
   }
  },
  {
   "cell_type": "code",
   "execution_count": null,
   "outputs": [],
   "source": [],
   "metadata": {
    "collapsed": false,
    "pycharm": {
     "name": "#%%\n"
    }
   }
  }
 ],
 "metadata": {
  "language_info": {
   "codemirror_mode": {
    "name": "ipython",
    "version": 2
   },
   "file_extension": ".py",
   "mimetype": "text/x-python",
   "name": "python",
   "nbconvert_exporter": "python",
   "pygments_lexer": "ipython2",
   "version": "2.7.6"
  },
  "kernelspec": {
   "name": "python3",
   "language": "python",
   "display_name": "Python 3"
  },
  "pycharm": {
   "stem_cell": {
    "cell_type": "raw",
    "source": [],
    "metadata": {
     "collapsed": false
    }
   }
  }
 },
 "nbformat": 4,
 "nbformat_minor": 0
}